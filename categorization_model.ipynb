{
 "cells": [
  {
   "cell_type": "code",
   "execution_count": 2,
   "metadata": {},
   "outputs": [],
   "source": [
    "import pandas as pd\n",
    "import numpy as np\n",
    "import plotly.express as px\n",
    "import plotly.graph_objects as go\n",
    "import re\n",
    "import ast\n",
    "import matplotlib.pyplot as plt\n"
   ]
  },
  {
   "cell_type": "code",
   "execution_count": 4,
   "metadata": {},
   "outputs": [],
   "source": [
    "class ProductCategorizer:\n",
    "    def __init__(self):\n",
    "        self.categories = {\n",
    "            'Tablet': {\n",
    "                'brands': ['ipad'],\n",
    "                'identifiers': ['tablet']\n",
    "            },\n",
    "            'Smartphone': {\n",
    "                'brands': ['iphone', 'huawei', 'xiaomi'],\n",
    "                'identifiers': ['galaxy', 'smartphone', 'phone']\n",
    "            },\n",
    "            'Consola': {\n",
    "                'brands': ['sony', 'xbox'],\n",
    "                'identifiers': ['ps4', 'ps5', 'xbox one']\n",
    "            },\n",
    "            'Computador': {\n",
    "                'brands': ['macbook', 'asus', 'lenovo', 'hp', 'dell', 'microsoft', 'acer'],\n",
    "                'identifiers': ['laptop', 'notebook', 'pc', 'portatil', 'gaming']\n",
    "            },\n",
    "            'Acessorios': {\n",
    "                'items': ['capa', 'carregador', 'fones', 'fone', 'película', 'pelicula', \n",
    "                         'protetor', 'volante', 'comando', 'auricular', 'cabo']\n",
    "            },\n",
    "            'Eletrodomesticos': {\n",
    "                'brands': ['samsung', 'lg', 'whirlpool', 'bosch', 'siemens', 'electrolux', 'nespresso', 'delonghi', 'delta', 'krups'],\n",
    "                'identifiers': ['frigorifico', 'maquina de lavar', 'maquina de secar', 'forno', 'microondas', 'maquina de cafe']\n",
    "            },\n",
    "        }\n",
    "        \n",
    "    def clean_text(self, text):\n",
    "        \"\"\"Limpa e normaliza o texto para melhor comparação\"\"\"\n",
    "        text = text.lower()\n",
    "        text = text.replace('ç', 'c').replace('ã', 'a').replace('õ', 'o')\n",
    "        return text\n",
    "    \n",
    "    def is_accessory_for_brand(self, title):\n",
    "        \"\"\"Verifica se é um acessório específico para alguma marca\"\"\"\n",
    "        clean_title = self.clean_text(title)\n",
    "        \n",
    "        is_accessory = any(acc in clean_title for acc in self.categories['Acessorios']['items'])\n",
    "        \n",
    "        if is_accessory:\n",
    "            return True\n",
    "        return False\n",
    "    \n",
    "    def categorize_product(self, title):\n",
    "        \"\"\"Categoriza um produto baseado no seu título\"\"\"\n",
    "        clean_title = self.clean_text(title)\n",
    "        \n",
    "        if self.is_accessory_for_brand(title):\n",
    "            return 'Acessorios'\n",
    "        \n",
    "        for category, rules in self.categories.items():\n",
    "            if category == 'Acessorios':\n",
    "                continue\n",
    "                \n",
    "            has_brand = any(brand in clean_title for brand in rules.get('brands', []))\n",
    "            has_identifier = any(identifier in clean_title for identifier in rules.get('identifiers', []))\n",
    "            \n",
    "            if category == 'Smartphone':\n",
    "                if 'galaxy' in clean_title or 'iphone' in clean_title:\n",
    "                    return category\n",
    "            \n",
    "            if has_brand or has_identifier:\n",
    "                return category\n",
    "                \n",
    "        return 'Outros' \n",
    "\n",
    "    def categorize_dataset(self, df):\n",
    "        \"\"\"Categoriza um DataFrame inteiro\"\"\"\n",
    "        df['categoria'] = df['title'].apply(self.categorize_product)\n",
    "        return df\n",
    "\n"
   ]
  },
  {
   "cell_type": "code",
   "execution_count": 5,
   "metadata": {},
   "outputs": [
    {
     "name": "stdout",
     "output_type": "stream",
     "text": [
      "                                            title         categoria\n",
      "0                Samsung Galaxy S10e G970FZ Verde        Smartphone\n",
      "1              Samsung Galaxy S10e G970FZ Amarelo        Smartphone\n",
      "2   Smartphone Samsung Galaxy S10E \" 128Gb Branco        Smartphone\n",
      "3                         iphone 11 pro max 256gb        Smartphone\n",
      "4        Huawei P30 Pro 8GB/256GB Dual Sim Aurora        Smartphone\n",
      "5    Capa Samsung Silicone para Galaxy S10+ Preto        Acessorios\n",
      "6    Capa Samsung Led View para Galaxy S10+ Preto        Acessorios\n",
      "7                            MacBook Pro 13\" 2020        Computador\n",
      "8    Capa Samsung Silicone para Galaxy S10+ Verde        Acessorios\n",
      "9                              ipad pro 12.9 2020            Tablet\n",
      "10                              nespresso inissia  Eletrodomesticos\n"
     ]
    }
   ],
   "source": [
    "categorizer = ProductCategorizer()\n",
    "\n",
    "data = {\n",
    "    'site': ['www.fnac.pt'] * 11,\n",
    "    'date': ['20191118'] * 11,\n",
    "    'title': [\n",
    "        'Samsung Galaxy S10e G970FZ Verde',\n",
    "        'Samsung Galaxy S10e G970FZ Amarelo',\n",
    "        'Smartphone Samsung Galaxy S10E \" 128Gb Branco',\n",
    "        'iphone 11 pro max 256gb',\n",
    "        'Huawei P30 Pro 8GB/256GB Dual Sim Aurora',\n",
    "        'Capa Samsung Silicone para Galaxy S10+ Preto',\n",
    "        'Capa Samsung Led View para Galaxy S10+ Preto',\n",
    "        'MacBook Pro 13\" 2020',\n",
    "        'Capa Samsung Silicone para Galaxy S10+ Verde',\n",
    "        'ipad pro 12.9 2020',\n",
    "        'nespresso inissia',\n",
    "    ]\n",
    "}\n",
    "\n",
    "df = pd.DataFrame(data)\n",
    "df_categorized = categorizer.categorize_dataset(df)\n",
    "print(df_categorized[['title', 'categoria']])\n"
   ]
  },
  {
   "cell_type": "code",
   "execution_count": 11,
   "metadata": {},
   "outputs": [
    {
     "name": "stdout",
     "output_type": "stream",
     "text": [
      "(925, 5)\n",
      "(924, 5)\n"
     ]
    },
    {
     "ename": "NameError",
     "evalue": "name 'ProductCategorizer' is not defined",
     "output_type": "error",
     "traceback": [
      "\u001b[0;31m---------------------------------------------------------------------------\u001b[0m",
      "\u001b[0;31mNameError\u001b[0m                                 Traceback (most recent call last)",
      "Cell \u001b[0;32mIn[11], line 5\u001b[0m\n\u001b[1;32m      3\u001b[0m df \u001b[38;5;241m=\u001b[39m df\u001b[38;5;241m.\u001b[39mdropna(subset\u001b[38;5;241m=\u001b[39m[\u001b[38;5;124m'\u001b[39m\u001b[38;5;124mtitle\u001b[39m\u001b[38;5;124m'\u001b[39m])\n\u001b[1;32m      4\u001b[0m \u001b[38;5;28mprint\u001b[39m(df\u001b[38;5;241m.\u001b[39mshape) \n\u001b[0;32m----> 5\u001b[0m categorizer \u001b[38;5;241m=\u001b[39m \u001b[43mProductCategorizer\u001b[49m()\n\u001b[1;32m      6\u001b[0m df_categorized \u001b[38;5;241m=\u001b[39m categorizer\u001b[38;5;241m.\u001b[39mcategorize_dataset(df)\n\u001b[1;32m      7\u001b[0m df_categorized\u001b[38;5;241m.\u001b[39mto_csv(\u001b[38;5;124m\"\u001b[39m\u001b[38;5;124mall_prices_extracted_cleaned_categorized.csv\u001b[39m\u001b[38;5;124m\"\u001b[39m, index\u001b[38;5;241m=\u001b[39m\u001b[38;5;28;01mFalse\u001b[39;00m)\n",
      "\u001b[0;31mNameError\u001b[0m: name 'ProductCategorizer' is not defined"
     ]
    }
   ],
   "source": [
    "df = pd.read_csv(\"all_prices_extracted_cleaned.csv\")\n",
    "print(df.shape)\n",
    "df = df.dropna(subset=['title'])\n",
    "print(df.shape) \n",
    "categorizer = ProductCategorizer()\n",
    "df_categorized = categorizer.categorize_dataset(df)\n",
    "df_categorized.to_csv(\"all_prices_extracted_cleaned_categorized.csv\", index=False)"
   ]
  },
  {
   "cell_type": "markdown",
   "metadata": {},
   "source": [
    "___________________________________________________________________________________________________________________________________________\n"
   ]
  },
  {
   "cell_type": "markdown",
   "metadata": {},
   "source": [
    "\n",
    "Quero extrair informações em diferentes níveis:\n",
    "\n",
    "- Categoria - ja existe\n",
    "- Marca tenho extrair do titulo\n",
    "- Modelo (com detalhes específicos por marca)\n",
    "- Site\n",
    "- Promoção\n",
    "\n",
    "\n",
    "Para cada nível, analisa:\n",
    "\n",
    "Distribuição de produtos\n",
    "Preços médios\n",
    "Características específicas\n",
    "Relações entre níveis\n",
    "....\n",
    "\n"
   ]
  },
  {
   "cell_type": "markdown",
   "metadata": {},
   "source": [
    "___________________________________________________________________________________________________________________________________________"
   ]
  },
  {
   "cell_type": "code",
   "execution_count": 18,
   "metadata": {},
   "outputs": [],
   "source": [
    "class ProductAnalyzer:\n",
    "    def __init__(self):\n",
    "        self.brand_patterns = { \n",
    "            'hp': r'hp|omen by hp|pavilion', \n",
    "            'msi': r'msi', \n",
    "            'samsung': r'samsung|galaxy|note|galaxy\\s*d+|galaxy\\s*a\\d+', \n",
    "            'apple': r'apple|iphone|ipad|macbook|mac|apple\\sair', \n",
    "            'huawei': r'huawei|huawei\\s*p\\d+|mate\\s?\\d+', \n",
    "            'sony': r'sony|playstation|ps[0-9]', \n",
    "            'xiaomi': r'xiaomi|mi\\s|redmi', \n",
    "            'asus': r'asus|rog|zenfone|zenbook|tuf|vivobook', \n",
    "            'lenovo': r'lenovo|thinkpad|ideapad|lenovo\\slegion|yoga', \n",
    "            'dell': r'dell|inspiron|xps|latitude|alienware',\n",
    "            'acer': r'acer|aspire|predator|nitro|swift', \n",
    "            'lg': r'lg|gram|v\\d+|k\\d+', \n",
    "            'motorola': r'motorola|motos\\s|\\sg\\d+|\\sz\\d+', \n",
    "            'oneplus': r'oneplus|1\\+\\d+', \n",
    "            'google': r'google|pixel', \n",
    "            'microsoft': r'microsoft|surface', \n",
    "            'razer': r'razer|blade',\n",
    "            'xbox' : r'xbox|series\\s?x|series\\s?s|xbox\\sone|xbox\\s360',\n",
    "            'tcl' : r'tcl',\n",
    "            'jbl' : r'jbl',\n",
    "            'logitech' : r'logitech',\n",
    "            'delonghi' : r'delonghi',\n",
    "            'philips' : r'philips',\n",
    "            'delta' : r'delta|delta\\sq',\n",
    "            'krups' : r'krups',\n",
    "            'oppo' : r'oppo',\n",
    "        }\n",
    "\n",
    "        self.model_patterns = {\n",
    "            'delonghi': {\n",
    "            'essenza': r'essenza',\n",
    "            'en': r'en\\s*(\\d+)',\n",
    "            'inissia': r'inissia',\n",
    "            'essenza_mini': r'essenza\\s*mini',\n",
    "            'lattissima': r'lattissima',\n",
    "            },\n",
    "            'delta' : {\n",
    "            'q': r'qool | quick',\n",
    "            },\n",
    "            'krups' : {\n",
    "            'essenza': r'essenza',\n",
    "            'en': r'en\\s*(\\d+)',\n",
    "            'inissia': r'inissia',\n",
    "            'essenza_mini': r'essenza\\s*mini',\n",
    "            'lattissima': r'lattissima',\n",
    "            'gusto': r'gusto',\n",
    "            },\n",
    "            'apple': {\n",
    "            'iphone': r'iphone\\s*(\\d+|x\\s|xr|xs|pro|max|mini|se)',\n",
    "            'ipad': r'ipad\\s*(\\d+|pro|air|mini)',\n",
    "            'macbook': r'macbook\\s*(air|pro|12)',\n",
    "            },\n",
    "            'samsung': {\n",
    "            'galaxy_s': r'galaxy\\s?s(\\d{1,2})',\n",
    "            'galaxy_a': r'galaxy\\s?a(\\d{1,2})',\n",
    "            },\n",
    "            'huawei': {\n",
    "            'p': r'p\\s*(\\d+)', \n",
    "            'mate': r'mate\\s*(\\d+)',\n",
    "            'nova': r'nova\\s*(\\d+)',\n",
    "            },\n",
    "            'hp': {\n",
    "            'omen': r'\\s*omen\\s*',\n",
    "            'pavilion': r'pavilion\\s*(\\d+)|pavilion',\n",
    "            'envy': r'envy\\s*(\\d+) | envy',\n",
    "            'spectre': r'spectre\\s*(\\d+) | spectre',\n",
    "            'stream' : r'stream\\s*(\\d+)',\n",
    "            },\n",
    "            'acer': {\n",
    "            'aspire': r'aspire\\s*(\\d+)',\n",
    "            'predator': r'predator\\s*(\\d+)',\n",
    "            'nitro': r'nitro\\s*(\\d+)',\n",
    "            'swift': r'swift\\s*(\\d+)',\n",
    "            },\n",
    "            'microsoft': {\n",
    "            'surface': r'surface\\s*(go|pro|x|laptop)',\n",
    "            },\n",
    "            'dell': {\n",
    "            'inspiron': r'inspiron|inspiron\\s*(\\d+)',\n",
    "            'xps': r'xps\\s*(\\d+) | xps',\n",
    "            'latitude': r'latitude\\s*(\\d+)',\n",
    "            'alienware': r'alienware\\s*(\\d+)',\n",
    "            },\n",
    "            'asus': {\n",
    "            'rog': r'rog\\s*(\\d+) | rog',\n",
    "            'zenbook': r'zenbook\\s*(\\d+) | zenbook',\n",
    "            'vivobook': r'vivobook\\s*(\\d+) | vivobook',\n",
    "            'tuf': r'tuf\\s*(\\d+) | tuf',\n",
    "            },\n",
    "            'lenovo': {\n",
    "            'thinkpad': r'thinkpad\\s*(\\d+)| thinkpad',\n",
    "            'ideapad': r'ideapad | ideapad\\s*(\\d+)',\n",
    "            'legion': r'legion | legion\\s*(\\d+)',\n",
    "            'yoga': r'yoga|yoga\\s*(\\d+)',\n",
    "            },\n",
    "            'xiaomi': {\n",
    "            'mi': r'mi\\s*(\\d+)',\n",
    "            'redmi': r'redmi\\s*(\\d+)',\n",
    "            'poco': r'poco\\s*(\\d+)',\n",
    "            },\n",
    "            'sony': {\n",
    "            'xperia': r'xperia\\s*(\\d+)',\n",
    "            'ps4 slim': r'ps4\\s*slim',\n",
    "            'ps4 pro': r'ps4\\s*pro',\n",
    "            },\n",
    "            'xbox': {\n",
    "            'one': r'one\\s*(x|s)?',\n",
    "            'series': r'series\\s*(x|s)?',\n",
    "            },\n",
    "        }\n",
    "        \n",
    "        self.color_patterns = {\n",
    "            'preto': r'preto|black|negro',\n",
    "            'branco': r'branco|white',\n",
    "            'prata': r'prata|silver|cinzento|gray',\n",
    "            'prateado' : r'prateado|silver|cinzento',\n",
    "            'dourado': r'dourado|gold|amarelo|yellow',\n",
    "            'azul': r'azul|blue',\n",
    "            'verde': r'verde|green',\n",
    "            'vermelho': r'vermelho|red',\n",
    "            'rosa': r'rosa|pink',\n",
    "            'roxo': r'roxo|purple',\n",
    "            'laranja': r'laranja|orange',\n",
    "            'castanho': r'marrom|castanho|brown',\n",
    "            'cinzento': r'cinza|grey',\n",
    "        }\n",
    "    def process_prices(self, price_list_str):\n",
    "        \"\"\"Processa a lista de preços usando ast.literal_eval\"\"\"\n",
    "        try:\n",
    "            prices = ast.literal_eval(price_list_str)\n",
    "            return prices if isinstance(prices, list) else [prices]\n",
    "        except:\n",
    "            return []\n",
    "        \n",
    "    def get_price_metrics(self, prices):\n",
    "        \"\"\"Calcula métricas de preço para uma lista de preços\"\"\"\n",
    "        if not prices:\n",
    "            return {\n",
    "                'min_price': None,\n",
    "                'max_price': None,\n",
    "                'avg_price': None,\n",
    "                'price_variation': None,\n",
    "                'discount_percent': None\n",
    "            }\n",
    "            \n",
    "        metrics = {\n",
    "            'min_price': min(prices),\n",
    "            'max_price': max(prices),\n",
    "            'avg_price': np.mean(prices),\n",
    "            'price_variation': np.std(prices) if len(prices) > 1 else 0,\n",
    "            'discount_percent': ((max(prices) - min(prices)) / max(prices) * 100) if len(prices) > 1 else 0\n",
    "        }\n",
    "        return metrics\n",
    "    \n",
    "    def extract_brand(self, title):\n",
    "        \"\"\"Extrai a marca do título do produto.\"\"\"\n",
    "        title = title.lower()\n",
    "        if 'gaming' in title:\n",
    "            title = title.replace('gaming', '')\n",
    "        for brand, pattern in self.brand_patterns.items():\n",
    "            if re.search(pattern, title, re.IGNORECASE):\n",
    "                return brand\n",
    "        return 'Outras'\n",
    "    \n",
    "    def extract_model_info(self, title, brand):\n",
    "        \"\"\"Extrai o modelo do título do produto com base na marca.\"\"\"\n",
    "        title = title.lower()\n",
    "        if 'gaming' in title:\n",
    "            title = title.replace('gaming', '')\n",
    "        model_info = {'raw_title': title, 'brand': brand}\n",
    "        brand_patterns = self.model_patterns.get(brand, {})\n",
    "        for model, pattern in brand_patterns.items():\n",
    "            match = re.search(pattern, title)\n",
    "            if match:\n",
    "                sub_model = match.group(1) if match.groups() else None\n",
    "                return model, sub_model, f\"{model} {sub_model}\" if sub_model else model\n",
    "        return None, None, None  \n",
    "    \n",
    "    def extract_color(self, title):\n",
    "        \"\"\"Extrai a cor do título do produto.\"\"\"\n",
    "        title = title.lower()\n",
    "        for color, pattern in self.color_patterns.items():\n",
    "            if re.search(pattern, title):\n",
    "                return color\n",
    "        return None\n",
    "    \n",
    "    def extract_HDD_size(self, title):\n",
    "        # extrai o tamanho do disco rígido \n",
    "        # nn GB ou nn TB, nnn GB ou nnn TB, nnGB ou nnTB, nnnGB ou nnnTB\n",
    "        title = title.lower()\n",
    "        match = re.search(r'(\\d+)\\s?(tb|gb)', title)\n",
    "        if match:\n",
    "            size = int(match.group(1))\n",
    "            return size if size > 32 else None\n",
    "        return None\n",
    "    \n",
    "    def extract_RAM_size(self, title):\n",
    "        # extrai o tamanho da memória RAM \n",
    "        # nn GB\n",
    "        title = title.lower()\n",
    "        match = re.search(r'(\\d+)\\s?gb', title)\n",
    "        if match:\n",
    "            size = int(match.group(1))\n",
    "            return size if size <=32 else None\n",
    "        return None\n",
    "        \n",
    "    \n",
    "    def compare_by_category(self, df):\n",
    "        category_comparison = {\n",
    "            'total_products': df.groupby('categoria').size(),\n",
    "            'avg_price': df.groupby('categoria')['min_price'].mean(),\n",
    "            'price_range': df.groupby('categoria').agg({\n",
    "                'min_price': ['min', 'max'],\n",
    "                'avg_price': 'mean'\n",
    "            }),\n",
    "            'brand_distribution': df.groupby(['categoria', 'brand']).size().unstack(fill_value=0)\n",
    "        }\n",
    "        return category_comparison\n",
    "    \n",
    "    def compare_by_brand(self, df):\n",
    "        brand_comparison = {\n",
    "            'product_count': df.groupby(['categoria', 'brand']).size(),\n",
    "            'avg_price_by_category': df.groupby(['categoria', 'brand'])['avg_price'].mean(),\n",
    "            'price_range_by_category': df.groupby(['categoria', 'brand']).agg({\n",
    "                'min_price': ['min', 'max'],\n",
    "                'max_price': ['min', 'max']\n",
    "            }),\n",
    "            'discount_comparison': df.groupby('brand')['discount_percent'].mean(),\n",
    "            'site_presence': df.groupby(['brand', 'site']).size().unstack(fill_value=0)\n",
    "        }\n",
    "        return brand_comparison\n",
    "    \n",
    "    def compare_by_color(self, df):\n",
    "        df['color'] = df['title'].apply(self.extract_color)\n",
    "        color_comparison = {\n",
    "            'total_products': df.groupby('color').size(),\n",
    "            'avg_price': df.groupby('color')['min_price'].mean(),\n",
    "            'price_range': df.groupby('color').agg({\n",
    "                'min_price': ['min', 'max'],\n",
    "                'avg_price': 'mean'\n",
    "            }),\n",
    "            'brand_distribution': df.groupby(['color', 'brand']).size().unstack(fill_value=0)\n",
    "        }\n",
    "        return color_comparison\n",
    "    \n",
    "    def compare_models(self, df):\n",
    "        model_comparison = {\n",
    "            'total_products': df.groupby('brand_model').size(),\n",
    "            'avg_price': df.groupby('brand_model')['min_price'].mean(),\n",
    "            'price_range': df.groupby('brand_model').agg({\n",
    "                'min_price': ['min', 'max'],\n",
    "                'avg_price': 'mean'\n",
    "            }),\n",
    "            'brand_distribution': df.groupby(['brand_model', 'brand']).size().unstack(fill_value=0)\n",
    "        }\n",
    "        return model_comparison\n",
    "    \n",
    "\n",
    "    def compare_by_price_range(self, df):\n",
    "        bins = [0, 500, 1000, 1500, 2000, 3000, 5000, float('inf')]\n",
    "        labels = ['0-500', '500-1000', '1000-1500', '1500-2000', '2000-3000', '3000-5000', '5000+']\n",
    "        df['price_range'] = pd.cut(df['min_price'], bins=bins, labels=labels)\n",
    "        price_range_comparison = {\n",
    "            'total_products': df.groupby('price_range').size(),\n",
    "            'avg_price': df.groupby('price_range')['min_price'].mean(),\n",
    "            'brand_distribution': df.groupby(['price_range', 'brand']).size().unstack(fill_value=0)\n",
    "        }\n",
    "        return price_range_comparison\n",
    "    \n",
    "    def compare_temporal_analysis(self, df):\n",
    "        \"\"\"\n",
    "        Realiza uma análise temporal dos preços por produto e site.\n",
    "        \"\"\"\n",
    "        if 'date' not in df.columns or df['date'].isna().all():\n",
    "            raise ValueError(\"O dataset não possui informações de data suficientes para a análise temporal.\")\n",
    "        \n",
    "        df['date'] = pd.to_datetime(df['date'], format='%Y%m%d', errors='coerce')\n",
    "        if df['date'].isna().all():\n",
    "            raise ValueError(\"Não foi possível converter as datas para o formato datetime.\")\n",
    "        \n",
    "        required_columns = ['site', 'brand', 'title', 'min_price', 'discount_percent']\n",
    "        for col in required_columns:\n",
    "            if col not in df.columns:\n",
    "                raise ValueError(f\"A coluna obrigatória '{col}' não está presente no dataset.\")\n",
    "        \n",
    "        temporal_data = df.groupby(['site', 'brand','brand_model' ,'color', 'HDD_size', 'date']).agg({\n",
    "            'min_price': 'mean', \n",
    "            'discount_percent': 'mean' \n",
    "        }).reset_index()\n",
    "        \n",
    "        temporal_data = temporal_data.sort_values(by=['site', 'brand_model', 'date'])\n",
    "        \n",
    "        temporal_data['price_change_percent'] = temporal_data.groupby(['site','brand', 'brand_model', 'color', 'HDD_size'])['min_price'].pct_change() * 100\n",
    "        \n",
    "        summary = temporal_data.groupby(['site','brand', 'brand_model', 'color', 'HDD_size']).agg({\n",
    "            'price_change_percent': ['mean', 'std'],  \n",
    "            'min_price': ['min', 'max', 'mean'], \n",
    "            'discount_percent': 'mean'  \n",
    "        }).reset_index()\n",
    "\n",
    "        # Ajustar os nomes das colunas no resumo\n",
    "        summary.columns = ['site','brand', 'brand_model', 'color', 'HDD_size', 'mean_price_change', 'std_price_change', \n",
    "                        'min_price', 'max_price', 'avg_price', 'avg_discount']\n",
    "        \n",
    "        return temporal_data, summary\n",
    "    \n",
    "    def analyze_dataset(self, df):\n",
    "        \"\"\"\n",
    "        Processa um dataset de produtos e realiza diversas análises, incluindo comparações\n",
    "        por categoria, marca, cor, site e data, além de detalhes do modelo.\n",
    "        \"\"\"\n",
    "        df = df.copy()\n",
    "        \n",
    "        # Processar preços\n",
    "        df['price_list'] = df['extractedData'].apply(self.process_prices)\n",
    "        \n",
    "        # Calcular métricas de preço\n",
    "        price_metrics = df['price_list'].apply(self.get_price_metrics)\n",
    "        price_metrics_df = pd.DataFrame(price_metrics.tolist())\n",
    "        df = pd.concat([df, price_metrics_df], axis=1)\n",
    "\n",
    "        df['brand'] = df['title'].apply(self.extract_brand)\n",
    "        df[['model', 'sub_model', 'brand_model']] = pd.DataFrame(\n",
    "            df.apply(lambda x: self.extract_model_info(x['title'], x['brand']), axis=1).tolist(),\n",
    "            index=df.index\n",
    "        )\n",
    "        df['color'] = df['title'].apply(self.extract_color)\n",
    "        df['HDD_size'] = df['title'].apply(self.extract_HDD_size)\n",
    "        df['RAM_size'] = df['title'].apply(self.extract_RAM_size)\n",
    "\n",
    "        # Extrair detalhes do modelo\n",
    "        df['model_details'] = df.apply(\n",
    "        lambda x: self.extract_model_info(x['title'], x['brand']), axis=1\n",
    "        )\n",
    "\n",
    "        # Comparações agregadas\n",
    "        comparisons = {\n",
    "            'by_category': self.compare_by_category(df),\n",
    "            'by_brand': self.compare_by_brand(df),\n",
    "            'by_color': self.compare_by_color(df),\n",
    "            'by_site': df.groupby('site').agg({\n",
    "                'min_price': ['min', 'max', 'mean'],\n",
    "                'discount_percent': 'mean',\n",
    "            }),\n",
    "            'by_date': df.groupby('date').agg({\n",
    "                'min_price': ['min', 'max', 'mean'],\n",
    "                'discount_percent': 'mean',\n",
    "            }),\n",
    "            'by_model': self.compare_models(df),\n",
    "            'by_HDD': df.groupby('HDD_size').agg({\n",
    "                'min_price': ['min', 'max', 'mean'],\n",
    "                'discount_percent': 'mean',\n",
    "            }),\n",
    "            'by_RAM': df.groupby('RAM_size').agg({\n",
    "                'min_price': ['min', 'max', 'mean'],\n",
    "                'discount_percent': 'mean',\n",
    "            }),\n",
    "            'by_price_range': self.compare_by_price_range(df),\n",
    "        }\n",
    "\n",
    "        return df, comparisons\n",
    "\n",
    "\n"
   ]
  },
  {
   "cell_type": "code",
   "execution_count": 19,
   "metadata": {},
   "outputs": [
    {
     "name": "stderr",
     "output_type": "stream",
     "text": [
      "/tmp/ipykernel_2362918/441884213.py:267: FutureWarning: The default of observed=False is deprecated and will be changed to True in a future version of pandas. Pass observed=False to retain current behavior or observed=True to adopt the future default and silence this warning.\n",
      "  'total_products': df.groupby('price_range').size(),\n",
      "/tmp/ipykernel_2362918/441884213.py:268: FutureWarning: The default of observed=False is deprecated and will be changed to True in a future version of pandas. Pass observed=False to retain current behavior or observed=True to adopt the future default and silence this warning.\n",
      "  'avg_price': df.groupby('price_range')['min_price'].mean(),\n",
      "/tmp/ipykernel_2362918/441884213.py:269: FutureWarning: The default of observed=False is deprecated and will be changed to True in a future version of pandas. Pass observed=False to retain current behavior or observed=True to adopt the future default and silence this warning.\n",
      "  'brand_distribution': df.groupby(['price_range', 'brand']).size().unstack(fill_value=0)\n"
     ]
    }
   ],
   "source": [
    "df = pd.read_csv(\"all_prices_extracted_cleaned_categorized.csv\")\n",
    "analyzer = ProductAnalyzer()\n",
    "df_analyzed, insights = analyzer.analyze_dataset(df)\n",
    "df_analyzed.to_csv(\"all_prices_extracted_cleaned_categorized_analyzed.csv\", index=False)"
   ]
  },
  {
   "cell_type": "code",
   "execution_count": null,
   "metadata": {},
   "outputs": [
    {
     "name": "stdout",
     "output_type": "stream",
     "text": [
      "Requirement already satisfied: numpy in /home/cristiano/.local/lib/python3.10/site-packages (2.1.3)\n",
      "Requirement already satisfied: seaborn in /home/cristiano/anaconda3/envs/env_ds/lib/python3.10/site-packages (0.13.2)\n",
      "Requirement already satisfied: pandas>=1.2 in /home/cristiano/.local/lib/python3.10/site-packages (from seaborn) (2.2.3)\n",
      "Requirement already satisfied: matplotlib!=3.6.1,>=3.4 in /home/cristiano/.local/lib/python3.10/site-packages (from seaborn) (3.9.2)\n",
      "Requirement already satisfied: contourpy>=1.0.1 in /home/cristiano/.local/lib/python3.10/site-packages (from matplotlib!=3.6.1,>=3.4->seaborn) (1.3.1)\n",
      "Requirement already satisfied: cycler>=0.10 in /home/cristiano/.local/lib/python3.10/site-packages (from matplotlib!=3.6.1,>=3.4->seaborn) (0.12.1)\n",
      "Requirement already satisfied: fonttools>=4.22.0 in /home/cristiano/.local/lib/python3.10/site-packages (from matplotlib!=3.6.1,>=3.4->seaborn) (4.55.0)\n",
      "Requirement already satisfied: kiwisolver>=1.3.1 in /home/cristiano/.local/lib/python3.10/site-packages (from matplotlib!=3.6.1,>=3.4->seaborn) (1.4.7)\n",
      "Requirement already satisfied: packaging>=20.0 in /home/cristiano/.local/lib/python3.10/site-packages (from matplotlib!=3.6.1,>=3.4->seaborn) (23.2)\n",
      "Requirement already satisfied: pillow>=8 in /home/cristiano/anaconda3/envs/env_ds/lib/python3.10/site-packages (from matplotlib!=3.6.1,>=3.4->seaborn) (10.4.0)\n",
      "Requirement already satisfied: pyparsing>=2.3.1 in /home/cristiano/anaconda3/envs/env_ds/lib/python3.10/site-packages (from matplotlib!=3.6.1,>=3.4->seaborn) (3.1.2)\n",
      "Requirement already satisfied: python-dateutil>=2.7 in /home/cristiano/.local/lib/python3.10/site-packages (from matplotlib!=3.6.1,>=3.4->seaborn) (2.9.0.post0)\n",
      "Requirement already satisfied: pytz>=2020.1 in /home/cristiano/anaconda3/envs/env_ds/lib/python3.10/site-packages (from pandas>=1.2->seaborn) (2024.1)\n",
      "Requirement already satisfied: tzdata>=2022.7 in /home/cristiano/.local/lib/python3.10/site-packages (from pandas>=1.2->seaborn) (2024.1)\n",
      "Requirement already satisfied: six>=1.5 in /home/cristiano/anaconda3/envs/env_ds/lib/python3.10/site-packages (from python-dateutil>=2.7->matplotlib!=3.6.1,>=3.4->seaborn) (1.16.0)\n",
      "Note: you may need to restart the kernel to use updated packages.\n"
     ]
    }
   ],
   "source": [
    "import seaborn as sns"
   ]
  },
  {
   "cell_type": "code",
   "execution_count": null,
   "metadata": {},
   "outputs": [
    {
     "name": "stderr",
     "output_type": "stream",
     "text": [
      "/tmp/ipykernel_1074668/1250684403.py:246: FutureWarning: The default of observed=False is deprecated and will be changed to True in a future version of pandas. Pass observed=False to retain current behavior or observed=True to adopt the future default and silence this warning.\n",
      "  'total_products': df.groupby('price_range').size(),\n",
      "/tmp/ipykernel_1074668/1250684403.py:247: FutureWarning: The default of observed=False is deprecated and will be changed to True in a future version of pandas. Pass observed=False to retain current behavior or observed=True to adopt the future default and silence this warning.\n",
      "  'avg_price': df.groupby('price_range')['min_price'].mean(),\n",
      "/tmp/ipykernel_1074668/1250684403.py:248: FutureWarning: The default of observed=False is deprecated and will be changed to True in a future version of pandas. Pass observed=False to retain current behavior or observed=True to adopt the future default and silence this warning.\n",
      "  'brand_distribution': df.groupby(['price_range', 'brand']).size().unstack(fill_value=0)\n"
     ]
    },
    {
     "data": {
      "application/vnd.plotly.v1+json": {
       "config": {
        "plotlyServerURL": "https://plot.ly"
       },
       "data": [
        {
         "alignmentgroup": "True",
         "hovertemplate": "Categoria=%{x}<br>Número de Produtos=%{y}<extra></extra>",
         "legendgroup": "Acessorios",
         "marker": {
          "color": "#636efa",
          "pattern": {
           "shape": ""
          }
         },
         "name": "Acessorios",
         "offsetgroup": "Acessorios",
         "orientation": "v",
         "showlegend": true,
         "textposition": "auto",
         "type": "bar",
         "x": [
          "Acessorios"
         ],
         "xaxis": "x",
         "y": [
          68
         ],
         "yaxis": "y"
        },
        {
         "alignmentgroup": "True",
         "hovertemplate": "Categoria=%{x}<br>Número de Produtos=%{y}<extra></extra>",
         "legendgroup": "Computador",
         "marker": {
          "color": "#EF553B",
          "pattern": {
           "shape": ""
          }
         },
         "name": "Computador",
         "offsetgroup": "Computador",
         "orientation": "v",
         "showlegend": true,
         "textposition": "auto",
         "type": "bar",
         "x": [
          "Computador"
         ],
         "xaxis": "x",
         "y": [
          98
         ],
         "yaxis": "y"
        },
        {
         "alignmentgroup": "True",
         "hovertemplate": "Categoria=%{x}<br>Número de Produtos=%{y}<extra></extra>",
         "legendgroup": "Consola",
         "marker": {
          "color": "#00cc96",
          "pattern": {
           "shape": ""
          }
         },
         "name": "Consola",
         "offsetgroup": "Consola",
         "orientation": "v",
         "showlegend": true,
         "textposition": "auto",
         "type": "bar",
         "x": [
          "Consola"
         ],
         "xaxis": "x",
         "y": [
          222
         ],
         "yaxis": "y"
        },
        {
         "alignmentgroup": "True",
         "hovertemplate": "Categoria=%{x}<br>Número de Produtos=%{y}<extra></extra>",
         "legendgroup": "Eletrodomesticos",
         "marker": {
          "color": "#ab63fa",
          "pattern": {
           "shape": ""
          }
         },
         "name": "Eletrodomesticos",
         "offsetgroup": "Eletrodomesticos",
         "orientation": "v",
         "showlegend": true,
         "textposition": "auto",
         "type": "bar",
         "x": [
          "Eletrodomesticos"
         ],
         "xaxis": "x",
         "y": [
          31
         ],
         "yaxis": "y"
        },
        {
         "alignmentgroup": "True",
         "hovertemplate": "Categoria=%{x}<br>Número de Produtos=%{y}<extra></extra>",
         "legendgroup": "Outros",
         "marker": {
          "color": "#FFA15A",
          "pattern": {
           "shape": ""
          }
         },
         "name": "Outros",
         "offsetgroup": "Outros",
         "orientation": "v",
         "showlegend": true,
         "textposition": "auto",
         "type": "bar",
         "x": [
          "Outros"
         ],
         "xaxis": "x",
         "y": [
          51
         ],
         "yaxis": "y"
        },
        {
         "alignmentgroup": "True",
         "hovertemplate": "Categoria=%{x}<br>Número de Produtos=%{y}<extra></extra>",
         "legendgroup": "Smartphone",
         "marker": {
          "color": "#19d3f3",
          "pattern": {
           "shape": ""
          }
         },
         "name": "Smartphone",
         "offsetgroup": "Smartphone",
         "orientation": "v",
         "showlegend": true,
         "textposition": "auto",
         "type": "bar",
         "x": [
          "Smartphone"
         ],
         "xaxis": "x",
         "y": [
          391
         ],
         "yaxis": "y"
        },
        {
         "alignmentgroup": "True",
         "hovertemplate": "Categoria=%{x}<br>Número de Produtos=%{y}<extra></extra>",
         "legendgroup": "Tablet",
         "marker": {
          "color": "#FF6692",
          "pattern": {
           "shape": ""
          }
         },
         "name": "Tablet",
         "offsetgroup": "Tablet",
         "orientation": "v",
         "showlegend": true,
         "textposition": "auto",
         "type": "bar",
         "x": [
          "Tablet"
         ],
         "xaxis": "x",
         "y": [
          63
         ],
         "yaxis": "y"
        }
       ],
       "layout": {
        "barmode": "relative",
        "legend": {
         "title": {
          "text": "Categoria"
         },
         "tracegroupgap": 0
        },
        "template": {
         "data": {
          "bar": [
           {
            "error_x": {
             "color": "#2a3f5f"
            },
            "error_y": {
             "color": "#2a3f5f"
            },
            "marker": {
             "line": {
              "color": "#E5ECF6",
              "width": 0.5
             },
             "pattern": {
              "fillmode": "overlay",
              "size": 10,
              "solidity": 0.2
             }
            },
            "type": "bar"
           }
          ],
          "barpolar": [
           {
            "marker": {
             "line": {
              "color": "#E5ECF6",
              "width": 0.5
             },
             "pattern": {
              "fillmode": "overlay",
              "size": 10,
              "solidity": 0.2
             }
            },
            "type": "barpolar"
           }
          ],
          "carpet": [
           {
            "aaxis": {
             "endlinecolor": "#2a3f5f",
             "gridcolor": "white",
             "linecolor": "white",
             "minorgridcolor": "white",
             "startlinecolor": "#2a3f5f"
            },
            "baxis": {
             "endlinecolor": "#2a3f5f",
             "gridcolor": "white",
             "linecolor": "white",
             "minorgridcolor": "white",
             "startlinecolor": "#2a3f5f"
            },
            "type": "carpet"
           }
          ],
          "choropleth": [
           {
            "colorbar": {
             "outlinewidth": 0,
             "ticks": ""
            },
            "type": "choropleth"
           }
          ],
          "contour": [
           {
            "colorbar": {
             "outlinewidth": 0,
             "ticks": ""
            },
            "colorscale": [
             [
              0,
              "#0d0887"
             ],
             [
              0.1111111111111111,
              "#46039f"
             ],
             [
              0.2222222222222222,
              "#7201a8"
             ],
             [
              0.3333333333333333,
              "#9c179e"
             ],
             [
              0.4444444444444444,
              "#bd3786"
             ],
             [
              0.5555555555555556,
              "#d8576b"
             ],
             [
              0.6666666666666666,
              "#ed7953"
             ],
             [
              0.7777777777777778,
              "#fb9f3a"
             ],
             [
              0.8888888888888888,
              "#fdca26"
             ],
             [
              1,
              "#f0f921"
             ]
            ],
            "type": "contour"
           }
          ],
          "contourcarpet": [
           {
            "colorbar": {
             "outlinewidth": 0,
             "ticks": ""
            },
            "type": "contourcarpet"
           }
          ],
          "heatmap": [
           {
            "colorbar": {
             "outlinewidth": 0,
             "ticks": ""
            },
            "colorscale": [
             [
              0,
              "#0d0887"
             ],
             [
              0.1111111111111111,
              "#46039f"
             ],
             [
              0.2222222222222222,
              "#7201a8"
             ],
             [
              0.3333333333333333,
              "#9c179e"
             ],
             [
              0.4444444444444444,
              "#bd3786"
             ],
             [
              0.5555555555555556,
              "#d8576b"
             ],
             [
              0.6666666666666666,
              "#ed7953"
             ],
             [
              0.7777777777777778,
              "#fb9f3a"
             ],
             [
              0.8888888888888888,
              "#fdca26"
             ],
             [
              1,
              "#f0f921"
             ]
            ],
            "type": "heatmap"
           }
          ],
          "heatmapgl": [
           {
            "colorbar": {
             "outlinewidth": 0,
             "ticks": ""
            },
            "colorscale": [
             [
              0,
              "#0d0887"
             ],
             [
              0.1111111111111111,
              "#46039f"
             ],
             [
              0.2222222222222222,
              "#7201a8"
             ],
             [
              0.3333333333333333,
              "#9c179e"
             ],
             [
              0.4444444444444444,
              "#bd3786"
             ],
             [
              0.5555555555555556,
              "#d8576b"
             ],
             [
              0.6666666666666666,
              "#ed7953"
             ],
             [
              0.7777777777777778,
              "#fb9f3a"
             ],
             [
              0.8888888888888888,
              "#fdca26"
             ],
             [
              1,
              "#f0f921"
             ]
            ],
            "type": "heatmapgl"
           }
          ],
          "histogram": [
           {
            "marker": {
             "pattern": {
              "fillmode": "overlay",
              "size": 10,
              "solidity": 0.2
             }
            },
            "type": "histogram"
           }
          ],
          "histogram2d": [
           {
            "colorbar": {
             "outlinewidth": 0,
             "ticks": ""
            },
            "colorscale": [
             [
              0,
              "#0d0887"
             ],
             [
              0.1111111111111111,
              "#46039f"
             ],
             [
              0.2222222222222222,
              "#7201a8"
             ],
             [
              0.3333333333333333,
              "#9c179e"
             ],
             [
              0.4444444444444444,
              "#bd3786"
             ],
             [
              0.5555555555555556,
              "#d8576b"
             ],
             [
              0.6666666666666666,
              "#ed7953"
             ],
             [
              0.7777777777777778,
              "#fb9f3a"
             ],
             [
              0.8888888888888888,
              "#fdca26"
             ],
             [
              1,
              "#f0f921"
             ]
            ],
            "type": "histogram2d"
           }
          ],
          "histogram2dcontour": [
           {
            "colorbar": {
             "outlinewidth": 0,
             "ticks": ""
            },
            "colorscale": [
             [
              0,
              "#0d0887"
             ],
             [
              0.1111111111111111,
              "#46039f"
             ],
             [
              0.2222222222222222,
              "#7201a8"
             ],
             [
              0.3333333333333333,
              "#9c179e"
             ],
             [
              0.4444444444444444,
              "#bd3786"
             ],
             [
              0.5555555555555556,
              "#d8576b"
             ],
             [
              0.6666666666666666,
              "#ed7953"
             ],
             [
              0.7777777777777778,
              "#fb9f3a"
             ],
             [
              0.8888888888888888,
              "#fdca26"
             ],
             [
              1,
              "#f0f921"
             ]
            ],
            "type": "histogram2dcontour"
           }
          ],
          "mesh3d": [
           {
            "colorbar": {
             "outlinewidth": 0,
             "ticks": ""
            },
            "type": "mesh3d"
           }
          ],
          "parcoords": [
           {
            "line": {
             "colorbar": {
              "outlinewidth": 0,
              "ticks": ""
             }
            },
            "type": "parcoords"
           }
          ],
          "pie": [
           {
            "automargin": true,
            "type": "pie"
           }
          ],
          "scatter": [
           {
            "fillpattern": {
             "fillmode": "overlay",
             "size": 10,
             "solidity": 0.2
            },
            "type": "scatter"
           }
          ],
          "scatter3d": [
           {
            "line": {
             "colorbar": {
              "outlinewidth": 0,
              "ticks": ""
             }
            },
            "marker": {
             "colorbar": {
              "outlinewidth": 0,
              "ticks": ""
             }
            },
            "type": "scatter3d"
           }
          ],
          "scattercarpet": [
           {
            "marker": {
             "colorbar": {
              "outlinewidth": 0,
              "ticks": ""
             }
            },
            "type": "scattercarpet"
           }
          ],
          "scattergeo": [
           {
            "marker": {
             "colorbar": {
              "outlinewidth": 0,
              "ticks": ""
             }
            },
            "type": "scattergeo"
           }
          ],
          "scattergl": [
           {
            "marker": {
             "colorbar": {
              "outlinewidth": 0,
              "ticks": ""
             }
            },
            "type": "scattergl"
           }
          ],
          "scattermapbox": [
           {
            "marker": {
             "colorbar": {
              "outlinewidth": 0,
              "ticks": ""
             }
            },
            "type": "scattermapbox"
           }
          ],
          "scatterpolar": [
           {
            "marker": {
             "colorbar": {
              "outlinewidth": 0,
              "ticks": ""
             }
            },
            "type": "scatterpolar"
           }
          ],
          "scatterpolargl": [
           {
            "marker": {
             "colorbar": {
              "outlinewidth": 0,
              "ticks": ""
             }
            },
            "type": "scatterpolargl"
           }
          ],
          "scatterternary": [
           {
            "marker": {
             "colorbar": {
              "outlinewidth": 0,
              "ticks": ""
             }
            },
            "type": "scatterternary"
           }
          ],
          "surface": [
           {
            "colorbar": {
             "outlinewidth": 0,
             "ticks": ""
            },
            "colorscale": [
             [
              0,
              "#0d0887"
             ],
             [
              0.1111111111111111,
              "#46039f"
             ],
             [
              0.2222222222222222,
              "#7201a8"
             ],
             [
              0.3333333333333333,
              "#9c179e"
             ],
             [
              0.4444444444444444,
              "#bd3786"
             ],
             [
              0.5555555555555556,
              "#d8576b"
             ],
             [
              0.6666666666666666,
              "#ed7953"
             ],
             [
              0.7777777777777778,
              "#fb9f3a"
             ],
             [
              0.8888888888888888,
              "#fdca26"
             ],
             [
              1,
              "#f0f921"
             ]
            ],
            "type": "surface"
           }
          ],
          "table": [
           {
            "cells": {
             "fill": {
              "color": "#EBF0F8"
             },
             "line": {
              "color": "white"
             }
            },
            "header": {
             "fill": {
              "color": "#C8D4E3"
             },
             "line": {
              "color": "white"
             }
            },
            "type": "table"
           }
          ]
         },
         "layout": {
          "annotationdefaults": {
           "arrowcolor": "#2a3f5f",
           "arrowhead": 0,
           "arrowwidth": 1
          },
          "autotypenumbers": "strict",
          "coloraxis": {
           "colorbar": {
            "outlinewidth": 0,
            "ticks": ""
           }
          },
          "colorscale": {
           "diverging": [
            [
             0,
             "#8e0152"
            ],
            [
             0.1,
             "#c51b7d"
            ],
            [
             0.2,
             "#de77ae"
            ],
            [
             0.3,
             "#f1b6da"
            ],
            [
             0.4,
             "#fde0ef"
            ],
            [
             0.5,
             "#f7f7f7"
            ],
            [
             0.6,
             "#e6f5d0"
            ],
            [
             0.7,
             "#b8e186"
            ],
            [
             0.8,
             "#7fbc41"
            ],
            [
             0.9,
             "#4d9221"
            ],
            [
             1,
             "#276419"
            ]
           ],
           "sequential": [
            [
             0,
             "#0d0887"
            ],
            [
             0.1111111111111111,
             "#46039f"
            ],
            [
             0.2222222222222222,
             "#7201a8"
            ],
            [
             0.3333333333333333,
             "#9c179e"
            ],
            [
             0.4444444444444444,
             "#bd3786"
            ],
            [
             0.5555555555555556,
             "#d8576b"
            ],
            [
             0.6666666666666666,
             "#ed7953"
            ],
            [
             0.7777777777777778,
             "#fb9f3a"
            ],
            [
             0.8888888888888888,
             "#fdca26"
            ],
            [
             1,
             "#f0f921"
            ]
           ],
           "sequentialminus": [
            [
             0,
             "#0d0887"
            ],
            [
             0.1111111111111111,
             "#46039f"
            ],
            [
             0.2222222222222222,
             "#7201a8"
            ],
            [
             0.3333333333333333,
             "#9c179e"
            ],
            [
             0.4444444444444444,
             "#bd3786"
            ],
            [
             0.5555555555555556,
             "#d8576b"
            ],
            [
             0.6666666666666666,
             "#ed7953"
            ],
            [
             0.7777777777777778,
             "#fb9f3a"
            ],
            [
             0.8888888888888888,
             "#fdca26"
            ],
            [
             1,
             "#f0f921"
            ]
           ]
          },
          "colorway": [
           "#636efa",
           "#EF553B",
           "#00cc96",
           "#ab63fa",
           "#FFA15A",
           "#19d3f3",
           "#FF6692",
           "#B6E880",
           "#FF97FF",
           "#FECB52"
          ],
          "font": {
           "color": "#2a3f5f"
          },
          "geo": {
           "bgcolor": "white",
           "lakecolor": "white",
           "landcolor": "#E5ECF6",
           "showlakes": true,
           "showland": true,
           "subunitcolor": "white"
          },
          "hoverlabel": {
           "align": "left"
          },
          "hovermode": "closest",
          "mapbox": {
           "style": "light"
          },
          "paper_bgcolor": "white",
          "plot_bgcolor": "#E5ECF6",
          "polar": {
           "angularaxis": {
            "gridcolor": "white",
            "linecolor": "white",
            "ticks": ""
           },
           "bgcolor": "#E5ECF6",
           "radialaxis": {
            "gridcolor": "white",
            "linecolor": "white",
            "ticks": ""
           }
          },
          "scene": {
           "xaxis": {
            "backgroundcolor": "#E5ECF6",
            "gridcolor": "white",
            "gridwidth": 2,
            "linecolor": "white",
            "showbackground": true,
            "ticks": "",
            "zerolinecolor": "white"
           },
           "yaxis": {
            "backgroundcolor": "#E5ECF6",
            "gridcolor": "white",
            "gridwidth": 2,
            "linecolor": "white",
            "showbackground": true,
            "ticks": "",
            "zerolinecolor": "white"
           },
           "zaxis": {
            "backgroundcolor": "#E5ECF6",
            "gridcolor": "white",
            "gridwidth": 2,
            "linecolor": "white",
            "showbackground": true,
            "ticks": "",
            "zerolinecolor": "white"
           }
          },
          "shapedefaults": {
           "line": {
            "color": "#2a3f5f"
           }
          },
          "ternary": {
           "aaxis": {
            "gridcolor": "white",
            "linecolor": "white",
            "ticks": ""
           },
           "baxis": {
            "gridcolor": "white",
            "linecolor": "white",
            "ticks": ""
           },
           "bgcolor": "#E5ECF6",
           "caxis": {
            "gridcolor": "white",
            "linecolor": "white",
            "ticks": ""
           }
          },
          "title": {
           "x": 0.05
          },
          "xaxis": {
           "automargin": true,
           "gridcolor": "white",
           "linecolor": "white",
           "ticks": "",
           "title": {
            "standoff": 15
           },
           "zerolinecolor": "white",
           "zerolinewidth": 2
          },
          "yaxis": {
           "automargin": true,
           "gridcolor": "white",
           "linecolor": "white",
           "ticks": "",
           "title": {
            "standoff": 15
           },
           "zerolinecolor": "white",
           "zerolinewidth": 2
          }
         }
        },
        "title": {
         "text": "Distribuição de Produtos por Categoria"
        },
        "xaxis": {
         "anchor": "y",
         "categoryarray": [
          "Acessorios",
          "Computador",
          "Consola",
          "Eletrodomesticos",
          "Outros",
          "Smartphone",
          "Tablet"
         ],
         "categoryorder": "array",
         "domain": [
          0,
          1
         ],
         "title": {
          "text": "Categoria"
         }
        },
        "yaxis": {
         "anchor": "x",
         "domain": [
          0,
          1
         ],
         "title": {
          "text": "Número de Produtos"
         }
        }
       }
      }
     },
     "metadata": {},
     "output_type": "display_data"
    },
    {
     "data": {
      "application/vnd.plotly.v1+json": {
       "config": {
        "plotlyServerURL": "https://plot.ly"
       },
       "data": [
        {
         "alignmentgroup": "True",
         "hovertemplate": "brand=Outras<br>categoria=%{x}<br>Número de Produtos=%{y}<extra></extra>",
         "legendgroup": "Outras",
         "marker": {
          "color": "#636efa",
          "pattern": {
           "shape": ""
          }
         },
         "name": "Outras",
         "offsetgroup": "Outras",
         "orientation": "v",
         "showlegend": true,
         "textposition": "auto",
         "type": "bar",
         "x": [
          "Acessorios",
          "Computador",
          "Consola",
          "Eletrodomesticos",
          "Outros",
          "Smartphone",
          "Tablet"
         ],
         "xaxis": "x",
         "y": [
          0,
          3,
          0,
          1,
          48,
          0,
          5
         ],
         "yaxis": "y"
        },
        {
         "alignmentgroup": "True",
         "hovertemplate": "brand=acer<br>categoria=%{x}<br>Número de Produtos=%{y}<extra></extra>",
         "legendgroup": "acer",
         "marker": {
          "color": "#EF553B",
          "pattern": {
           "shape": ""
          }
         },
         "name": "acer",
         "offsetgroup": "acer",
         "orientation": "v",
         "showlegend": true,
         "textposition": "auto",
         "type": "bar",
         "x": [
          "Acessorios",
          "Computador",
          "Consola",
          "Eletrodomesticos",
          "Outros",
          "Smartphone",
          "Tablet"
         ],
         "xaxis": "x",
         "y": [
          0,
          6,
          0,
          0,
          0,
          0,
          0
         ],
         "yaxis": "y"
        },
        {
         "alignmentgroup": "True",
         "hovertemplate": "brand=apple<br>categoria=%{x}<br>Número de Produtos=%{y}<extra></extra>",
         "legendgroup": "apple",
         "marker": {
          "color": "#00cc96",
          "pattern": {
           "shape": ""
          }
         },
         "name": "apple",
         "offsetgroup": "apple",
         "orientation": "v",
         "showlegend": true,
         "textposition": "auto",
         "type": "bar",
         "x": [
          "Acessorios",
          "Computador",
          "Consola",
          "Eletrodomesticos",
          "Outros",
          "Smartphone",
          "Tablet"
         ],
         "xaxis": "x",
         "y": [
          1,
          22,
          0,
          0,
          0,
          173,
          40
         ],
         "yaxis": "y"
        },
        {
         "alignmentgroup": "True",
         "hovertemplate": "brand=asus<br>categoria=%{x}<br>Número de Produtos=%{y}<extra></extra>",
         "legendgroup": "asus",
         "marker": {
          "color": "#ab63fa",
          "pattern": {
           "shape": ""
          }
         },
         "name": "asus",
         "offsetgroup": "asus",
         "orientation": "v",
         "showlegend": true,
         "textposition": "auto",
         "type": "bar",
         "x": [
          "Acessorios",
          "Computador",
          "Consola",
          "Eletrodomesticos",
          "Outros",
          "Smartphone",
          "Tablet"
         ],
         "xaxis": "x",
         "y": [
          0,
          10,
          0,
          0,
          0,
          0,
          0
         ],
         "yaxis": "y"
        },
        {
         "alignmentgroup": "True",
         "hovertemplate": "brand=delonghi<br>categoria=%{x}<br>Número de Produtos=%{y}<extra></extra>",
         "legendgroup": "delonghi",
         "marker": {
          "color": "#FFA15A",
          "pattern": {
           "shape": ""
          }
         },
         "name": "delonghi",
         "offsetgroup": "delonghi",
         "orientation": "v",
         "showlegend": true,
         "textposition": "auto",
         "type": "bar",
         "x": [
          "Acessorios",
          "Computador",
          "Consola",
          "Eletrodomesticos",
          "Outros",
          "Smartphone",
          "Tablet"
         ],
         "xaxis": "x",
         "y": [
          0,
          0,
          0,
          9,
          0,
          0,
          0
         ],
         "yaxis": "y"
        },
        {
         "alignmentgroup": "True",
         "hovertemplate": "brand=delta<br>categoria=%{x}<br>Número de Produtos=%{y}<extra></extra>",
         "legendgroup": "delta",
         "marker": {
          "color": "#19d3f3",
          "pattern": {
           "shape": ""
          }
         },
         "name": "delta",
         "offsetgroup": "delta",
         "orientation": "v",
         "showlegend": true,
         "textposition": "auto",
         "type": "bar",
         "x": [
          "Acessorios",
          "Computador",
          "Consola",
          "Eletrodomesticos",
          "Outros",
          "Smartphone",
          "Tablet"
         ],
         "xaxis": "x",
         "y": [
          0,
          0,
          0,
          4,
          0,
          0,
          0
         ],
         "yaxis": "y"
        },
        {
         "alignmentgroup": "True",
         "hovertemplate": "brand=hp<br>categoria=%{x}<br>Número de Produtos=%{y}<extra></extra>",
         "legendgroup": "hp",
         "marker": {
          "color": "#FF6692",
          "pattern": {
           "shape": ""
          }
         },
         "name": "hp",
         "offsetgroup": "hp",
         "orientation": "v",
         "showlegend": true,
         "textposition": "auto",
         "type": "bar",
         "x": [
          "Acessorios",
          "Computador",
          "Consola",
          "Eletrodomesticos",
          "Outros",
          "Smartphone",
          "Tablet"
         ],
         "xaxis": "x",
         "y": [
          0,
          23,
          0,
          0,
          0,
          0,
          0
         ],
         "yaxis": "y"
        },
        {
         "alignmentgroup": "True",
         "hovertemplate": "brand=huawei<br>categoria=%{x}<br>Número de Produtos=%{y}<extra></extra>",
         "legendgroup": "huawei",
         "marker": {
          "color": "#B6E880",
          "pattern": {
           "shape": ""
          }
         },
         "name": "huawei",
         "offsetgroup": "huawei",
         "orientation": "v",
         "showlegend": true,
         "textposition": "auto",
         "type": "bar",
         "x": [
          "Acessorios",
          "Computador",
          "Consola",
          "Eletrodomesticos",
          "Outros",
          "Smartphone",
          "Tablet"
         ],
         "xaxis": "x",
         "y": [
          0,
          0,
          0,
          0,
          0,
          41,
          5
         ],
         "yaxis": "y"
        },
        {
         "alignmentgroup": "True",
         "hovertemplate": "brand=jbl<br>categoria=%{x}<br>Número de Produtos=%{y}<extra></extra>",
         "legendgroup": "jbl",
         "marker": {
          "color": "#FF97FF",
          "pattern": {
           "shape": ""
          }
         },
         "name": "jbl",
         "offsetgroup": "jbl",
         "orientation": "v",
         "showlegend": true,
         "textposition": "auto",
         "type": "bar",
         "x": [
          "Acessorios",
          "Computador",
          "Consola",
          "Eletrodomesticos",
          "Outros",
          "Smartphone",
          "Tablet"
         ],
         "xaxis": "x",
         "y": [
          0,
          0,
          0,
          0,
          1,
          0,
          0
         ],
         "yaxis": "y"
        },
        {
         "alignmentgroup": "True",
         "hovertemplate": "brand=krups<br>categoria=%{x}<br>Número de Produtos=%{y}<extra></extra>",
         "legendgroup": "krups",
         "marker": {
          "color": "#FECB52",
          "pattern": {
           "shape": ""
          }
         },
         "name": "krups",
         "offsetgroup": "krups",
         "orientation": "v",
         "showlegend": true,
         "textposition": "auto",
         "type": "bar",
         "x": [
          "Acessorios",
          "Computador",
          "Consola",
          "Eletrodomesticos",
          "Outros",
          "Smartphone",
          "Tablet"
         ],
         "xaxis": "x",
         "y": [
          0,
          0,
          0,
          5,
          0,
          0,
          0
         ],
         "yaxis": "y"
        },
        {
         "alignmentgroup": "True",
         "hovertemplate": "brand=lenovo<br>categoria=%{x}<br>Número de Produtos=%{y}<extra></extra>",
         "legendgroup": "lenovo",
         "marker": {
          "color": "#636efa",
          "pattern": {
           "shape": ""
          }
         },
         "name": "lenovo",
         "offsetgroup": "lenovo",
         "orientation": "v",
         "showlegend": true,
         "textposition": "auto",
         "type": "bar",
         "x": [
          "Acessorios",
          "Computador",
          "Consola",
          "Eletrodomesticos",
          "Outros",
          "Smartphone",
          "Tablet"
         ],
         "xaxis": "x",
         "y": [
          0,
          16,
          0,
          0,
          0,
          0,
          1
         ],
         "yaxis": "y"
        },
        {
         "alignmentgroup": "True",
         "hovertemplate": "brand=lg<br>categoria=%{x}<br>Número de Produtos=%{y}<extra></extra>",
         "legendgroup": "lg",
         "marker": {
          "color": "#EF553B",
          "pattern": {
           "shape": ""
          }
         },
         "name": "lg",
         "offsetgroup": "lg",
         "orientation": "v",
         "showlegend": true,
         "textposition": "auto",
         "type": "bar",
         "x": [
          "Acessorios",
          "Computador",
          "Consola",
          "Eletrodomesticos",
          "Outros",
          "Smartphone",
          "Tablet"
         ],
         "xaxis": "x",
         "y": [
          0,
          0,
          0,
          6,
          2,
          1,
          0
         ],
         "yaxis": "y"
        },
        {
         "alignmentgroup": "True",
         "hovertemplate": "brand=microsoft<br>categoria=%{x}<br>Número de Produtos=%{y}<extra></extra>",
         "legendgroup": "microsoft",
         "marker": {
          "color": "#00cc96",
          "pattern": {
           "shape": ""
          }
         },
         "name": "microsoft",
         "offsetgroup": "microsoft",
         "orientation": "v",
         "showlegend": true,
         "textposition": "auto",
         "type": "bar",
         "x": [
          "Acessorios",
          "Computador",
          "Consola",
          "Eletrodomesticos",
          "Outros",
          "Smartphone",
          "Tablet"
         ],
         "xaxis": "x",
         "y": [
          1,
          12,
          12,
          0,
          0,
          0,
          0
         ],
         "yaxis": "y"
        },
        {
         "alignmentgroup": "True",
         "hovertemplate": "brand=motorola<br>categoria=%{x}<br>Número de Produtos=%{y}<extra></extra>",
         "legendgroup": "motorola",
         "marker": {
          "color": "#ab63fa",
          "pattern": {
           "shape": ""
          }
         },
         "name": "motorola",
         "offsetgroup": "motorola",
         "orientation": "v",
         "showlegend": true,
         "textposition": "auto",
         "type": "bar",
         "x": [
          "Acessorios",
          "Computador",
          "Consola",
          "Eletrodomesticos",
          "Outros",
          "Smartphone",
          "Tablet"
         ],
         "xaxis": "x",
         "y": [
          0,
          0,
          0,
          0,
          0,
          3,
          0
         ],
         "yaxis": "y"
        },
        {
         "alignmentgroup": "True",
         "hovertemplate": "brand=msi<br>categoria=%{x}<br>Número de Produtos=%{y}<extra></extra>",
         "legendgroup": "msi",
         "marker": {
          "color": "#FFA15A",
          "pattern": {
           "shape": ""
          }
         },
         "name": "msi",
         "offsetgroup": "msi",
         "orientation": "v",
         "showlegend": true,
         "textposition": "auto",
         "type": "bar",
         "x": [
          "Acessorios",
          "Computador",
          "Consola",
          "Eletrodomesticos",
          "Outros",
          "Smartphone",
          "Tablet"
         ],
         "xaxis": "x",
         "y": [
          0,
          1,
          0,
          0,
          0,
          0,
          0
         ],
         "yaxis": "y"
        },
        {
         "alignmentgroup": "True",
         "hovertemplate": "brand=nespresso<br>categoria=%{x}<br>Número de Produtos=%{y}<extra></extra>",
         "legendgroup": "nespresso",
         "marker": {
          "color": "#19d3f3",
          "pattern": {
           "shape": ""
          }
         },
         "name": "nespresso",
         "offsetgroup": "nespresso",
         "orientation": "v",
         "showlegend": true,
         "textposition": "auto",
         "type": "bar",
         "x": [
          "Acessorios",
          "Computador",
          "Consola",
          "Eletrodomesticos",
          "Outros",
          "Smartphone",
          "Tablet"
         ],
         "xaxis": "x",
         "y": [
          0,
          0,
          0,
          5,
          0,
          0,
          0
         ],
         "yaxis": "y"
        },
        {
         "alignmentgroup": "True",
         "hovertemplate": "brand=oneplus<br>categoria=%{x}<br>Número de Produtos=%{y}<extra></extra>",
         "legendgroup": "oneplus",
         "marker": {
          "color": "#FF6692",
          "pattern": {
           "shape": ""
          }
         },
         "name": "oneplus",
         "offsetgroup": "oneplus",
         "orientation": "v",
         "showlegend": true,
         "textposition": "auto",
         "type": "bar",
         "x": [
          "Acessorios",
          "Computador",
          "Consola",
          "Eletrodomesticos",
          "Outros",
          "Smartphone",
          "Tablet"
         ],
         "xaxis": "x",
         "y": [
          0,
          0,
          0,
          0,
          0,
          1,
          0
         ],
         "yaxis": "y"
        },
        {
         "alignmentgroup": "True",
         "hovertemplate": "brand=oppo<br>categoria=%{x}<br>Número de Produtos=%{y}<extra></extra>",
         "legendgroup": "oppo",
         "marker": {
          "color": "#B6E880",
          "pattern": {
           "shape": ""
          }
         },
         "name": "oppo",
         "offsetgroup": "oppo",
         "orientation": "v",
         "showlegend": true,
         "textposition": "auto",
         "type": "bar",
         "x": [
          "Acessorios",
          "Computador",
          "Consola",
          "Eletrodomesticos",
          "Outros",
          "Smartphone",
          "Tablet"
         ],
         "xaxis": "x",
         "y": [
          0,
          0,
          0,
          0,
          0,
          12,
          0
         ],
         "yaxis": "y"
        },
        {
         "alignmentgroup": "True",
         "hovertemplate": "brand=philips<br>categoria=%{x}<br>Número de Produtos=%{y}<extra></extra>",
         "legendgroup": "philips",
         "marker": {
          "color": "#FF97FF",
          "pattern": {
           "shape": ""
          }
         },
         "name": "philips",
         "offsetgroup": "philips",
         "orientation": "v",
         "showlegend": true,
         "textposition": "auto",
         "type": "bar",
         "x": [
          "Acessorios",
          "Computador",
          "Consola",
          "Eletrodomesticos",
          "Outros",
          "Smartphone",
          "Tablet"
         ],
         "xaxis": "x",
         "y": [
          1,
          0,
          0,
          0,
          0,
          0,
          0
         ],
         "yaxis": "y"
        },
        {
         "alignmentgroup": "True",
         "hovertemplate": "brand=razer<br>categoria=%{x}<br>Número de Produtos=%{y}<extra></extra>",
         "legendgroup": "razer",
         "marker": {
          "color": "#FECB52",
          "pattern": {
           "shape": ""
          }
         },
         "name": "razer",
         "offsetgroup": "razer",
         "orientation": "v",
         "showlegend": true,
         "textposition": "auto",
         "type": "bar",
         "x": [
          "Acessorios",
          "Computador",
          "Consola",
          "Eletrodomesticos",
          "Outros",
          "Smartphone",
          "Tablet"
         ],
         "xaxis": "x",
         "y": [
          0,
          2,
          0,
          0,
          0,
          0,
          0
         ],
         "yaxis": "y"
        },
        {
         "alignmentgroup": "True",
         "hovertemplate": "brand=samsung<br>categoria=%{x}<br>Número de Produtos=%{y}<extra></extra>",
         "legendgroup": "samsung",
         "marker": {
          "color": "#636efa",
          "pattern": {
           "shape": ""
          }
         },
         "name": "samsung",
         "offsetgroup": "samsung",
         "orientation": "v",
         "showlegend": true,
         "textposition": "auto",
         "type": "bar",
         "x": [
          "Acessorios",
          "Computador",
          "Consola",
          "Eletrodomesticos",
          "Outros",
          "Smartphone",
          "Tablet"
         ],
         "xaxis": "x",
         "y": [
          46,
          0,
          0,
          1,
          0,
          132,
          12
         ],
         "yaxis": "y"
        },
        {
         "alignmentgroup": "True",
         "hovertemplate": "brand=sony<br>categoria=%{x}<br>Número de Produtos=%{y}<extra></extra>",
         "legendgroup": "sony",
         "marker": {
          "color": "#EF553B",
          "pattern": {
           "shape": ""
          }
         },
         "name": "sony",
         "offsetgroup": "sony",
         "orientation": "v",
         "showlegend": true,
         "textposition": "auto",
         "type": "bar",
         "x": [
          "Acessorios",
          "Computador",
          "Consola",
          "Eletrodomesticos",
          "Outros",
          "Smartphone",
          "Tablet"
         ],
         "xaxis": "x",
         "y": [
          13,
          3,
          112,
          0,
          0,
          0,
          0
         ],
         "yaxis": "y"
        },
        {
         "alignmentgroup": "True",
         "hovertemplate": "brand=tcl<br>categoria=%{x}<br>Número de Produtos=%{y}<extra></extra>",
         "legendgroup": "tcl",
         "marker": {
          "color": "#00cc96",
          "pattern": {
           "shape": ""
          }
         },
         "name": "tcl",
         "offsetgroup": "tcl",
         "orientation": "v",
         "showlegend": true,
         "textposition": "auto",
         "type": "bar",
         "x": [
          "Acessorios",
          "Computador",
          "Consola",
          "Eletrodomesticos",
          "Outros",
          "Smartphone",
          "Tablet"
         ],
         "xaxis": "x",
         "y": [
          0,
          0,
          0,
          0,
          0,
          2,
          0
         ],
         "yaxis": "y"
        },
        {
         "alignmentgroup": "True",
         "hovertemplate": "brand=xbox<br>categoria=%{x}<br>Número de Produtos=%{y}<extra></extra>",
         "legendgroup": "xbox",
         "marker": {
          "color": "#ab63fa",
          "pattern": {
           "shape": ""
          }
         },
         "name": "xbox",
         "offsetgroup": "xbox",
         "orientation": "v",
         "showlegend": true,
         "textposition": "auto",
         "type": "bar",
         "x": [
          "Acessorios",
          "Computador",
          "Consola",
          "Eletrodomesticos",
          "Outros",
          "Smartphone",
          "Tablet"
         ],
         "xaxis": "x",
         "y": [
          6,
          0,
          98,
          0,
          0,
          0,
          0
         ],
         "yaxis": "y"
        },
        {
         "alignmentgroup": "True",
         "hovertemplate": "brand=xiaomi<br>categoria=%{x}<br>Número de Produtos=%{y}<extra></extra>",
         "legendgroup": "xiaomi",
         "marker": {
          "color": "#FFA15A",
          "pattern": {
           "shape": ""
          }
         },
         "name": "xiaomi",
         "offsetgroup": "xiaomi",
         "orientation": "v",
         "showlegend": true,
         "textposition": "auto",
         "type": "bar",
         "x": [
          "Acessorios",
          "Computador",
          "Consola",
          "Eletrodomesticos",
          "Outros",
          "Smartphone",
          "Tablet"
         ],
         "xaxis": "x",
         "y": [
          0,
          0,
          0,
          0,
          0,
          26,
          0
         ],
         "yaxis": "y"
        }
       ],
       "layout": {
        "barmode": "stack",
        "legend": {
         "title": {
          "text": "Marca"
         },
         "tracegroupgap": 0
        },
        "template": {
         "data": {
          "bar": [
           {
            "error_x": {
             "color": "#2a3f5f"
            },
            "error_y": {
             "color": "#2a3f5f"
            },
            "marker": {
             "line": {
              "color": "#E5ECF6",
              "width": 0.5
             },
             "pattern": {
              "fillmode": "overlay",
              "size": 10,
              "solidity": 0.2
             }
            },
            "type": "bar"
           }
          ],
          "barpolar": [
           {
            "marker": {
             "line": {
              "color": "#E5ECF6",
              "width": 0.5
             },
             "pattern": {
              "fillmode": "overlay",
              "size": 10,
              "solidity": 0.2
             }
            },
            "type": "barpolar"
           }
          ],
          "carpet": [
           {
            "aaxis": {
             "endlinecolor": "#2a3f5f",
             "gridcolor": "white",
             "linecolor": "white",
             "minorgridcolor": "white",
             "startlinecolor": "#2a3f5f"
            },
            "baxis": {
             "endlinecolor": "#2a3f5f",
             "gridcolor": "white",
             "linecolor": "white",
             "minorgridcolor": "white",
             "startlinecolor": "#2a3f5f"
            },
            "type": "carpet"
           }
          ],
          "choropleth": [
           {
            "colorbar": {
             "outlinewidth": 0,
             "ticks": ""
            },
            "type": "choropleth"
           }
          ],
          "contour": [
           {
            "colorbar": {
             "outlinewidth": 0,
             "ticks": ""
            },
            "colorscale": [
             [
              0,
              "#0d0887"
             ],
             [
              0.1111111111111111,
              "#46039f"
             ],
             [
              0.2222222222222222,
              "#7201a8"
             ],
             [
              0.3333333333333333,
              "#9c179e"
             ],
             [
              0.4444444444444444,
              "#bd3786"
             ],
             [
              0.5555555555555556,
              "#d8576b"
             ],
             [
              0.6666666666666666,
              "#ed7953"
             ],
             [
              0.7777777777777778,
              "#fb9f3a"
             ],
             [
              0.8888888888888888,
              "#fdca26"
             ],
             [
              1,
              "#f0f921"
             ]
            ],
            "type": "contour"
           }
          ],
          "contourcarpet": [
           {
            "colorbar": {
             "outlinewidth": 0,
             "ticks": ""
            },
            "type": "contourcarpet"
           }
          ],
          "heatmap": [
           {
            "colorbar": {
             "outlinewidth": 0,
             "ticks": ""
            },
            "colorscale": [
             [
              0,
              "#0d0887"
             ],
             [
              0.1111111111111111,
              "#46039f"
             ],
             [
              0.2222222222222222,
              "#7201a8"
             ],
             [
              0.3333333333333333,
              "#9c179e"
             ],
             [
              0.4444444444444444,
              "#bd3786"
             ],
             [
              0.5555555555555556,
              "#d8576b"
             ],
             [
              0.6666666666666666,
              "#ed7953"
             ],
             [
              0.7777777777777778,
              "#fb9f3a"
             ],
             [
              0.8888888888888888,
              "#fdca26"
             ],
             [
              1,
              "#f0f921"
             ]
            ],
            "type": "heatmap"
           }
          ],
          "heatmapgl": [
           {
            "colorbar": {
             "outlinewidth": 0,
             "ticks": ""
            },
            "colorscale": [
             [
              0,
              "#0d0887"
             ],
             [
              0.1111111111111111,
              "#46039f"
             ],
             [
              0.2222222222222222,
              "#7201a8"
             ],
             [
              0.3333333333333333,
              "#9c179e"
             ],
             [
              0.4444444444444444,
              "#bd3786"
             ],
             [
              0.5555555555555556,
              "#d8576b"
             ],
             [
              0.6666666666666666,
              "#ed7953"
             ],
             [
              0.7777777777777778,
              "#fb9f3a"
             ],
             [
              0.8888888888888888,
              "#fdca26"
             ],
             [
              1,
              "#f0f921"
             ]
            ],
            "type": "heatmapgl"
           }
          ],
          "histogram": [
           {
            "marker": {
             "pattern": {
              "fillmode": "overlay",
              "size": 10,
              "solidity": 0.2
             }
            },
            "type": "histogram"
           }
          ],
          "histogram2d": [
           {
            "colorbar": {
             "outlinewidth": 0,
             "ticks": ""
            },
            "colorscale": [
             [
              0,
              "#0d0887"
             ],
             [
              0.1111111111111111,
              "#46039f"
             ],
             [
              0.2222222222222222,
              "#7201a8"
             ],
             [
              0.3333333333333333,
              "#9c179e"
             ],
             [
              0.4444444444444444,
              "#bd3786"
             ],
             [
              0.5555555555555556,
              "#d8576b"
             ],
             [
              0.6666666666666666,
              "#ed7953"
             ],
             [
              0.7777777777777778,
              "#fb9f3a"
             ],
             [
              0.8888888888888888,
              "#fdca26"
             ],
             [
              1,
              "#f0f921"
             ]
            ],
            "type": "histogram2d"
           }
          ],
          "histogram2dcontour": [
           {
            "colorbar": {
             "outlinewidth": 0,
             "ticks": ""
            },
            "colorscale": [
             [
              0,
              "#0d0887"
             ],
             [
              0.1111111111111111,
              "#46039f"
             ],
             [
              0.2222222222222222,
              "#7201a8"
             ],
             [
              0.3333333333333333,
              "#9c179e"
             ],
             [
              0.4444444444444444,
              "#bd3786"
             ],
             [
              0.5555555555555556,
              "#d8576b"
             ],
             [
              0.6666666666666666,
              "#ed7953"
             ],
             [
              0.7777777777777778,
              "#fb9f3a"
             ],
             [
              0.8888888888888888,
              "#fdca26"
             ],
             [
              1,
              "#f0f921"
             ]
            ],
            "type": "histogram2dcontour"
           }
          ],
          "mesh3d": [
           {
            "colorbar": {
             "outlinewidth": 0,
             "ticks": ""
            },
            "type": "mesh3d"
           }
          ],
          "parcoords": [
           {
            "line": {
             "colorbar": {
              "outlinewidth": 0,
              "ticks": ""
             }
            },
            "type": "parcoords"
           }
          ],
          "pie": [
           {
            "automargin": true,
            "type": "pie"
           }
          ],
          "scatter": [
           {
            "fillpattern": {
             "fillmode": "overlay",
             "size": 10,
             "solidity": 0.2
            },
            "type": "scatter"
           }
          ],
          "scatter3d": [
           {
            "line": {
             "colorbar": {
              "outlinewidth": 0,
              "ticks": ""
             }
            },
            "marker": {
             "colorbar": {
              "outlinewidth": 0,
              "ticks": ""
             }
            },
            "type": "scatter3d"
           }
          ],
          "scattercarpet": [
           {
            "marker": {
             "colorbar": {
              "outlinewidth": 0,
              "ticks": ""
             }
            },
            "type": "scattercarpet"
           }
          ],
          "scattergeo": [
           {
            "marker": {
             "colorbar": {
              "outlinewidth": 0,
              "ticks": ""
             }
            },
            "type": "scattergeo"
           }
          ],
          "scattergl": [
           {
            "marker": {
             "colorbar": {
              "outlinewidth": 0,
              "ticks": ""
             }
            },
            "type": "scattergl"
           }
          ],
          "scattermapbox": [
           {
            "marker": {
             "colorbar": {
              "outlinewidth": 0,
              "ticks": ""
             }
            },
            "type": "scattermapbox"
           }
          ],
          "scatterpolar": [
           {
            "marker": {
             "colorbar": {
              "outlinewidth": 0,
              "ticks": ""
             }
            },
            "type": "scatterpolar"
           }
          ],
          "scatterpolargl": [
           {
            "marker": {
             "colorbar": {
              "outlinewidth": 0,
              "ticks": ""
             }
            },
            "type": "scatterpolargl"
           }
          ],
          "scatterternary": [
           {
            "marker": {
             "colorbar": {
              "outlinewidth": 0,
              "ticks": ""
             }
            },
            "type": "scatterternary"
           }
          ],
          "surface": [
           {
            "colorbar": {
             "outlinewidth": 0,
             "ticks": ""
            },
            "colorscale": [
             [
              0,
              "#0d0887"
             ],
             [
              0.1111111111111111,
              "#46039f"
             ],
             [
              0.2222222222222222,
              "#7201a8"
             ],
             [
              0.3333333333333333,
              "#9c179e"
             ],
             [
              0.4444444444444444,
              "#bd3786"
             ],
             [
              0.5555555555555556,
              "#d8576b"
             ],
             [
              0.6666666666666666,
              "#ed7953"
             ],
             [
              0.7777777777777778,
              "#fb9f3a"
             ],
             [
              0.8888888888888888,
              "#fdca26"
             ],
             [
              1,
              "#f0f921"
             ]
            ],
            "type": "surface"
           }
          ],
          "table": [
           {
            "cells": {
             "fill": {
              "color": "#EBF0F8"
             },
             "line": {
              "color": "white"
             }
            },
            "header": {
             "fill": {
              "color": "#C8D4E3"
             },
             "line": {
              "color": "white"
             }
            },
            "type": "table"
           }
          ]
         },
         "layout": {
          "annotationdefaults": {
           "arrowcolor": "#2a3f5f",
           "arrowhead": 0,
           "arrowwidth": 1
          },
          "autotypenumbers": "strict",
          "coloraxis": {
           "colorbar": {
            "outlinewidth": 0,
            "ticks": ""
           }
          },
          "colorscale": {
           "diverging": [
            [
             0,
             "#8e0152"
            ],
            [
             0.1,
             "#c51b7d"
            ],
            [
             0.2,
             "#de77ae"
            ],
            [
             0.3,
             "#f1b6da"
            ],
            [
             0.4,
             "#fde0ef"
            ],
            [
             0.5,
             "#f7f7f7"
            ],
            [
             0.6,
             "#e6f5d0"
            ],
            [
             0.7,
             "#b8e186"
            ],
            [
             0.8,
             "#7fbc41"
            ],
            [
             0.9,
             "#4d9221"
            ],
            [
             1,
             "#276419"
            ]
           ],
           "sequential": [
            [
             0,
             "#0d0887"
            ],
            [
             0.1111111111111111,
             "#46039f"
            ],
            [
             0.2222222222222222,
             "#7201a8"
            ],
            [
             0.3333333333333333,
             "#9c179e"
            ],
            [
             0.4444444444444444,
             "#bd3786"
            ],
            [
             0.5555555555555556,
             "#d8576b"
            ],
            [
             0.6666666666666666,
             "#ed7953"
            ],
            [
             0.7777777777777778,
             "#fb9f3a"
            ],
            [
             0.8888888888888888,
             "#fdca26"
            ],
            [
             1,
             "#f0f921"
            ]
           ],
           "sequentialminus": [
            [
             0,
             "#0d0887"
            ],
            [
             0.1111111111111111,
             "#46039f"
            ],
            [
             0.2222222222222222,
             "#7201a8"
            ],
            [
             0.3333333333333333,
             "#9c179e"
            ],
            [
             0.4444444444444444,
             "#bd3786"
            ],
            [
             0.5555555555555556,
             "#d8576b"
            ],
            [
             0.6666666666666666,
             "#ed7953"
            ],
            [
             0.7777777777777778,
             "#fb9f3a"
            ],
            [
             0.8888888888888888,
             "#fdca26"
            ],
            [
             1,
             "#f0f921"
            ]
           ]
          },
          "colorway": [
           "#636efa",
           "#EF553B",
           "#00cc96",
           "#ab63fa",
           "#FFA15A",
           "#19d3f3",
           "#FF6692",
           "#B6E880",
           "#FF97FF",
           "#FECB52"
          ],
          "font": {
           "color": "#2a3f5f"
          },
          "geo": {
           "bgcolor": "white",
           "lakecolor": "white",
           "landcolor": "#E5ECF6",
           "showlakes": true,
           "showland": true,
           "subunitcolor": "white"
          },
          "hoverlabel": {
           "align": "left"
          },
          "hovermode": "closest",
          "mapbox": {
           "style": "light"
          },
          "paper_bgcolor": "white",
          "plot_bgcolor": "#E5ECF6",
          "polar": {
           "angularaxis": {
            "gridcolor": "white",
            "linecolor": "white",
            "ticks": ""
           },
           "bgcolor": "#E5ECF6",
           "radialaxis": {
            "gridcolor": "white",
            "linecolor": "white",
            "ticks": ""
           }
          },
          "scene": {
           "xaxis": {
            "backgroundcolor": "#E5ECF6",
            "gridcolor": "white",
            "gridwidth": 2,
            "linecolor": "white",
            "showbackground": true,
            "ticks": "",
            "zerolinecolor": "white"
           },
           "yaxis": {
            "backgroundcolor": "#E5ECF6",
            "gridcolor": "white",
            "gridwidth": 2,
            "linecolor": "white",
            "showbackground": true,
            "ticks": "",
            "zerolinecolor": "white"
           },
           "zaxis": {
            "backgroundcolor": "#E5ECF6",
            "gridcolor": "white",
            "gridwidth": 2,
            "linecolor": "white",
            "showbackground": true,
            "ticks": "",
            "zerolinecolor": "white"
           }
          },
          "shapedefaults": {
           "line": {
            "color": "#2a3f5f"
           }
          },
          "ternary": {
           "aaxis": {
            "gridcolor": "white",
            "linecolor": "white",
            "ticks": ""
           },
           "baxis": {
            "gridcolor": "white",
            "linecolor": "white",
            "ticks": ""
           },
           "bgcolor": "#E5ECF6",
           "caxis": {
            "gridcolor": "white",
            "linecolor": "white",
            "ticks": ""
           }
          },
          "title": {
           "x": 0.05
          },
          "xaxis": {
           "automargin": true,
           "gridcolor": "white",
           "linecolor": "white",
           "ticks": "",
           "title": {
            "standoff": 15
           },
           "zerolinecolor": "white",
           "zerolinewidth": 2
          },
          "yaxis": {
           "automargin": true,
           "gridcolor": "white",
           "linecolor": "white",
           "ticks": "",
           "title": {
            "standoff": 15
           },
           "zerolinecolor": "white",
           "zerolinewidth": 2
          }
         }
        },
        "title": {
         "text": "Distribuição de Marcas por Categoria"
        },
        "xaxis": {
         "anchor": "y",
         "domain": [
          0,
          1
         ],
         "title": {
          "text": "Categoria"
         }
        },
        "yaxis": {
         "anchor": "x",
         "domain": [
          0,
          1
         ],
         "title": {
          "text": "Número de Produtos"
         }
        }
       }
      }
     },
     "metadata": {},
     "output_type": "display_data"
    },
    {
     "data": {
      "application/vnd.plotly.v1+json": {
       "config": {
        "plotlyServerURL": "https://plot.ly"
       },
       "data": [
        {
         "alignmentgroup": "True",
         "hovertemplate": "brand=Outras<br>categoria=%{x}<br>Preço Médio=%{y}<extra></extra>",
         "legendgroup": "Outras",
         "marker": {
          "color": "#636efa",
          "pattern": {
           "shape": ""
          }
         },
         "name": "Outras",
         "offsetgroup": "Outras",
         "orientation": "v",
         "showlegend": true,
         "textposition": "auto",
         "type": "bar",
         "x": [
          "Acessorios",
          "Computador",
          "Consola",
          "Eletrodomesticos",
          "Outros",
          "Smartphone",
          "Tablet"
         ],
         "xaxis": "x",
         "y": [
          null,
          226.66,
          null,
          34.99,
          149.413125,
          null,
          71.792
         ],
         "yaxis": "y"
        },
        {
         "alignmentgroup": "True",
         "hovertemplate": "brand=acer<br>categoria=%{x}<br>Preço Médio=%{y}<extra></extra>",
         "legendgroup": "acer",
         "marker": {
          "color": "#EF553B",
          "pattern": {
           "shape": ""
          }
         },
         "name": "acer",
         "offsetgroup": "acer",
         "orientation": "v",
         "showlegend": true,
         "textposition": "auto",
         "type": "bar",
         "x": [
          "Acessorios",
          "Computador",
          "Consola",
          "Eletrodomesticos",
          "Outros",
          "Smartphone",
          "Tablet"
         ],
         "xaxis": "x",
         "y": [
          null,
          786.6566666666668,
          null,
          null,
          null,
          null,
          null
         ],
         "yaxis": "y"
        },
        {
         "alignmentgroup": "True",
         "hovertemplate": "brand=apple<br>categoria=%{x}<br>Preço Médio=%{y}<extra></extra>",
         "legendgroup": "apple",
         "marker": {
          "color": "#00cc96",
          "pattern": {
           "shape": ""
          }
         },
         "name": "apple",
         "offsetgroup": "apple",
         "orientation": "v",
         "showlegend": true,
         "textposition": "auto",
         "type": "bar",
         "x": [
          "Acessorios",
          "Computador",
          "Consola",
          "Eletrodomesticos",
          "Outros",
          "Smartphone",
          "Tablet"
         ],
         "xaxis": "x",
         "y": [
          219.99,
          2184.523863636364,
          null,
          null,
          null,
          930.314450867052,
          627.1335
         ],
         "yaxis": "y"
        },
        {
         "alignmentgroup": "True",
         "hovertemplate": "brand=asus<br>categoria=%{x}<br>Preço Médio=%{y}<extra></extra>",
         "legendgroup": "asus",
         "marker": {
          "color": "#ab63fa",
          "pattern": {
           "shape": ""
          }
         },
         "name": "asus",
         "offsetgroup": "asus",
         "orientation": "v",
         "showlegend": true,
         "textposition": "auto",
         "type": "bar",
         "x": [
          "Acessorios",
          "Computador",
          "Consola",
          "Eletrodomesticos",
          "Outros",
          "Smartphone",
          "Tablet"
         ],
         "xaxis": "x",
         "y": [
          null,
          1667.175,
          null,
          null,
          null,
          null,
          null
         ],
         "yaxis": "y"
        },
        {
         "alignmentgroup": "True",
         "hovertemplate": "brand=delonghi<br>categoria=%{x}<br>Preço Médio=%{y}<extra></extra>",
         "legendgroup": "delonghi",
         "marker": {
          "color": "#FFA15A",
          "pattern": {
           "shape": ""
          }
         },
         "name": "delonghi",
         "offsetgroup": "delonghi",
         "orientation": "v",
         "showlegend": true,
         "textposition": "auto",
         "type": "bar",
         "x": [
          "Acessorios",
          "Computador",
          "Consola",
          "Eletrodomesticos",
          "Outros",
          "Smartphone",
          "Tablet"
         ],
         "xaxis": "x",
         "y": [
          null,
          null,
          null,
          126.65666666666668,
          null,
          null,
          null
         ],
         "yaxis": "y"
        },
        {
         "alignmentgroup": "True",
         "hovertemplate": "brand=delta<br>categoria=%{x}<br>Preço Médio=%{y}<extra></extra>",
         "legendgroup": "delta",
         "marker": {
          "color": "#19d3f3",
          "pattern": {
           "shape": ""
          }
         },
         "name": "delta",
         "offsetgroup": "delta",
         "orientation": "v",
         "showlegend": true,
         "textposition": "auto",
         "type": "bar",
         "x": [
          "Acessorios",
          "Computador",
          "Consola",
          "Eletrodomesticos",
          "Outros",
          "Smartphone",
          "Tablet"
         ],
         "xaxis": "x",
         "y": [
          null,
          null,
          null,
          59.989999999999995,
          null,
          null,
          null
         ],
         "yaxis": "y"
        },
        {
         "alignmentgroup": "True",
         "hovertemplate": "brand=hp<br>categoria=%{x}<br>Preço Médio=%{y}<extra></extra>",
         "legendgroup": "hp",
         "marker": {
          "color": "#FF6692",
          "pattern": {
           "shape": ""
          }
         },
         "name": "hp",
         "offsetgroup": "hp",
         "orientation": "v",
         "showlegend": true,
         "textposition": "auto",
         "type": "bar",
         "x": [
          "Acessorios",
          "Computador",
          "Consola",
          "Eletrodomesticos",
          "Outros",
          "Smartphone",
          "Tablet"
         ],
         "xaxis": "x",
         "y": [
          null,
          702.1208695652174,
          null,
          null,
          null,
          null,
          null
         ],
         "yaxis": "y"
        },
        {
         "alignmentgroup": "True",
         "hovertemplate": "brand=huawei<br>categoria=%{x}<br>Preço Médio=%{y}<extra></extra>",
         "legendgroup": "huawei",
         "marker": {
          "color": "#B6E880",
          "pattern": {
           "shape": ""
          }
         },
         "name": "huawei",
         "offsetgroup": "huawei",
         "orientation": "v",
         "showlegend": true,
         "textposition": "auto",
         "type": "bar",
         "x": [
          "Acessorios",
          "Computador",
          "Consola",
          "Eletrodomesticos",
          "Outros",
          "Smartphone",
          "Tablet"
         ],
         "xaxis": "x",
         "y": [
          null,
          null,
          null,
          null,
          null,
          502.84,
          248.49
         ],
         "yaxis": "y"
        },
        {
         "alignmentgroup": "True",
         "hovertemplate": "brand=jbl<br>categoria=%{x}<br>Preço Médio=%{y}<extra></extra>",
         "legendgroup": "jbl",
         "marker": {
          "color": "#FF97FF",
          "pattern": {
           "shape": ""
          }
         },
         "name": "jbl",
         "offsetgroup": "jbl",
         "orientation": "v",
         "showlegend": true,
         "textposition": "auto",
         "type": "bar",
         "x": [
          "Acessorios",
          "Computador",
          "Consola",
          "Eletrodomesticos",
          "Outros",
          "Smartphone",
          "Tablet"
         ],
         "xaxis": "x",
         "y": [
          null,
          null,
          null,
          null,
          149.99,
          null,
          null
         ],
         "yaxis": "y"
        },
        {
         "alignmentgroup": "True",
         "hovertemplate": "brand=krups<br>categoria=%{x}<br>Preço Médio=%{y}<extra></extra>",
         "legendgroup": "krups",
         "marker": {
          "color": "#FECB52",
          "pattern": {
           "shape": ""
          }
         },
         "name": "krups",
         "offsetgroup": "krups",
         "orientation": "v",
         "showlegend": true,
         "textposition": "auto",
         "type": "bar",
         "x": [
          "Acessorios",
          "Computador",
          "Consola",
          "Eletrodomesticos",
          "Outros",
          "Smartphone",
          "Tablet"
         ],
         "xaxis": "x",
         "y": [
          null,
          null,
          null,
          57.986000000000004,
          null,
          null,
          null
         ],
         "yaxis": "y"
        },
        {
         "alignmentgroup": "True",
         "hovertemplate": "brand=lenovo<br>categoria=%{x}<br>Preço Médio=%{y}<extra></extra>",
         "legendgroup": "lenovo",
         "marker": {
          "color": "#636efa",
          "pattern": {
           "shape": ""
          }
         },
         "name": "lenovo",
         "offsetgroup": "lenovo",
         "orientation": "v",
         "showlegend": true,
         "textposition": "auto",
         "type": "bar",
         "x": [
          "Acessorios",
          "Computador",
          "Consola",
          "Eletrodomesticos",
          "Outros",
          "Smartphone",
          "Tablet"
         ],
         "xaxis": "x",
         "y": [
          null,
          783.218125,
          null,
          null,
          null,
          null,
          99.99
         ],
         "yaxis": "y"
        },
        {
         "alignmentgroup": "True",
         "hovertemplate": "brand=lg<br>categoria=%{x}<br>Preço Médio=%{y}<extra></extra>",
         "legendgroup": "lg",
         "marker": {
          "color": "#EF553B",
          "pattern": {
           "shape": ""
          }
         },
         "name": "lg",
         "offsetgroup": "lg",
         "orientation": "v",
         "showlegend": true,
         "textposition": "auto",
         "type": "bar",
         "x": [
          "Acessorios",
          "Computador",
          "Consola",
          "Eletrodomesticos",
          "Outros",
          "Smartphone",
          "Tablet"
         ],
         "xaxis": "x",
         "y": [
          null,
          null,
          null,
          987.9933333333333,
          274.99,
          239.9,
          null
         ],
         "yaxis": "y"
        },
        {
         "alignmentgroup": "True",
         "hovertemplate": "brand=microsoft<br>categoria=%{x}<br>Preço Médio=%{y}<extra></extra>",
         "legendgroup": "microsoft",
         "marker": {
          "color": "#00cc96",
          "pattern": {
           "shape": ""
          }
         },
         "name": "microsoft",
         "offsetgroup": "microsoft",
         "orientation": "v",
         "showlegend": true,
         "textposition": "auto",
         "type": "bar",
         "x": [
          "Acessorios",
          "Computador",
          "Consola",
          "Eletrodomesticos",
          "Outros",
          "Smartphone",
          "Tablet"
         ],
         "xaxis": "x",
         "y": [
          478.66,
          1087.0625,
          336.56666666666666,
          null,
          null,
          null,
          null
         ],
         "yaxis": "y"
        },
        {
         "alignmentgroup": "True",
         "hovertemplate": "brand=motorola<br>categoria=%{x}<br>Preço Médio=%{y}<extra></extra>",
         "legendgroup": "motorola",
         "marker": {
          "color": "#ab63fa",
          "pattern": {
           "shape": ""
          }
         },
         "name": "motorola",
         "offsetgroup": "motorola",
         "orientation": "v",
         "showlegend": true,
         "textposition": "auto",
         "type": "bar",
         "x": [
          "Acessorios",
          "Computador",
          "Consola",
          "Eletrodomesticos",
          "Outros",
          "Smartphone",
          "Tablet"
         ],
         "xaxis": "x",
         "y": [
          null,
          null,
          null,
          null,
          null,
          166.5666666666667,
          null
         ],
         "yaxis": "y"
        },
        {
         "alignmentgroup": "True",
         "hovertemplate": "brand=msi<br>categoria=%{x}<br>Preço Médio=%{y}<extra></extra>",
         "legendgroup": "msi",
         "marker": {
          "color": "#FFA15A",
          "pattern": {
           "shape": ""
          }
         },
         "name": "msi",
         "offsetgroup": "msi",
         "orientation": "v",
         "showlegend": true,
         "textposition": "auto",
         "type": "bar",
         "x": [
          "Acessorios",
          "Computador",
          "Consola",
          "Eletrodomesticos",
          "Outros",
          "Smartphone",
          "Tablet"
         ],
         "xaxis": "x",
         "y": [
          null,
          1899.99,
          null,
          null,
          null,
          null,
          null
         ],
         "yaxis": "y"
        },
        {
         "alignmentgroup": "True",
         "hovertemplate": "brand=nespresso<br>categoria=%{x}<br>Preço Médio=%{y}<extra></extra>",
         "legendgroup": "nespresso",
         "marker": {
          "color": "#19d3f3",
          "pattern": {
           "shape": ""
          }
         },
         "name": "nespresso",
         "offsetgroup": "nespresso",
         "orientation": "v",
         "showlegend": true,
         "textposition": "auto",
         "type": "bar",
         "x": [
          "Acessorios",
          "Computador",
          "Consola",
          "Eletrodomesticos",
          "Outros",
          "Smartphone",
          "Tablet"
         ],
         "xaxis": "x",
         "y": [
          null,
          null,
          null,
          52.39200000000001,
          null,
          null,
          null
         ],
         "yaxis": "y"
        },
        {
         "alignmentgroup": "True",
         "hovertemplate": "brand=oneplus<br>categoria=%{x}<br>Preço Médio=%{y}<extra></extra>",
         "legendgroup": "oneplus",
         "marker": {
          "color": "#FF6692",
          "pattern": {
           "shape": ""
          }
         },
         "name": "oneplus",
         "offsetgroup": "oneplus",
         "orientation": "v",
         "showlegend": true,
         "textposition": "auto",
         "type": "bar",
         "x": [
          "Acessorios",
          "Computador",
          "Consola",
          "Eletrodomesticos",
          "Outros",
          "Smartphone",
          "Tablet"
         ],
         "xaxis": "x",
         "y": [
          null,
          null,
          null,
          null,
          null,
          199,
          null
         ],
         "yaxis": "y"
        },
        {
         "alignmentgroup": "True",
         "hovertemplate": "brand=oppo<br>categoria=%{x}<br>Preço Médio=%{y}<extra></extra>",
         "legendgroup": "oppo",
         "marker": {
          "color": "#B6E880",
          "pattern": {
           "shape": ""
          }
         },
         "name": "oppo",
         "offsetgroup": "oppo",
         "orientation": "v",
         "showlegend": true,
         "textposition": "auto",
         "type": "bar",
         "x": [
          "Acessorios",
          "Computador",
          "Consola",
          "Eletrodomesticos",
          "Outros",
          "Smartphone",
          "Tablet"
         ],
         "xaxis": "x",
         "y": [
          null,
          null,
          null,
          null,
          null,
          395.81666666666666,
          null
         ],
         "yaxis": "y"
        },
        {
         "alignmentgroup": "True",
         "hovertemplate": "brand=philips<br>categoria=%{x}<br>Preço Médio=%{y}<extra></extra>",
         "legendgroup": "philips",
         "marker": {
          "color": "#FF97FF",
          "pattern": {
           "shape": ""
          }
         },
         "name": "philips",
         "offsetgroup": "philips",
         "orientation": "v",
         "showlegend": true,
         "textposition": "auto",
         "type": "bar",
         "x": [
          "Acessorios",
          "Computador",
          "Consola",
          "Eletrodomesticos",
          "Outros",
          "Smartphone",
          "Tablet"
         ],
         "xaxis": "x",
         "y": [
          89.99,
          null,
          null,
          null,
          null,
          null,
          null
         ],
         "yaxis": "y"
        },
        {
         "alignmentgroup": "True",
         "hovertemplate": "brand=razer<br>categoria=%{x}<br>Preço Médio=%{y}<extra></extra>",
         "legendgroup": "razer",
         "marker": {
          "color": "#FECB52",
          "pattern": {
           "shape": ""
          }
         },
         "name": "razer",
         "offsetgroup": "razer",
         "orientation": "v",
         "showlegend": true,
         "textposition": "auto",
         "type": "bar",
         "x": [
          "Acessorios",
          "Computador",
          "Consola",
          "Eletrodomesticos",
          "Outros",
          "Smartphone",
          "Tablet"
         ],
         "xaxis": "x",
         "y": [
          null,
          70.655,
          null,
          null,
          null,
          null,
          null
         ],
         "yaxis": "y"
        },
        {
         "alignmentgroup": "True",
         "hovertemplate": "brand=samsung<br>categoria=%{x}<br>Preço Médio=%{y}<extra></extra>",
         "legendgroup": "samsung",
         "marker": {
          "color": "#636efa",
          "pattern": {
           "shape": ""
          }
         },
         "name": "samsung",
         "offsetgroup": "samsung",
         "orientation": "v",
         "showlegend": true,
         "textposition": "auto",
         "type": "bar",
         "x": [
          "Acessorios",
          "Computador",
          "Consola",
          "Eletrodomesticos",
          "Outros",
          "Smartphone",
          "Tablet"
         ],
         "xaxis": "x",
         "y": [
          37.59478260869565,
          null,
          null,
          379.99,
          null,
          579.4455681818182,
          321.7366666666667
         ],
         "yaxis": "y"
        },
        {
         "alignmentgroup": "True",
         "hovertemplate": "brand=sony<br>categoria=%{x}<br>Preço Médio=%{y}<extra></extra>",
         "legendgroup": "sony",
         "marker": {
          "color": "#EF553B",
          "pattern": {
           "shape": ""
          }
         },
         "name": "sony",
         "offsetgroup": "sony",
         "orientation": "v",
         "showlegend": true,
         "textposition": "auto",
         "type": "bar",
         "x": [
          "Acessorios",
          "Computador",
          "Consola",
          "Eletrodomesticos",
          "Outros",
          "Smartphone",
          "Tablet"
         ],
         "xaxis": "x",
         "y": [
          134.645,
          59.15666666666666,
          368.6783482142857,
          null,
          null,
          null,
          null
         ],
         "yaxis": "y"
        },
        {
         "alignmentgroup": "True",
         "hovertemplate": "brand=tcl<br>categoria=%{x}<br>Preço Médio=%{y}<extra></extra>",
         "legendgroup": "tcl",
         "marker": {
          "color": "#00cc96",
          "pattern": {
           "shape": ""
          }
         },
         "name": "tcl",
         "offsetgroup": "tcl",
         "orientation": "v",
         "showlegend": true,
         "textposition": "auto",
         "type": "bar",
         "x": [
          "Acessorios",
          "Computador",
          "Consola",
          "Eletrodomesticos",
          "Outros",
          "Smartphone",
          "Tablet"
         ],
         "xaxis": "x",
         "y": [
          null,
          null,
          null,
          null,
          null,
          399.9,
          null
         ],
         "yaxis": "y"
        },
        {
         "alignmentgroup": "True",
         "hovertemplate": "brand=xbox<br>categoria=%{x}<br>Preço Médio=%{y}<extra></extra>",
         "legendgroup": "xbox",
         "marker": {
          "color": "#ab63fa",
          "pattern": {
           "shape": ""
          }
         },
         "name": "xbox",
         "offsetgroup": "xbox",
         "orientation": "v",
         "showlegend": true,
         "textposition": "auto",
         "type": "bar",
         "x": [
          "Acessorios",
          "Computador",
          "Consola",
          "Eletrodomesticos",
          "Outros",
          "Smartphone",
          "Tablet"
         ],
         "xaxis": "x",
         "y": [
          303.16833333333335,
          null,
          257.1559693877551,
          null,
          null,
          null,
          null
         ],
         "yaxis": "y"
        },
        {
         "alignmentgroup": "True",
         "hovertemplate": "brand=xiaomi<br>categoria=%{x}<br>Preço Médio=%{y}<extra></extra>",
         "legendgroup": "xiaomi",
         "marker": {
          "color": "#FFA15A",
          "pattern": {
           "shape": ""
          }
         },
         "name": "xiaomi",
         "offsetgroup": "xiaomi",
         "orientation": "v",
         "showlegend": true,
         "textposition": "auto",
         "type": "bar",
         "x": [
          "Acessorios",
          "Computador",
          "Consola",
          "Eletrodomesticos",
          "Outros",
          "Smartphone",
          "Tablet"
         ],
         "xaxis": "x",
         "y": [
          null,
          null,
          null,
          null,
          null,
          328.81692307692305,
          null
         ],
         "yaxis": "y"
        }
       ],
       "layout": {
        "barmode": "group",
        "legend": {
         "title": {
          "text": "Marca"
         },
         "tracegroupgap": 0
        },
        "template": {
         "data": {
          "bar": [
           {
            "error_x": {
             "color": "#2a3f5f"
            },
            "error_y": {
             "color": "#2a3f5f"
            },
            "marker": {
             "line": {
              "color": "#E5ECF6",
              "width": 0.5
             },
             "pattern": {
              "fillmode": "overlay",
              "size": 10,
              "solidity": 0.2
             }
            },
            "type": "bar"
           }
          ],
          "barpolar": [
           {
            "marker": {
             "line": {
              "color": "#E5ECF6",
              "width": 0.5
             },
             "pattern": {
              "fillmode": "overlay",
              "size": 10,
              "solidity": 0.2
             }
            },
            "type": "barpolar"
           }
          ],
          "carpet": [
           {
            "aaxis": {
             "endlinecolor": "#2a3f5f",
             "gridcolor": "white",
             "linecolor": "white",
             "minorgridcolor": "white",
             "startlinecolor": "#2a3f5f"
            },
            "baxis": {
             "endlinecolor": "#2a3f5f",
             "gridcolor": "white",
             "linecolor": "white",
             "minorgridcolor": "white",
             "startlinecolor": "#2a3f5f"
            },
            "type": "carpet"
           }
          ],
          "choropleth": [
           {
            "colorbar": {
             "outlinewidth": 0,
             "ticks": ""
            },
            "type": "choropleth"
           }
          ],
          "contour": [
           {
            "colorbar": {
             "outlinewidth": 0,
             "ticks": ""
            },
            "colorscale": [
             [
              0,
              "#0d0887"
             ],
             [
              0.1111111111111111,
              "#46039f"
             ],
             [
              0.2222222222222222,
              "#7201a8"
             ],
             [
              0.3333333333333333,
              "#9c179e"
             ],
             [
              0.4444444444444444,
              "#bd3786"
             ],
             [
              0.5555555555555556,
              "#d8576b"
             ],
             [
              0.6666666666666666,
              "#ed7953"
             ],
             [
              0.7777777777777778,
              "#fb9f3a"
             ],
             [
              0.8888888888888888,
              "#fdca26"
             ],
             [
              1,
              "#f0f921"
             ]
            ],
            "type": "contour"
           }
          ],
          "contourcarpet": [
           {
            "colorbar": {
             "outlinewidth": 0,
             "ticks": ""
            },
            "type": "contourcarpet"
           }
          ],
          "heatmap": [
           {
            "colorbar": {
             "outlinewidth": 0,
             "ticks": ""
            },
            "colorscale": [
             [
              0,
              "#0d0887"
             ],
             [
              0.1111111111111111,
              "#46039f"
             ],
             [
              0.2222222222222222,
              "#7201a8"
             ],
             [
              0.3333333333333333,
              "#9c179e"
             ],
             [
              0.4444444444444444,
              "#bd3786"
             ],
             [
              0.5555555555555556,
              "#d8576b"
             ],
             [
              0.6666666666666666,
              "#ed7953"
             ],
             [
              0.7777777777777778,
              "#fb9f3a"
             ],
             [
              0.8888888888888888,
              "#fdca26"
             ],
             [
              1,
              "#f0f921"
             ]
            ],
            "type": "heatmap"
           }
          ],
          "heatmapgl": [
           {
            "colorbar": {
             "outlinewidth": 0,
             "ticks": ""
            },
            "colorscale": [
             [
              0,
              "#0d0887"
             ],
             [
              0.1111111111111111,
              "#46039f"
             ],
             [
              0.2222222222222222,
              "#7201a8"
             ],
             [
              0.3333333333333333,
              "#9c179e"
             ],
             [
              0.4444444444444444,
              "#bd3786"
             ],
             [
              0.5555555555555556,
              "#d8576b"
             ],
             [
              0.6666666666666666,
              "#ed7953"
             ],
             [
              0.7777777777777778,
              "#fb9f3a"
             ],
             [
              0.8888888888888888,
              "#fdca26"
             ],
             [
              1,
              "#f0f921"
             ]
            ],
            "type": "heatmapgl"
           }
          ],
          "histogram": [
           {
            "marker": {
             "pattern": {
              "fillmode": "overlay",
              "size": 10,
              "solidity": 0.2
             }
            },
            "type": "histogram"
           }
          ],
          "histogram2d": [
           {
            "colorbar": {
             "outlinewidth": 0,
             "ticks": ""
            },
            "colorscale": [
             [
              0,
              "#0d0887"
             ],
             [
              0.1111111111111111,
              "#46039f"
             ],
             [
              0.2222222222222222,
              "#7201a8"
             ],
             [
              0.3333333333333333,
              "#9c179e"
             ],
             [
              0.4444444444444444,
              "#bd3786"
             ],
             [
              0.5555555555555556,
              "#d8576b"
             ],
             [
              0.6666666666666666,
              "#ed7953"
             ],
             [
              0.7777777777777778,
              "#fb9f3a"
             ],
             [
              0.8888888888888888,
              "#fdca26"
             ],
             [
              1,
              "#f0f921"
             ]
            ],
            "type": "histogram2d"
           }
          ],
          "histogram2dcontour": [
           {
            "colorbar": {
             "outlinewidth": 0,
             "ticks": ""
            },
            "colorscale": [
             [
              0,
              "#0d0887"
             ],
             [
              0.1111111111111111,
              "#46039f"
             ],
             [
              0.2222222222222222,
              "#7201a8"
             ],
             [
              0.3333333333333333,
              "#9c179e"
             ],
             [
              0.4444444444444444,
              "#bd3786"
             ],
             [
              0.5555555555555556,
              "#d8576b"
             ],
             [
              0.6666666666666666,
              "#ed7953"
             ],
             [
              0.7777777777777778,
              "#fb9f3a"
             ],
             [
              0.8888888888888888,
              "#fdca26"
             ],
             [
              1,
              "#f0f921"
             ]
            ],
            "type": "histogram2dcontour"
           }
          ],
          "mesh3d": [
           {
            "colorbar": {
             "outlinewidth": 0,
             "ticks": ""
            },
            "type": "mesh3d"
           }
          ],
          "parcoords": [
           {
            "line": {
             "colorbar": {
              "outlinewidth": 0,
              "ticks": ""
             }
            },
            "type": "parcoords"
           }
          ],
          "pie": [
           {
            "automargin": true,
            "type": "pie"
           }
          ],
          "scatter": [
           {
            "fillpattern": {
             "fillmode": "overlay",
             "size": 10,
             "solidity": 0.2
            },
            "type": "scatter"
           }
          ],
          "scatter3d": [
           {
            "line": {
             "colorbar": {
              "outlinewidth": 0,
              "ticks": ""
             }
            },
            "marker": {
             "colorbar": {
              "outlinewidth": 0,
              "ticks": ""
             }
            },
            "type": "scatter3d"
           }
          ],
          "scattercarpet": [
           {
            "marker": {
             "colorbar": {
              "outlinewidth": 0,
              "ticks": ""
             }
            },
            "type": "scattercarpet"
           }
          ],
          "scattergeo": [
           {
            "marker": {
             "colorbar": {
              "outlinewidth": 0,
              "ticks": ""
             }
            },
            "type": "scattergeo"
           }
          ],
          "scattergl": [
           {
            "marker": {
             "colorbar": {
              "outlinewidth": 0,
              "ticks": ""
             }
            },
            "type": "scattergl"
           }
          ],
          "scattermapbox": [
           {
            "marker": {
             "colorbar": {
              "outlinewidth": 0,
              "ticks": ""
             }
            },
            "type": "scattermapbox"
           }
          ],
          "scatterpolar": [
           {
            "marker": {
             "colorbar": {
              "outlinewidth": 0,
              "ticks": ""
             }
            },
            "type": "scatterpolar"
           }
          ],
          "scatterpolargl": [
           {
            "marker": {
             "colorbar": {
              "outlinewidth": 0,
              "ticks": ""
             }
            },
            "type": "scatterpolargl"
           }
          ],
          "scatterternary": [
           {
            "marker": {
             "colorbar": {
              "outlinewidth": 0,
              "ticks": ""
             }
            },
            "type": "scatterternary"
           }
          ],
          "surface": [
           {
            "colorbar": {
             "outlinewidth": 0,
             "ticks": ""
            },
            "colorscale": [
             [
              0,
              "#0d0887"
             ],
             [
              0.1111111111111111,
              "#46039f"
             ],
             [
              0.2222222222222222,
              "#7201a8"
             ],
             [
              0.3333333333333333,
              "#9c179e"
             ],
             [
              0.4444444444444444,
              "#bd3786"
             ],
             [
              0.5555555555555556,
              "#d8576b"
             ],
             [
              0.6666666666666666,
              "#ed7953"
             ],
             [
              0.7777777777777778,
              "#fb9f3a"
             ],
             [
              0.8888888888888888,
              "#fdca26"
             ],
             [
              1,
              "#f0f921"
             ]
            ],
            "type": "surface"
           }
          ],
          "table": [
           {
            "cells": {
             "fill": {
              "color": "#EBF0F8"
             },
             "line": {
              "color": "white"
             }
            },
            "header": {
             "fill": {
              "color": "#C8D4E3"
             },
             "line": {
              "color": "white"
             }
            },
            "type": "table"
           }
          ]
         },
         "layout": {
          "annotationdefaults": {
           "arrowcolor": "#2a3f5f",
           "arrowhead": 0,
           "arrowwidth": 1
          },
          "autotypenumbers": "strict",
          "coloraxis": {
           "colorbar": {
            "outlinewidth": 0,
            "ticks": ""
           }
          },
          "colorscale": {
           "diverging": [
            [
             0,
             "#8e0152"
            ],
            [
             0.1,
             "#c51b7d"
            ],
            [
             0.2,
             "#de77ae"
            ],
            [
             0.3,
             "#f1b6da"
            ],
            [
             0.4,
             "#fde0ef"
            ],
            [
             0.5,
             "#f7f7f7"
            ],
            [
             0.6,
             "#e6f5d0"
            ],
            [
             0.7,
             "#b8e186"
            ],
            [
             0.8,
             "#7fbc41"
            ],
            [
             0.9,
             "#4d9221"
            ],
            [
             1,
             "#276419"
            ]
           ],
           "sequential": [
            [
             0,
             "#0d0887"
            ],
            [
             0.1111111111111111,
             "#46039f"
            ],
            [
             0.2222222222222222,
             "#7201a8"
            ],
            [
             0.3333333333333333,
             "#9c179e"
            ],
            [
             0.4444444444444444,
             "#bd3786"
            ],
            [
             0.5555555555555556,
             "#d8576b"
            ],
            [
             0.6666666666666666,
             "#ed7953"
            ],
            [
             0.7777777777777778,
             "#fb9f3a"
            ],
            [
             0.8888888888888888,
             "#fdca26"
            ],
            [
             1,
             "#f0f921"
            ]
           ],
           "sequentialminus": [
            [
             0,
             "#0d0887"
            ],
            [
             0.1111111111111111,
             "#46039f"
            ],
            [
             0.2222222222222222,
             "#7201a8"
            ],
            [
             0.3333333333333333,
             "#9c179e"
            ],
            [
             0.4444444444444444,
             "#bd3786"
            ],
            [
             0.5555555555555556,
             "#d8576b"
            ],
            [
             0.6666666666666666,
             "#ed7953"
            ],
            [
             0.7777777777777778,
             "#fb9f3a"
            ],
            [
             0.8888888888888888,
             "#fdca26"
            ],
            [
             1,
             "#f0f921"
            ]
           ]
          },
          "colorway": [
           "#636efa",
           "#EF553B",
           "#00cc96",
           "#ab63fa",
           "#FFA15A",
           "#19d3f3",
           "#FF6692",
           "#B6E880",
           "#FF97FF",
           "#FECB52"
          ],
          "font": {
           "color": "#2a3f5f"
          },
          "geo": {
           "bgcolor": "white",
           "lakecolor": "white",
           "landcolor": "#E5ECF6",
           "showlakes": true,
           "showland": true,
           "subunitcolor": "white"
          },
          "hoverlabel": {
           "align": "left"
          },
          "hovermode": "closest",
          "mapbox": {
           "style": "light"
          },
          "paper_bgcolor": "white",
          "plot_bgcolor": "#E5ECF6",
          "polar": {
           "angularaxis": {
            "gridcolor": "white",
            "linecolor": "white",
            "ticks": ""
           },
           "bgcolor": "#E5ECF6",
           "radialaxis": {
            "gridcolor": "white",
            "linecolor": "white",
            "ticks": ""
           }
          },
          "scene": {
           "xaxis": {
            "backgroundcolor": "#E5ECF6",
            "gridcolor": "white",
            "gridwidth": 2,
            "linecolor": "white",
            "showbackground": true,
            "ticks": "",
            "zerolinecolor": "white"
           },
           "yaxis": {
            "backgroundcolor": "#E5ECF6",
            "gridcolor": "white",
            "gridwidth": 2,
            "linecolor": "white",
            "showbackground": true,
            "ticks": "",
            "zerolinecolor": "white"
           },
           "zaxis": {
            "backgroundcolor": "#E5ECF6",
            "gridcolor": "white",
            "gridwidth": 2,
            "linecolor": "white",
            "showbackground": true,
            "ticks": "",
            "zerolinecolor": "white"
           }
          },
          "shapedefaults": {
           "line": {
            "color": "#2a3f5f"
           }
          },
          "ternary": {
           "aaxis": {
            "gridcolor": "white",
            "linecolor": "white",
            "ticks": ""
           },
           "baxis": {
            "gridcolor": "white",
            "linecolor": "white",
            "ticks": ""
           },
           "bgcolor": "#E5ECF6",
           "caxis": {
            "gridcolor": "white",
            "linecolor": "white",
            "ticks": ""
           }
          },
          "title": {
           "x": 0.05
          },
          "xaxis": {
           "automargin": true,
           "gridcolor": "white",
           "linecolor": "white",
           "ticks": "",
           "title": {
            "standoff": 15
           },
           "zerolinecolor": "white",
           "zerolinewidth": 2
          },
          "yaxis": {
           "automargin": true,
           "gridcolor": "white",
           "linecolor": "white",
           "ticks": "",
           "title": {
            "standoff": 15
           },
           "zerolinecolor": "white",
           "zerolinewidth": 2
          }
         }
        },
        "title": {
         "text": "Preço Médio por Marca e Categoria"
        },
        "xaxis": {
         "anchor": "y",
         "domain": [
          0,
          1
         ],
         "title": {
          "text": "Categoria - Marca"
         }
        },
        "yaxis": {
         "anchor": "x",
         "domain": [
          0,
          1
         ],
         "title": {
          "text": "Preço Médio"
         }
        }
       }
      }
     },
     "metadata": {},
     "output_type": "display_data"
    },
    {
     "data": {
      "text/plain": [
       "<Figure size 1200x600 with 0 Axes>"
      ]
     },
     "metadata": {},
     "output_type": "display_data"
    },
    {
     "data": {
      "image/png": "[encoded data removed]",
      "text/plain": [
       "<Figure size 1200x600 with 1 Axes>"
      ]
     },
     "metadata": {},
     "output_type": "display_data"
    },
    {
     "ename": "NameError",
     "evalue": "name 'sns' is not defined",
     "output_type": "error",
     "traceback": [
      "\u001b[0;31m---------------------------------------------------------------------------\u001b[0m",
      "\u001b[0;31mNameError\u001b[0m                                 Traceback (most recent call last)",
      "Cell \u001b[0;32mIn[9], line 327\u001b[0m\n\u001b[1;32m    325\u001b[0m visualizer\u001b[38;5;241m.\u001b[39mplot_price_comparison()\n\u001b[1;32m    326\u001b[0m visualizer\u001b[38;5;241m.\u001b[39mplot_discount_analysis()\n\u001b[0;32m--> 327\u001b[0m \u001b[43mvisualizer\u001b[49m\u001b[38;5;241;43m.\u001b[39;49m\u001b[43mplot_site_brand_presence\u001b[49m\u001b[43m(\u001b[49m\u001b[43m)\u001b[49m\n\u001b[1;32m    328\u001b[0m visualizer\u001b[38;5;241m.\u001b[39mplot_model_series_distribution_iphone8()\n\u001b[1;32m    329\u001b[0m visualizer\u001b[38;5;241m.\u001b[39manalyze_temporal_for_product(\u001b[38;5;124m\"\u001b[39m\u001b[38;5;124mapple\u001b[39m\u001b[38;5;124m\"\u001b[39m,\u001b[38;5;124m\"\u001b[39m\u001b[38;5;124miphone 8\u001b[39m\u001b[38;5;124m\"\u001b[39m, \u001b[38;5;241m64.0\u001b[39m,\u001b[38;5;124m\"\u001b[39m\u001b[38;5;124mprateado\u001b[39m\u001b[38;5;124m\"\u001b[39m,\u001b[38;5;124m\"\u001b[39m\u001b[38;5;124mfnac\u001b[39m\u001b[38;5;124m\"\u001b[39m)\n",
      "Cell \u001b[0;32mIn[9], line 79\u001b[0m, in \u001b[0;36mProductVisualizer.plot_site_brand_presence\u001b[0;34m(self)\u001b[0m\n\u001b[1;32m     76\u001b[0m site_presence \u001b[38;5;241m=\u001b[39m \u001b[38;5;28mself\u001b[39m\u001b[38;5;241m.\u001b[39minsights[\u001b[38;5;124m'\u001b[39m\u001b[38;5;124mby_brand\u001b[39m\u001b[38;5;124m'\u001b[39m][\u001b[38;5;124m'\u001b[39m\u001b[38;5;124msite_presence\u001b[39m\u001b[38;5;124m'\u001b[39m]\n\u001b[1;32m     78\u001b[0m plt\u001b[38;5;241m.\u001b[39mfigure(figsize\u001b[38;5;241m=\u001b[39m(\u001b[38;5;241m15\u001b[39m, \u001b[38;5;241m10\u001b[39m))\n\u001b[0;32m---> 79\u001b[0m \u001b[43msns\u001b[49m\u001b[38;5;241m.\u001b[39mheatmap(site_presence, annot\u001b[38;5;241m=\u001b[39m\u001b[38;5;28;01mTrue\u001b[39;00m, cmap\u001b[38;5;241m=\u001b[39m\u001b[38;5;124m'\u001b[39m\u001b[38;5;124mYlGnBu\u001b[39m\u001b[38;5;124m'\u001b[39m, fmt\u001b[38;5;241m=\u001b[39m\u001b[38;5;124m'\u001b[39m\u001b[38;5;124md\u001b[39m\u001b[38;5;124m'\u001b[39m, linewidths\u001b[38;5;241m=\u001b[39m\u001b[38;5;241m0.5\u001b[39m)\n\u001b[1;32m     80\u001b[0m plt\u001b[38;5;241m.\u001b[39mtitle(\u001b[38;5;124m'\u001b[39m\u001b[38;5;124mPresença de Marcas por Site\u001b[39m\u001b[38;5;124m'\u001b[39m)\n\u001b[1;32m     81\u001b[0m plt\u001b[38;5;241m.\u001b[39mxlabel(\u001b[38;5;124m'\u001b[39m\u001b[38;5;124mSite\u001b[39m\u001b[38;5;124m'\u001b[39m)\n",
      "\u001b[0;31mNameError\u001b[0m: name 'sns' is not defined"
     ]
    },
    {
     "data": {
      "text/plain": [
       "<Figure size 1500x1000 with 0 Axes>"
      ]
     },
     "metadata": {},
     "output_type": "display_data"
    }
   ],
   "source": [
    "\n",
    "class ProductVisualizer:\n",
    "    def __init__(self, df_analyzed, insights):\n",
    "        self.df = df_analyzed\n",
    "        self.insights = insights\n",
    "        self.analyser = ProductAnalyzer()\n",
    "    \n",
    "    def plot_category_distribution(self):\n",
    "        \"\"\"Distribuição de produtos por categoria\"\"\"\n",
    "        plt.figure(figsize=(12, 6))\n",
    "        category_counts = self.insights['by_category']['total_products']\n",
    "        category_counts = category_counts.reset_index()\n",
    "        category_counts.columns = ['categoria', 'total_products']\n",
    "        fig = px.bar(\n",
    "            category_counts.reset_index(),\n",
    "            x='categoria',\n",
    "            y='total_products',\n",
    "            title='Distribuição de Produtos por Categoria',\n",
    "            labels={'categoria': 'Categoria', 'total_products': 'Número de Produtos'},\n",
    "            color='categoria'\n",
    "        )\n",
    "        fig.update_layout(\n",
    "            xaxis_title='Categoria',\n",
    "            yaxis_title='Número de Produtos',\n",
    "            legend_title='Categoria'\n",
    "        )\n",
    "        fig.show()\n",
    "    \n",
    "    def plot_brand_market_share(self):\n",
    "        \"\"\"Market share por categoria\"\"\"\n",
    "        brand_distribution = self.insights['by_category']['brand_distribution']\n",
    "        \n",
    "        fig = px.bar(\n",
    "            brand_distribution,\n",
    "            title='Distribuição de Marcas por Categoria',\n",
    "            labels={'value': 'Número de Produtos', 'index': 'Categoria'},\n",
    "            barmode='stack'\n",
    "        )\n",
    "        fig.update_layout(\n",
    "            xaxis_title='Categoria',\n",
    "            yaxis_title='Número de Produtos',\n",
    "            legend_title='Marca'\n",
    "        )\n",
    "        fig.show()\n",
    "    \n",
    "    def plot_price_comparison(self):\n",
    "        \"\"\"Comparação de preços por marca e categoria\"\"\"\n",
    "        avg_prices = self.insights['by_brand']['avg_price_by_category']\n",
    "        \n",
    "        fig = px.bar(\n",
    "            avg_prices.unstack(),\n",
    "            title='Preço Médio por Marca e Categoria',\n",
    "            labels={'value': 'Preço Médio', 'index': 'Categoria - Marca'},\n",
    "            barmode='group'\n",
    "        )\n",
    "        fig.update_layout(\n",
    "            xaxis_title='Categoria - Marca',\n",
    "            yaxis_title='Preço Médio',\n",
    "            legend_title='Marca'\n",
    "        )\n",
    "        fig.show()\n",
    "\n",
    "    def plot_discount_analysis(self):\n",
    "        \"\"\"analise de descontos por marca\"\"\"\n",
    "        discount_comparison = self.insights['by_brand']['discount_comparison']\n",
    "        \n",
    "        plt.figure(figsize=(12, 6))\n",
    "        discount_comparison.plot(kind='bar', color='lightcoral', edgecolor='black')\n",
    "        plt.title('Percentual de Desconto Médio por Marca')\n",
    "        plt.xlabel('Marca')\n",
    "        plt.ylabel('Desconto Médio (%)')\n",
    "        plt.tight_layout()\n",
    "        plt.show()\n",
    "    \n",
    "    def plot_site_brand_presence(self):\n",
    "        \"\"\"presenca de marcas por site\"\"\"\n",
    "        site_presence = self.insights['by_brand']['site_presence']\n",
    "        \n",
    "        plt.figure(figsize=(15, 10))\n",
    "        sns.heatmap(site_presence, annot=True, cmap='YlGnBu', fmt='d', linewidths=0.5)\n",
    "        plt.title('Presença de Marcas por Site')\n",
    "        plt.xlabel('Site')\n",
    "        plt.ylabel('Marca')\n",
    "        plt.tight_layout()\n",
    "        plt.show()\n",
    "\n",
    "    def plot_site_colors_presence(self):\n",
    "        \"\"\"Comparação entre sites de cores de iPhone e Galaxy S\"\"\"\n",
    "        iphone_colors = self.insights['by_iphone_colors_by_site']\n",
    "        galaxyS_colors = self.insights['by_galaxyS_colors_by_site']\n",
    "        \n",
    "        combined_colors = pd.concat([\n",
    "            iphone_colors.assign(brand='iPhone', num_colors=iphone_colors['num_iphone_colors']),\n",
    "            galaxyS_colors.assign(brand='Galaxy S', num_colors=galaxyS_colors['num_galaxyS_colors'])\n",
    "        ])\n",
    "        \n",
    "        fig = px.bar(\n",
    "            combined_colors,\n",
    "            x='site',\n",
    "            y='num_colors',\n",
    "            color='brand',\n",
    "            barmode='group',\n",
    "            title='Número de Cores Disponíveis por Site para iPhone e Galaxy S',\n",
    "            labels={'num_colors': 'Número de Cores', 'site': 'Site', 'brand': 'Marca'},\n",
    "            category_orders={'brand': ['iPhone', 'Galaxy S']}  # Ordem das barras (opcional)\n",
    "        )\n",
    "        \n",
    "        fig.show()\n",
    "\n",
    "    def plot_model_series_distribution_iphone8(self):\n",
    "        \"\"\"distribuicao do numero de produtos por modelo\"\"\"\n",
    "        model_distribution = self.insights['by_model']\n",
    "        model_distribution = model_distribution['total_products']\n",
    "        \n",
    "        fig = px.bar(\n",
    "            model_distribution,\n",
    "            title='Distribuição de Numero de Produtos por Modelo',\n",
    "            labels={'value': 'Número de Produtos', 'index': 'Preço'},\n",
    "            barmode='group'\n",
    "        )\n",
    "        fig.update_layout(\n",
    "            xaxis_title='Preço',\n",
    "            yaxis_title='Número de Produtos',\n",
    "            legend_title='Marca'\n",
    "        )\n",
    "        fig.show()\n",
    "        \n",
    "    def analyze_temporal_for_product(self, brand, brand_model, hdd, color, site):\n",
    "        \"\"\"\n",
    "         analise temporal de preços mínimos para um produto e site especifico.\n",
    "        \"\"\"\n",
    "        filtered_df = df_analyzed[\n",
    "            (df_analyzed['brand'].str.contains(brand, case=False, na=False)) & \n",
    "            (df_analyzed['brand_model'].str.contains(brand_model, case=False, na=False)) &\n",
    "            (df_analyzed['site'].str.contains(site, case=False, na=False)) &\n",
    "            ((df_analyzed['HDD_size'] == hdd) | (pd.isna(df_analyzed['HDD_size']) & (hdd is None))) &\n",
    "            \n",
    "            ((df_analyzed['color'].str.contains(color, case=False, na=False)) if color else True)\n",
    "       \n",
    "        ]\n",
    "        \n",
    "        if filtered_df.empty:\n",
    "            return None, \"Nenhum dado encontrado para o produto e site especificados.\"\n",
    "        \n",
    "        try:\n",
    "            temporal_data, summary = self.analyser.compare_temporal_analysis(filtered_df)\n",
    "        except ValueError as e:\n",
    "            return None, str(e)\n",
    "        \n",
    "        fig = px.line(\n",
    "            temporal_data,\n",
    "            x='date',\n",
    "            y='min_price',\n",
    "            color='brand_model',\n",
    "            title=f\"Preço Mínimo ao Longo do Tempo: {brand} {brand_model} {hdd} {color} - {site}\",\n",
    "            labels={'date': 'Data', 'min_price': 'Preço Mínimo (€)', 'brand_model': 'Produto'}\n",
    "        )\n",
    "        \n",
    "        fig.update_layout(\n",
    "            xaxis_title='Data',\n",
    "            yaxis_title='Preço Mínimo (€)',\n",
    "            legend_title='Produto',\n",
    "            hovermode='x unified'\n",
    "        )\n",
    "        \n",
    "        fig.show()\n",
    "\n",
    "    def analyze_temporal_for_set_of_products(self, dict_of_products):\n",
    "        \"\"\"\n",
    "        Analise temporal ao um conjunto de produtos\n",
    "        \"\"\"\n",
    "\n",
    "        all_temporal_data = []\n",
    "\n",
    "        for product_id, product_params in dict_of_products.items():\n",
    "            print(product_id, product_params)\n",
    "            brand = product_params.get('brand')\n",
    "            brand_model = product_params.get('brand_model')\n",
    "            hdd = product_params.get('hdd')\n",
    "            color = product_params.get('color')\n",
    "            site = product_params.get('site')\n",
    "            print(brand, brand_model, hdd, color, site)\n",
    "            filtered_df = df_analyzed[\n",
    "                (df_analyzed['brand'].str.contains(brand, case=False, na=False)) & \n",
    "                (df_analyzed['brand_model'].str.contains(brand_model, case=False, na=False)) &\n",
    "                (df_analyzed['site'].str.contains(site, case=False, na=False))\n",
    "            ]\n",
    "\n",
    "            if hdd is not None:\n",
    "                filtered_df = filtered_df[filtered_df['HDD_size'] == hdd]\n",
    "\n",
    "            if color is not None:\n",
    "                filtered_df = filtered_df[filtered_df['color'].str.contains(color, case=False, na=False)]\n",
    "\n",
    "            if not filtered_df.empty:\n",
    "                try:\n",
    "                    temporal_data, summary = self.analyser.compare_temporal_analysis(filtered_df)\n",
    "                    temporal_data['product_id'] = product_id  # Adiciona o identificador do produto\n",
    "                    all_temporal_data.append(temporal_data)\n",
    "                except ValueError as e:\n",
    "                    continue  \n",
    "\n",
    "        if not all_temporal_data:\n",
    "            return None, \"Nenhum dado encontrado para os produtos e sites especificados.\"\n",
    "\n",
    "        all_temporal_data_df = pd.concat(all_temporal_data)\n",
    "\n",
    "        fig = px.line(\n",
    "            all_temporal_data_df,\n",
    "            x='date',\n",
    "            y='min_price',\n",
    "            color='product_id',\n",
    "            title=\"Preço Mínimo ao Longo do Tempo para os Produtos\",\n",
    "            labels={'date': 'Data', 'min_price': 'Preço Mínimo (€)', 'product_id': 'Produto'}\n",
    "        )\n",
    "        \n",
    "        fig.update_layout(\n",
    "            xaxis_title='Data',\n",
    "            yaxis_title='Preço Mínimo (€)',\n",
    "            legend_title='Produto',\n",
    "            hovermode='x unified'\n",
    "        )\n",
    "        \n",
    "        fig.show()\n",
    "\n",
    "        \n",
    "        \n",
    "\n",
    "    def analyze_discount_distribution(self):\n",
    "        \"\"\"\n",
    "        Analisa a distribuição de preços em faixas de desconto.\n",
    "        \"\"\"\n",
    "        bins = [0, 10, 20, 30, 40, 50, 100]\n",
    "        labels = ['0-10%', '10-20%', '20-30%', '30-40%', '40-50%', '50%+']\n",
    "        df_analyzed['discount_range'] = pd.cut(df_analyzed['discount_percent'], bins=bins, labels=labels)\n",
    "        \n",
    "        discount_distribution = df_analyzed['discount_range'].value_counts().sort_index()\n",
    "        \n",
    "        plt.figure(figsize=(10, 6))\n",
    "        discount_distribution.plot(kind='bar', color='skyblue', edgecolor='black')\n",
    "        plt.title(\"Distribuição de Produtos por Faixa de Desconto\")\n",
    "        plt.xlabel(\"Faixa de Desconto (%)\")\n",
    "        plt.ylabel(\"Quantidade de Produtos\")\n",
    "        plt.xticks(rotation=45)\n",
    "        plt.grid(axis='y', linestyle='--', alpha=0.7)\n",
    "        plt.show()\n",
    "        \n",
    "        return discount_distribution\n",
    "    \n",
    "    def compare_temporal_by_category(self):\n",
    "        \"\"\"\n",
    "        comparacao temporal dos precos por categoria\n",
    "        \"\"\"\n",
    "        temporal_data = df_analyzed.groupby(['categoria', 'date']).agg({\n",
    "            'min_price': 'mean'\n",
    "        }).reset_index()\n",
    "        \n",
    "        temporal_data['date'] = pd.to_datetime(temporal_data['date'], format='%Y%m%d')\n",
    "        \n",
    "        fig = px.line(\n",
    "            temporal_data,\n",
    "            x='date',\n",
    "            y='min_price',\n",
    "            color='categoria',\n",
    "            title=\"Média de Preços por Categorias ao Longo do Tempo\",\n",
    "            labels={'date': 'Data', 'min_price': 'Preço Médio (€)', 'categoria': 'Categoria'}\n",
    "        )\n",
    "        \n",
    "        fig.update_layout(\n",
    "            xaxis_title='Data',\n",
    "            yaxis_title='Preço Médio (€)',\n",
    "            legend_title='Categoria',\n",
    "            hovermode='x unified'\n",
    "        )\n",
    "        \n",
    "        fig.show()\n",
    "        \n",
    "\n",
    "\n",
    "    def analyze_price_range(_df_analyzed, price_min, price_max):\n",
    "        \"\"\"\n",
    "        Realiza análise de produtos em uma faixa de preço específica.\n",
    "        \"\"\"\n",
    "        filtered_df = df_analyzed[(df_analyzed['min_price'] >= price_min) & (df_analyzed['min_price'] <= price_max)]\n",
    "        \n",
    "        if filtered_df.empty:\n",
    "            return f\"Nenhum produto encontrado na faixa de preço €{price_min} - €{price_max}.\"\n",
    "        \n",
    "        cheapest_product = filtered_df.loc[filtered_df['min_price'].idxmin()]\n",
    "        most_expensive_product = filtered_df.loc[filtered_df['min_price'].idxmax()]\n",
    "        \n",
    "        plt.figure(figsize=(10, 6))\n",
    "        plt.hist(filtered_df['min_price'], bins=20, color='skyblue', edgecolor='black')\n",
    "        plt.title(f\"Distribuição de Preços na Faixa: €{price_min} - €{price_max}\")\n",
    "        plt.xlabel(\"Preço (€)\")\n",
    "        plt.ylabel(\"Quantidade de Produtos\")\n",
    "        plt.grid(axis='y', linestyle='--', alpha=0.7)\n",
    "        plt.show()\n",
    "        \n",
    "        return {\n",
    "            \"cheapest_product\": cheapest_product,\n",
    "            \"most_expensive_product\": most_expensive_product\n",
    "        }\n",
    "\n",
    "\n",
    "\n",
    "df = pd.read_csv(\"all_prices_extracted_cleaned_categorized.csv\")\n",
    "analyzer = ProductAnalyzer()\n",
    "df_analyzed, insights = analyzer.analyze_dataset(df)\n",
    "\n",
    "visualizer = ProductVisualizer(df_analyzed, insights)\n",
    "\n",
    "visualizer.plot_category_distribution()\n",
    "visualizer.plot_brand_market_share()\n",
    "visualizer.plot_price_comparison()\n",
    "visualizer.plot_discount_analysis()\n",
    "visualizer.plot_site_brand_presence()\n",
    "visualizer.plot_model_series_distribution_iphone8()\n",
    "visualizer.analyze_temporal_for_product(\"apple\",\"iphone 8\", 64.0,\"prateado\",\"fnac\")\n",
    "visualizer.analyze_temporal_for_set_of_products({\n",
    "    'iphone_8 - fnac': {'brand': 'apple', 'brand_model': 'iphone 8', 'hdd': 64.0, 'color': 'prateado', 'site': 'fnac'},\n",
    "    'galaxy_s8 - fnac': {'brand': 'samsung', 'brand_model': 'galaxy_s 8', 'hdd': 64.0, 'color': 'azul', 'site': 'fnac'},\n",
    "    'huawei_p20 - elcorteingles' : {'brand': 'huawei', 'brand_model': 'p 20', 'hdd': 128.0, 'color': 'preto', 'site': 'elcorteingles'}\n",
    "})\n",
    "visualizer.analyze_discount_distribution()\n",
    "visualizer.compare_temporal_by_category()\n",
    "visualizer.analyze_price_range(500, 800)\n",
    "\n",
    "\n",
    "\n"
   ]
  },
  {
   "cell_type": "code",
   "execution_count": null,
   "metadata": {},
   "outputs": [],
   "source": [
    "# quero fazer um grafo do site, por marca, por modelo, por cor, por tamanho de disco, por tamanho de RAM, pode ser com algum modelo\n",
    "def plot_graph(df):\n",
    "    fig = go.Figure(data=[go.Sankey(\n",
    "        node = dict(\n",
    "          pad = 15,\n",
    "          thickness = 20,\n",
    "          line = dict(color = \"black\", width = 0.5),\n",
    "          label = [\"site\", \"marca\", \"modelo\", \"cor\", \"tamanho disco\", \"tamanho RAM\"],\n",
    "          color = \"blue\"\n",
    "        ),\n",
    "        link = dict(\n",
    "          source = [0, 0, 0, 0, 0],\n",
    "          target = [1, 2, 3, 4, 5],\n",
    "          value = [df['site'].nunique(), df['brand'].nunique(), df['brand_model'].nunique(), df['color'].nunique(), df['HDD_size'].nunique()]\n",
    "      ))])\n",
    "\n",
    "    fig.update_layout(title_text=\"Sankey Diagram\", font_size=10)\n",
    "    fig.show()"
   ]
  },
  {
   "cell_type": "code",
   "execution_count": null,
   "metadata": {},
   "outputs": [
    {
     "ename": "ValueError",
     "evalue": "Mime type rendering requires nbformat>=4.2.0 but it is not installed",
     "output_type": "error",
     "traceback": [
      "\u001b[0;31m---------------------------------------------------------------------------\u001b[0m",
      "\u001b[0;31mValueError\u001b[0m                                Traceback (most recent call last)",
      "Cell \u001b[0;32mIn[11], line 1\u001b[0m\n\u001b[0;32m----> 1\u001b[0m \u001b[43mplot_graph\u001b[49m\u001b[43m(\u001b[49m\u001b[43mdf_analyzed\u001b[49m\u001b[43m)\u001b[49m\n",
      "Cell \u001b[0;32mIn[10], line 18\u001b[0m, in \u001b[0;36mplot_graph\u001b[0;34m(df)\u001b[0m\n\u001b[1;32m      3\u001b[0m fig \u001b[38;5;241m=\u001b[39m go\u001b[38;5;241m.\u001b[39mFigure(data\u001b[38;5;241m=\u001b[39m[go\u001b[38;5;241m.\u001b[39mSankey(\n\u001b[1;32m      4\u001b[0m     node \u001b[38;5;241m=\u001b[39m \u001b[38;5;28mdict\u001b[39m(\n\u001b[1;32m      5\u001b[0m       pad \u001b[38;5;241m=\u001b[39m \u001b[38;5;241m15\u001b[39m,\n\u001b[0;32m   (...)\u001b[0m\n\u001b[1;32m     14\u001b[0m       value \u001b[38;5;241m=\u001b[39m [df[\u001b[38;5;124m'\u001b[39m\u001b[38;5;124msite\u001b[39m\u001b[38;5;124m'\u001b[39m]\u001b[38;5;241m.\u001b[39mnunique(), df[\u001b[38;5;124m'\u001b[39m\u001b[38;5;124mbrand\u001b[39m\u001b[38;5;124m'\u001b[39m]\u001b[38;5;241m.\u001b[39mnunique(), df[\u001b[38;5;124m'\u001b[39m\u001b[38;5;124mbrand_model\u001b[39m\u001b[38;5;124m'\u001b[39m]\u001b[38;5;241m.\u001b[39mnunique(), df[\u001b[38;5;124m'\u001b[39m\u001b[38;5;124mcolor\u001b[39m\u001b[38;5;124m'\u001b[39m]\u001b[38;5;241m.\u001b[39mnunique(), df[\u001b[38;5;124m'\u001b[39m\u001b[38;5;124mHDD_size\u001b[39m\u001b[38;5;124m'\u001b[39m]\u001b[38;5;241m.\u001b[39mnunique()]\n\u001b[1;32m     15\u001b[0m   ))])\n\u001b[1;32m     17\u001b[0m fig\u001b[38;5;241m.\u001b[39mupdate_layout(title_text\u001b[38;5;241m=\u001b[39m\u001b[38;5;124m\"\u001b[39m\u001b[38;5;124mSankey Diagram\u001b[39m\u001b[38;5;124m\"\u001b[39m, font_size\u001b[38;5;241m=\u001b[39m\u001b[38;5;241m10\u001b[39m)\n\u001b[0;32m---> 18\u001b[0m \u001b[43mfig\u001b[49m\u001b[38;5;241;43m.\u001b[39;49m\u001b[43mshow\u001b[49m\u001b[43m(\u001b[49m\u001b[43m)\u001b[49m\n",
      "File \u001b[0;32m~/anaconda3/envs/FCD/lib/python3.10/site-packages/plotly/basedatatypes.py:3410\u001b[0m, in \u001b[0;36mBaseFigure.show\u001b[0;34m(self, *args, **kwargs)\u001b[0m\n\u001b[1;32m   3377\u001b[0m \u001b[38;5;250m\u001b[39m\u001b[38;5;124;03m\"\"\"\u001b[39;00m\n\u001b[1;32m   3378\u001b[0m \u001b[38;5;124;03mShow a figure using either the default renderer(s) or the renderer(s)\u001b[39;00m\n\u001b[1;32m   3379\u001b[0m \u001b[38;5;124;03mspecified by the renderer argument\u001b[39;00m\n\u001b[0;32m   (...)\u001b[0m\n\u001b[1;32m   3406\u001b[0m \u001b[38;5;124;03mNone\u001b[39;00m\n\u001b[1;32m   3407\u001b[0m \u001b[38;5;124;03m\"\"\"\u001b[39;00m\n\u001b[1;32m   3408\u001b[0m \u001b[38;5;28;01mimport\u001b[39;00m \u001b[38;5;21;01mplotly\u001b[39;00m\u001b[38;5;21;01m.\u001b[39;00m\u001b[38;5;21;01mio\u001b[39;00m \u001b[38;5;28;01mas\u001b[39;00m \u001b[38;5;21;01mpio\u001b[39;00m\n\u001b[0;32m-> 3410\u001b[0m \u001b[38;5;28;01mreturn\u001b[39;00m \u001b[43mpio\u001b[49m\u001b[38;5;241;43m.\u001b[39;49m\u001b[43mshow\u001b[49m\u001b[43m(\u001b[49m\u001b[38;5;28;43mself\u001b[39;49m\u001b[43m,\u001b[49m\u001b[43m \u001b[49m\u001b[38;5;241;43m*\u001b[39;49m\u001b[43margs\u001b[49m\u001b[43m,\u001b[49m\u001b[43m \u001b[49m\u001b[38;5;241;43m*\u001b[39;49m\u001b[38;5;241;43m*\u001b[39;49m\u001b[43mkwargs\u001b[49m\u001b[43m)\u001b[49m\n",
      "File \u001b[0;32m~/anaconda3/envs/FCD/lib/python3.10/site-packages/plotly/io/_renderers.py:394\u001b[0m, in \u001b[0;36mshow\u001b[0;34m(fig, renderer, validate, **kwargs)\u001b[0m\n\u001b[1;32m    389\u001b[0m         \u001b[38;5;28;01mraise\u001b[39;00m \u001b[38;5;167;01mValueError\u001b[39;00m(\n\u001b[1;32m    390\u001b[0m             \u001b[38;5;124m\"\u001b[39m\u001b[38;5;124mMime type rendering requires ipython but it is not installed\u001b[39m\u001b[38;5;124m\"\u001b[39m\n\u001b[1;32m    391\u001b[0m         )\n\u001b[1;32m    393\u001b[0m     \u001b[38;5;28;01mif\u001b[39;00m \u001b[38;5;129;01mnot\u001b[39;00m nbformat \u001b[38;5;129;01mor\u001b[39;00m Version(nbformat\u001b[38;5;241m.\u001b[39m__version__) \u001b[38;5;241m<\u001b[39m Version(\u001b[38;5;124m\"\u001b[39m\u001b[38;5;124m4.2.0\u001b[39m\u001b[38;5;124m\"\u001b[39m):\n\u001b[0;32m--> 394\u001b[0m         \u001b[38;5;28;01mraise\u001b[39;00m \u001b[38;5;167;01mValueError\u001b[39;00m(\n\u001b[1;32m    395\u001b[0m             \u001b[38;5;124m\"\u001b[39m\u001b[38;5;124mMime type rendering requires nbformat>=4.2.0 but it is not installed\u001b[39m\u001b[38;5;124m\"\u001b[39m\n\u001b[1;32m    396\u001b[0m         )\n\u001b[1;32m    398\u001b[0m     ipython_display\u001b[38;5;241m.\u001b[39mdisplay(bundle, raw\u001b[38;5;241m=\u001b[39m\u001b[38;5;28;01mTrue\u001b[39;00m)\n\u001b[1;32m    400\u001b[0m \u001b[38;5;66;03m# external renderers\u001b[39;00m\n",
      "\u001b[0;31mValueError\u001b[0m: Mime type rendering requires nbformat>=4.2.0 but it is not installed"
     ]
    }
   ],
   "source": [
    "plot_graph(df_analyzed)"
   ]
  },
  {
   "cell_type": "code",
   "execution_count": null,
   "metadata": {},
   "outputs": [],
   "source": []
  }
 ],
 "metadata": {
  "kernelspec": {
   "display_name": "env_ds",
   "language": "python",
   "name": "python3"
  },
  "language_info": {
   "codemirror_mode": {
    "name": "ipython",
    "version": 3
   },
   "file_extension": ".py",
   "mimetype": "text/x-python",
   "name": "python",
   "nbconvert_exporter": "python",
   "pygments_lexer": "ipython3",
   "version": "3.10.15"
  }
 },
 "nbformat": 4,
 "nbformat_minor": 2
}
