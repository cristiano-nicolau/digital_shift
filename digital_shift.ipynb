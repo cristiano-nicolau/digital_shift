{
 "cells": [
  {
   "cell_type": "markdown",
   "metadata": {},
   "source": [
    "# Digital Shift: The Evolution of Products and Platforms in Portuguese E-commerce"
   ]
  },
  {
   "cell_type": "markdown",
   "metadata": {},
   "source": [
    "## Introduction:\n",
    "\n",
    "E-commerce has become a major player in the retail landscape, especially in sectors like electronics, where online shopping has seen significant growth.\n",
    "\n",
    "In recent years, the competition among retailers in Portugal as Worten, Fnac, Rádio Popular, El Corte Inglés, and MediaMarkt has intensified. This competition has driven changes in both the types of products offered and the functionalities of their respective platforms, shaping the way consumers interact with online shopping.\n",
    "\n",
    "By analyzing historical data from Arquivo.pt, it is possible to explore the evolution of these e-commerce platforms, providing insights into how product offerings and platform features have developed over time."
   ]
  },
  {
   "cell_type": "markdown",
   "metadata": {},
   "source": [
    "## Context\n",
    "\n",
    "The Arquivo.pt platform stores archived web pages dating back to 1996, making it an invaluable resource for examining the historical trajectory of e-commerce in Portugal.\n",
    "\n",
    "For this project, Arquivo.pt will be the primary data source, allowing us to analyze past versions of e-commerce websites for major electronics retailers such as Worten, Fnac, Rádio Popular, El Corte Inglés, and MediaMarkt.\n",
    "\n",
    "By examining archived versions of these websites, we aim to track the changes in product offerings (with a focus on electronic devices like smartphones, laptops, and televisions) and investigate how the functionalities of these platforms have evolved to improve the customer experience.\n"
   ]
  },
  {
   "cell_type": "markdown",
   "metadata": {},
   "source": [
    "## Goals\n",
    "\n",
    "The main objectives of this project are:\n",
    "\n",
    "- **Analyze the evolution of electronic product offerings over the years**, identifying key trends in product categories (e.g., smartphones, televisions, laptops), and examining which products gained popularity or disappeared from the market.\n",
    "\n",
    "- **Compare specific devices**, such as various models of the iPhone, in terms of pricing and features across multiple retailers, highlighting how these factors have shifted over time.\n",
    "\n",
    "- **Evaluate the evolution of e-commerce platform functionalities**, particularly search mechanisms, filters, and personalization tools, to understand how they improved the user experience.\n",
    "\n",
    "- **Examine price trends and promotional strategies** used by different retailers during key sales periods, such as Black Friday or Christmas, to identify which platforms offer the best deals."
   ]
  },
  {
   "cell_type": "markdown",
   "metadata": {},
   "source": [
    "\n",
    "\n",
    "### Data Collection:\n",
    "\n"
   ]
  },
  {
   "cell_type": "code",
   "execution_count": null,
   "metadata": {},
   "outputs": [],
   "source": [
    "import requests\n",
    "import json"
   ]
  },
  {
   "cell_type": "code",
   "execution_count": null,
   "metadata": {},
   "outputs": [],
   "source": [
    "## Função para Realizar Consulta Geral\n",
    "\n",
    "def arquivo_search(query, max_items=500, from_year=None, to_year=None, site=None, doc_type=None):\n",
    "    base_url = \"https://arquivo.pt/textsearch?q=\"\n",
    "    query_url = base_url + query.replace(' ', '%20')\n",
    "    \n",
    "    if from_year and to_year:\n",
    "        query_url += f\"&from={from_year}&to={to_year}\"\n",
    "        \n",
    "    if site:\n",
    "        query_url += f\"&siteSearch={site}\"\n",
    "        \n",
    "    if doc_type:\n",
    "        query_url += f\"&type={doc_type}\"\n",
    "    \n",
    "    query_url += f\"&maxItems={max_items}&prettyPrint=true\"\n",
    "    \n",
    "    response = requests.get(query_url)\n",
    "    \n",
    "    if response.status_code == 200:\n",
    "        return response.json()\n",
    "    else:\n",
    "        print(f\"Erro na requisição: {response.status_code}\")\n",
    "        return None"
   ]
  }
 ],
 "metadata": {
  "language_info": {
   "name": "python"
  }
 },
 "nbformat": 4,
 "nbformat_minor": 2
}
