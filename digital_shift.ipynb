{
 "cells": [
  {
   "cell_type": "markdown",
   "metadata": {},
   "source": [
    "# Digital Shift: The Evolution of Products and Platforms in Portuguese E-commerce"
   ]
  },
  {
   "cell_type": "markdown",
   "metadata": {},
   "source": [
    "## Introduction:\n",
    "\n",
    "E-commerce has become a major player in the retail landscape, especially in sectors like electronics, where online shopping has seen significant growth.\n",
    "\n",
    "In recent years, the competition among retailers in Portugal as Worten, Fnac, Rádio Popular, El Corte Inglés, Pc Diga and Staples has intensified. This competition has driven changes in both the types of products offered and the functionalities of their respective platforms, shaping the way consumers interact with online shopping.\n",
    "\n",
    "By analyzing historical data from Arquivo.pt, it is possible to explore the evolution of these e-commerce platforms, providing insights into how product offerings and platform features have developed over time."
   ]
  },
  {
   "cell_type": "markdown",
   "metadata": {},
   "source": [
    "## Context\n",
    "\n",
    "The Arquivo.pt platform stores archived web pages dating back to 1996, making it an invaluable resource for examining the historical trajectory of e-commerce in Portugal.\n",
    "\n",
    "For this project, Arquivo.pt will be the primary data source, allowing us to analyze past versions of e-commerce websites for major electronics retailers such as Worten, Fnac, Rádio Popular, El Corte Inglés, Pc Diga and Staples.\n",
    "\n",
    "By examining archived versions of these websites, we aim to track the changes in product offerings (with a focus on electronic devices like smartphones, laptops, and televisions) and investigate how the functionalities of these platforms have evolved to improve the customer experience.\n"
   ]
  },
  {
   "cell_type": "markdown",
   "metadata": {},
   "source": [
    "## Goals\n",
    "\n",
    "The main objectives of this project are:\n",
    "\n",
    "- **Analyze the evolution of electronic product offerings over the years**, identifying key trends in product categories (e.g., smartphones, televisions, laptops), and examining which products gained popularity or disappeared from the market.\n",
    "\n",
    "- **Compare specific devices**, such as various models of the iPhone, in terms of pricing and features across multiple retailers, highlighting how these factors have shifted over time.\n",
    "\n",
    "- **Examine price trends and promotional strategies** used by different retailers during key sales periods, such as Black Friday or Christmas, to identify which platforms offer the best deals.\n",
    "\n",
    "- **Evaluate the evolution of e-commerce platform functionalities**, particularly search mechanisms, filters, and personalization tools, to understand how they improved the user experience. (This part is optional and may be omitted if there isn't enough time to complete it.)\n"
   ]
  },
  {
   "cell_type": "markdown",
   "metadata": {},
   "source": [
    "### Historical Analysis of Products\n",
    "\n",
    "- Temporal Product Analysis: This will focus on how the product offerings in the electronics category have changed across the different retailers. We will look at product categories such as smartphones, laptops, and televisions, exploring which products were introduced, gained popularity, or eventually faded from the market.\n",
    "  - Example: Analyzing the rise and fall of products like MP3 players and digital cameras, alongside the emergence of newer devices like smartphones, smartwatches, and smart home assistants (e.g., Google Home, Alexa).\n",
    "- Technological Trends: We will examine how technological advancements, such as the introduction of 5G, OLED displays, or powerful processors, have influenced product descriptions, pricing, and consumer demand.\n",
    "\n",
    "### Device-Specific Comparison\n",
    "\n",
    "- Model Comparison: A detailed comparison of certain devices, such as the iPhone, from its first version to the latest model, analyzing how features have evolved over time.\n",
    "- Price Analysis: We will compare the launch prices of these models across different retailers (Worten, Fnac, Rádio Popular, El Corte Inglés, MediaMarkt) and track how these prices changed post-launch, during sales events, or based on other factors like product obsolescence.\n",
    "\n",
    "### Evolution of E-commerce Platform Functionalities\n",
    "\n",
    "- Search and Filter Enhancements: We will track how the search capabilities and filtering options available on these platforms have improved, especially in terms of customization (e.g., price, brand, specifications). This analysis will highlight how these improvements have helped users find products more efficiently.\n",
    "- Personalized Recommendations: A review of how retailers have implemented personalization features (e.g., recommended products based on previous searches or purchases) and the role of such functionalities in driving consumer engagement and sales.\n",
    "\n",
    "### Comparative Price and Promotion Analysis\n",
    "\n",
    "- Price Evolution Over Time: This segment will explore how product prices have fluctuated across different retailers over time, focusing on key moments such as new product launches, Black Friday, and holiday seasons.\n",
    "- Promotion Strategies: We will examine which retailers tend to offer the most competitive promotions during major sales events (e.g., Black Friday, Cyber Monday) and whether certain stores exhibit patterns of discounting specific product categories more aggressively than others.\n",
    "  - Example: Analyzing whether MediaMarkt offers deeper discounts on smartphones compared to Fnac during Black Friday, or if El Corte Inglés focuses more on premium brands.\n"
   ]
  },
  {
   "cell_type": "markdown",
   "metadata": {},
   "source": []
  }
 ],
 "metadata": {
  "kernelspec": {
   "display_name": "base",
   "language": "python",
   "name": "python3"
  },
  "language_info": {
   "name": "python",
   "version": "3.12.4"
  }
 },
 "nbformat": 4,
 "nbformat_minor": 2
}
