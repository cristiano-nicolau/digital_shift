{
 "cells": [
  {
   "cell_type": "markdown",
   "metadata": {},
   "source": [
    "# Digital Shift: The Evolution of Products and Platforms in Portuguese E-commerce"
   ]
  },
  {
   "cell_type": "markdown",
   "metadata": {},
   "source": [
    "## Introduction:\n",
    "\n",
    "E-commerce has become a major player in the retail landscape, especially in sectors like electronics, where online shopping has seen significant growth.\n",
    "\n",
    "In recent years, the competition among retailers in Portugal as Worten, Fnac, Rádio Popular, El Corte Inglés, Pc Diga and Staples has intensified. This competition has driven changes in both the types of products offered and the functionalities of their respective platforms, shaping the way consumers interact with online shopping.\n",
    "\n",
    "By analyzing historical data from Arquivo.pt, it is possible to explore the evolution of these e-commerce platforms, providing insights into how product offerings and platform features have developed over time."
   ]
  },
  {
   "cell_type": "markdown",
   "metadata": {},
   "source": [
    "## Context\n",
    "\n",
    "The Arquivo.pt platform stores archived web pages dating back to 1996, making it an invaluable resource for examining the historical trajectory of e-commerce in Portugal.\n",
    "\n",
    "For this project, Arquivo.pt will be the primary data source, allowing us to analyze past versions of e-commerce websites for major electronics retailers such as Worten, Fnac, Rádio Popular, El Corte Inglés, Pc Diga and Staples.\n",
    "\n",
    "By examining archived versions of these websites, we aim to track the changes in product offerings (with a focus on electronic devices like smartphones, laptops, and televisions) and investigate how the functionalities of these platforms have evolved to improve the customer experience.\n"
   ]
  },
  {
   "cell_type": "markdown",
   "metadata": {},
   "source": [
    "## Goals\n",
    "\n",
    "The main objectives of this project are:\n",
    "\n",
    "- **Analyze the evolution of electronic product offerings over the years**, identifying key trends in product categories (e.g., smartphones, televisions, laptops), and examining which products gained popularity or disappeared from the market.\n",
    "\n",
    "- **Compare specific devices**, such as various models of the iPhone, in terms of pricing and features across multiple retailers, highlighting how these factors have shifted over time.\n",
    "\n",
    "- **Examine price trends and promotional strategies** used by different retailers during key sales periods, such as Black Friday or Christmas, to identify which platforms offer the best deals.\n",
    "\n",
    "- **Evaluate the evolution of e-commerce platform functionalities**, particularly search mechanisms, filters, and personalization tools, to understand how they improved the user experience. (This part is optional and may be omitted if there isn't enough time to complete it.)\n"
   ]
  },
  {
   "cell_type": "markdown",
   "metadata": {},
   "source": [
    "\n",
    "\n",
    "### Data Collection:\n",
    "\n"
   ]
  },
  {
   "cell_type": "code",
   "execution_count": 2,
   "metadata": {},
   "outputs": [],
   "source": [
    "sites = [\"www.fnac.pt\", \"www.worten.pt\", \"www.elcorteingles.pt\", \"www.radiopopular.pt\", \"www.staples.pt\", \"www.pcdiga.com\"]"
   ]
  },
  {
   "cell_type": "code",
   "execution_count": 3,
   "metadata": {},
   "outputs": [],
   "source": [
    "import requests\n",
    "import urllib.parse\n",
    "import json\n",
    "import time\n",
    "import pandas as pd"
   ]
  },
  {
   "cell_type": "code",
   "execution_count": 4,
   "metadata": {},
   "outputs": [],
   "source": [
    "## Função para procurar no arquivo.pt\n",
    "def arquivo_search(query=None, max_items=500, from_year=None, to_year=None, site=None, doc_type=None, version_history_url=None):\n",
    "    if version_history_url:\n",
    "        encoded_url = urllib.parse.quote(version_history_url, safe='')\n",
    "        base_url = f\"https://arquivo.pt/textsearch?versionHistory={encoded_url}\"\n",
    "    else:\n",
    "        base_url = \"https://arquivo.pt/textsearch?q=\" + urllib.parse.quote(query)  # query precisa ser codificada também\n",
    "    \n",
    "    if from_year and to_year:\n",
    "        base_url += f\"&from={from_year}&to={to_year}\"\n",
    "    \n",
    "    if site:\n",
    "        base_url += f\"&siteSearch={site}\"\n",
    "    \n",
    "    if doc_type:\n",
    "        base_url += f\"&type={doc_type}\"\n",
    "    \n",
    "    base_url += f\"&maxItems={max_items}&prettyPrint=false\"\n",
    "    \n",
    "    response = requests.get(base_url)\n",
    "    \n",
    "    if response.status_code == 200:\n",
    "        return response.json()\n",
    "    else:\n",
    "        print(f\"Erro na requisição: {response.status_code}\")\n",
    "        return None"
   ]
  },
  {
   "cell_type": "code",
   "execution_count": 118,
   "metadata": {},
   "outputs": [],
   "source": [
    "# Extrair a pagina principal de cada um dos sites, ao longo dos anos (2005 a 2023)\n",
    "def process_sites(sites):\n",
    "    # Dicionário para armazenar links por site e por ano\n",
    "    site_data = {}\n",
    "\n",
    "    for site in sites:\n",
    "        print(f\"Processando site: {site}\")\n",
    "        site_links_by_year = {year: [] for year in range(2005, 2024)}\n",
    "        \n",
    "        for year in range(2005, 2024):\n",
    "            \n",
    "            #procura pelo version history\n",
    "            version_history_url = f\"http://{site}/\"\n",
    "            response = arquivo_search(version_history_url=version_history_url, from_year=year, to_year=year + 1)\n",
    "\n",
    "            if response and 'response_items' in response:\n",
    "                response_items = response['response_items']\n",
    "\n",
    "                for item in response_items:\n",
    "                    item_year = int(item['tstamp'][0:4]) # os primeiros 4 caracteres representam o ano\n",
    "\n",
    "                    # guardar 2 links por ano\n",
    "                    if item_year == year and item['originalURL'] == version_history_url:\n",
    "                        if len(site_links_by_year[year]) < 2:\n",
    "                            site_links_by_year[year].append(item['linkToArchive'])\n",
    "                        else:\n",
    "                            break\n",
    "\n",
    "\n",
    "            # no caso de não encontrar nenhum link, colcoar como none o value\n",
    "            if len(site_links_by_year[year]) == 0:\n",
    "                site_links_by_year[year] = None\n",
    "        \n",
    "        site_data[site] = site_links_by_year\n",
    "    \n",
    "    return site_data\n",
    "\n"
   ]
  },
  {
   "cell_type": "code",
   "execution_count": 119,
   "metadata": {},
   "outputs": [
    {
     "name": "stdout",
     "output_type": "stream",
     "text": [
      "Processando site: www.fnac.pt\n",
      "Processando site: www.worten.pt\n",
      "Processando site: www.elcorteingles.pt\n",
      "Processando site: www.radiopopular.pt\n",
      "Processando site: www.staples.pt\n",
      "Processando site: www.pcdiga.com\n",
      "{'www.fnac.pt': {2005: None, 2006: ['https://arquivo.pt/wayback/20061118120805/http://www.fnac.pt/', 'https://arquivo.pt/wayback/20061001061029/http://www.fnac.pt/'], 2007: ['https://arquivo.pt/wayback/20070928223117/http://www.fnac.pt/', 'https://arquivo.pt/wayback/20070607054401/http://www.fnac.pt/'], 2008: ['https://arquivo.pt/wayback/20081027081756/http://www.fnac.pt/', 'https://arquivo.pt/wayback/20081021193426/http://www.fnac.pt/'], 2009: ['https://arquivo.pt/wayback/20091218064527/http://www.fnac.pt/', 'https://arquivo.pt/wayback/20090925194633/http://www.fnac.pt/'], 2010: ['https://arquivo.pt/wayback/20100804062306/http://www.fnac.pt/', 'https://arquivo.pt/wayback/20100605082703/http://www.fnac.pt/'], 2011: ['https://arquivo.pt/wayback/20110702090458/http://www.fnac.pt/', 'https://arquivo.pt/wayback/20110519163144/http://www.fnac.pt/'], 2012: ['https://arquivo.pt/wayback/20120122102914/http://www.fnac.pt/'], 2013: ['https://arquivo.pt/wayback/20131106231750/http://www.fnac.pt/'], 2014: ['https://arquivo.pt/wayback/20141127075233/http://www.fnac.pt/', 'https://arquivo.pt/wayback/20141024205302/http://www.fnac.pt/'], 2015: ['https://arquivo.pt/wayback/20151124075844/http://www.fnac.pt/', 'https://arquivo.pt/wayback/20150915080347/http://www.fnac.pt/'], 2016: ['https://arquivo.pt/wayback/20161106090812/http://www.fnac.pt/', 'https://arquivo.pt/wayback/20160817095231/http://www.fnac.pt/'], 2017: None, 2018: ['https://arquivo.pt/wayback/20181219181539/http://www.fnac.pt/', 'https://arquivo.pt/wayback/20181031205505/http://www.fnac.pt/'], 2019: None, 2020: ['https://arquivo.pt/wayback/20201231205450/http://www.fnac.pt/', 'https://arquivo.pt/wayback/20201230201729/http://www.fnac.pt/'], 2021: ['https://arquivo.pt/wayback/20211124235054/http://www.fnac.pt/', 'https://arquivo.pt/wayback/20210910014508/http://www.fnac.pt/'], 2022: ['https://arquivo.pt/wayback/20221229233410/http://www.fnac.pt/', 'https://arquivo.pt/wayback/20221229005536/http://www.fnac.pt/'], 2023: ['https://arquivo.pt/wayback/20230622161513/http://www.fnac.pt/', 'https://arquivo.pt/wayback/20230123105414/http://www.fnac.pt/']}, 'www.worten.pt': {2005: None, 2006: None, 2007: ['https://arquivo.pt/wayback/20070611190104/http://www.worten.pt/'], 2008: ['https://arquivo.pt/wayback/20081022044251/http://www.worten.pt/', 'https://arquivo.pt/wayback/20080314172158/http://www.worten.pt/'], 2009: ['https://arquivo.pt/wayback/20091218174523/http://www.worten.pt/', 'https://arquivo.pt/wayback/20090926163228/http://www.worten.pt/'], 2010: ['https://arquivo.pt/wayback/20100803143044/http://www.worten.pt/', 'https://arquivo.pt/wayback/20100609121356/http://www.worten.pt/'], 2011: ['https://arquivo.pt/wayback/20110703082018/http://www.worten.pt/', 'https://arquivo.pt/wayback/20110519201015/http://www.worten.pt/'], 2012: ['https://arquivo.pt/wayback/20120123100556/http://www.worten.pt/'], 2013: ['https://arquivo.pt/wayback/20131107114716/http://www.worten.pt/'], 2014: ['https://arquivo.pt/wayback/20140930233937/http://www.worten.pt/'], 2015: ['https://arquivo.pt/wayback/20151125065825/http://www.worten.pt/', 'https://arquivo.pt/wayback/20150915064038/http://www.worten.pt/'], 2016: ['https://arquivo.pt/wayback/20161107032031/http://www.worten.pt/', 'https://arquivo.pt/wayback/20160607022657/http://www.worten.pt/'], 2017: None, 2018: ['https://arquivo.pt/wayback/20181219190115/http://www.worten.pt/', 'https://arquivo.pt/wayback/20181212185957/http://www.worten.pt/'], 2019: None, 2020: ['https://arquivo.pt/wayback/20201231184214/http://www.worten.pt/', 'https://arquivo.pt/wayback/20201230183240/http://www.worten.pt/'], 2021: None, 2022: ['https://arquivo.pt/wayback/20220802112455/http://www.worten.pt/', 'https://arquivo.pt/wayback/20220422230337/http://www.worten.pt/'], 2023: ['https://arquivo.pt/wayback/20230123170609/http://www.worten.pt/']}, 'www.elcorteingles.pt': {2005: ['https://arquivo.pt/wayback/20050725031922/http://www.elcorteingles.pt/', 'https://arquivo.pt/wayback/20050615164601/http://www.elcorteingles.pt/'], 2006: ['https://arquivo.pt/wayback/20060216170739/http://www.elcorteingles.pt/'], 2007: ['https://arquivo.pt/wayback/20070929080902/http://www.elcorteingles.pt/', 'https://arquivo.pt/wayback/20070609091458/http://www.elcorteingles.pt/'], 2008: ['https://arquivo.pt/wayback/20081021184312/http://www.elcorteingles.pt/', 'https://arquivo.pt/wayback/20080312052244/http://www.elcorteingles.pt/'], 2009: ['https://arquivo.pt/wayback/20091218054927/http://www.elcorteingles.pt/', 'https://arquivo.pt/wayback/20090925180506/http://www.elcorteingles.pt/'], 2010: ['https://arquivo.pt/wayback/20100804081831/http://www.elcorteingles.pt/', 'https://arquivo.pt/wayback/20100604195522/http://www.elcorteingles.pt/'], 2011: ['https://arquivo.pt/wayback/20110702070508/http://www.elcorteingles.pt/', 'https://arquivo.pt/wayback/20110519163140/http://www.elcorteingles.pt/'], 2012: ['https://arquivo.pt/wayback/20120122091210/http://www.elcorteingles.pt/'], 2013: ['https://arquivo.pt/wayback/20131106212209/http://www.elcorteingles.pt/'], 2014: ['https://arquivo.pt/wayback/20140930070204/http://www.elcorteingles.pt/'], 2015: ['https://arquivo.pt/wayback/20151124053702/http://www.elcorteingles.pt/', 'https://arquivo.pt/wayback/20150915064743/http://www.elcorteingles.pt/'], 2016: ['https://arquivo.pt/wayback/20161106073144/http://www.elcorteingles.pt/', 'https://arquivo.pt/wayback/20160606073308/http://www.elcorteingles.pt/'], 2017: ['https://arquivo.pt/wayback/20171213035602/http://www.elcorteingles.pt/', 'https://arquivo.pt/wayback/20170806170405/http://www.elcorteingles.pt/'], 2018: None, 2019: None, 2020: ['https://arquivo.pt/wayback/20201231193929/http://www.elcorteingles.pt/', 'https://arquivo.pt/wayback/20201230193147/http://www.elcorteingles.pt/'], 2021: None, 2022: ['https://arquivo.pt/wayback/20221214020227/http://www.elcorteingles.pt/', 'https://arquivo.pt/wayback/20221213012550/http://www.elcorteingles.pt/'], 2023: ['https://arquivo.pt/wayback/20230302004226/http://www.elcorteingles.pt/', 'https://arquivo.pt/wayback/20230225022917/http://www.elcorteingles.pt/']}, 'www.radiopopular.pt': {2005: ['https://arquivo.pt/wayback/20050722223614/http://www.radiopopular.pt/', 'https://arquivo.pt/wayback/20050618054927/http://www.radiopopular.pt/'], 2006: None, 2007: ['https://arquivo.pt/wayback/20070929122436/http://www.radiopopular.pt/'], 2008: ['https://arquivo.pt/wayback/20081022013802/http://www.radiopopular.pt/', 'https://arquivo.pt/wayback/20080314152745/http://www.radiopopular.pt/'], 2009: ['https://arquivo.pt/wayback/20091218134419/http://www.radiopopular.pt/', 'https://arquivo.pt/wayback/20090926094345/http://www.radiopopular.pt/'], 2010: ['https://arquivo.pt/wayback/20100803165209/http://www.radiopopular.pt/', 'https://arquivo.pt/wayback/20100608033255/http://www.radiopopular.pt/'], 2011: ['https://arquivo.pt/wayback/20110703001054/http://www.radiopopular.pt/', 'https://arquivo.pt/wayback/20110519195928/http://www.radiopopular.pt/'], 2012: ['https://arquivo.pt/wayback/20120123020522/http://www.radiopopular.pt/'], 2013: ['https://arquivo.pt/wayback/20131107082040/http://www.radiopopular.pt/'], 2014: ['https://arquivo.pt/wayback/20140930183354/http://www.radiopopular.pt/'], 2015: ['https://arquivo.pt/wayback/20151124215123/http://www.radiopopular.pt/', 'https://arquivo.pt/wayback/20150915063250/http://www.radiopopular.pt/'], 2016: ['https://arquivo.pt/wayback/20161106193800/http://www.radiopopular.pt/', 'https://arquivo.pt/wayback/20160606184740/http://www.radiopopular.pt/'], 2017: ['https://arquivo.pt/wayback/20170222115920/http://www.radiopopular.pt/'], 2018: ['https://arquivo.pt/wayback/20181015061743/http://www.radiopopular.pt/'], 2019: ['https://arquivo.pt/wayback/20191119234250/http://www.radiopopular.pt/'], 2020: ['https://arquivo.pt/wayback/20201014213146/http://www.radiopopular.pt/'], 2021: None, 2022: ['https://arquivo.pt/wayback/20220802044650/http://www.radiopopular.pt/', 'https://arquivo.pt/wayback/20220422135647/http://www.radiopopular.pt/'], 2023: ['https://arquivo.pt/wayback/20230123105349/http://www.radiopopular.pt/']}, 'www.staples.pt': {2005: ['https://arquivo.pt/wayback/20050722174753/http://www.staples.pt/', 'https://arquivo.pt/wayback/20050415035119/http://www.staples.pt/'], 2006: None, 2007: ['https://arquivo.pt/wayback/20070610185333/http://www.staples.pt/'], 2008: ['https://arquivo.pt/wayback/20081022031557/http://www.staples.pt/', 'https://arquivo.pt/wayback/20080314162259/http://www.staples.pt/'], 2009: ['https://arquivo.pt/wayback/20091218154357/http://www.staples.pt/', 'https://arquivo.pt/wayback/20090926132041/http://www.staples.pt/'], 2010: ['https://arquivo.pt/wayback/20100608193358/http://www.staples.pt/'], 2011: ['https://arquivo.pt/wayback/20110703041004/http://www.staples.pt/', 'https://arquivo.pt/wayback/20110519201006/http://www.staples.pt/'], 2012: ['https://arquivo.pt/wayback/20120123054704/http://www.staples.pt/'], 2013: ['https://arquivo.pt/wayback/20131107101945/http://www.staples.pt/'], 2014: ['https://arquivo.pt/wayback/20140930210106/http://www.staples.pt/'], 2015: ['https://arquivo.pt/wayback/20151125004810/http://www.staples.pt/', 'https://arquivo.pt/wayback/20150915063424/http://www.staples.pt/'], 2016: ['https://arquivo.pt/wayback/20161106221541/http://www.staples.pt/', 'https://arquivo.pt/wayback/20160606211901/http://www.staples.pt/'], 2017: ['https://arquivo.pt/wayback/20170807081228/http://www.staples.pt/', 'https://arquivo.pt/wayback/20170613144518/http://www.staples.pt/'], 2018: ['https://arquivo.pt/wayback/20181101070404/http://www.staples.pt/', 'https://arquivo.pt/wayback/20181014075341/http://www.staples.pt/'], 2019: ['https://arquivo.pt/wayback/20191218131438/http://www.staples.pt/', 'https://arquivo.pt/wayback/20191208234103/http://www.staples.pt/'], 2020: ['https://arquivo.pt/wayback/20201231192426/http://www.staples.pt/', 'https://arquivo.pt/wayback/20201230192936/http://www.staples.pt/'], 2021: ['https://arquivo.pt/wayback/20211001222752/http://www.staples.pt/', 'https://arquivo.pt/wayback/20210831190104/http://www.staples.pt/'], 2022: ['https://arquivo.pt/wayback/20221014062758/http://www.staples.pt/', 'https://arquivo.pt/wayback/20221001165900/http://www.staples.pt/'], 2023: ['https://arquivo.pt/wayback/20230125024755/http://www.staples.pt/', 'https://arquivo.pt/wayback/20230101180802/http://www.staples.pt/']}, 'www.pcdiga.com': {2005: ['https://arquivo.pt/wayback/20050719124815/http://www.pcdiga.com/', 'https://arquivo.pt/wayback/20050616040115/http://www.pcdiga.com/'], 2006: None, 2007: None, 2008: ['https://arquivo.pt/wayback/20081022130111/http://www.pcdiga.com/', 'https://arquivo.pt/wayback/20080314232456/http://www.pcdiga.com/'], 2009: ['https://arquivo.pt/wayback/20091219171727/http://www.pcdiga.com/', 'https://arquivo.pt/wayback/20090930103235/http://www.pcdiga.com/'], 2010: ['https://arquivo.pt/wayback/20100804133208/http://www.pcdiga.com/', 'https://arquivo.pt/wayback/20100529074750/http://www.pcdiga.com/'], 2011: ['https://arquivo.pt/wayback/20110122010135/http://www.pcdiga.com/'], 2012: None, 2013: ['https://arquivo.pt/wayback/20131105233225/http://www.pcdiga.com/'], 2014: ['https://arquivo.pt/wayback/20140905212632/http://www.pcdiga.com/'], 2015: ['https://arquivo.pt/wayback/20151112163720/http://www.pcdiga.com/', 'https://arquivo.pt/wayback/20150813175306/http://www.pcdiga.com/'], 2016: ['https://arquivo.pt/wayback/20160204172024/http://www.pcdiga.com/'], 2017: ['https://arquivo.pt/wayback/20170209162925/http://www.pcdiga.com/'], 2018: ['https://arquivo.pt/wayback/20181101232309/http://www.pcdiga.com/', 'https://arquivo.pt/wayback/20181015002820/http://www.pcdiga.com/'], 2019: ['https://arquivo.pt/wayback/20191221210603/http://www.pcdiga.com/', 'https://arquivo.pt/wayback/20191209155816/http://www.pcdiga.com/'], 2020: ['https://arquivo.pt/wayback/20200607061806/http://www.pcdiga.com/', 'https://arquivo.pt/wayback/20200601133906/http://www.pcdiga.com/'], 2021: ['https://arquivo.pt/wayback/20210821121647/http://www.pcdiga.com/', 'https://arquivo.pt/wayback/20210303222035/http://www.pcdiga.com/'], 2022: ['https://arquivo.pt/wayback/20220423225206/http://www.pcdiga.com/', 'https://arquivo.pt/wayback/20220422075305/http://www.pcdiga.com/'], 2023: ['https://arquivo.pt/wayback/20230126013756/http://www.pcdiga.com/']}}\n"
     ]
    }
   ],
   "source": [
    "dados_sites = process_sites(sites)\n",
    "\n",
    "print(dados_sites)"
   ]
  },
  {
   "cell_type": "code",
   "execution_count": 120,
   "metadata": {},
   "outputs": [
    {
     "name": "stdout",
     "output_type": "stream",
     "text": [
      "Site: www.fnac.pt\n",
      "Ano: 2005, Link: None\n",
      "Ano: 2006, Link: ['https://arquivo.pt/wayback/20061118120805/http://www.fnac.pt/', 'https://arquivo.pt/wayback/20061001061029/http://www.fnac.pt/']\n",
      "Ano: 2007, Link: ['https://arquivo.pt/wayback/20070928223117/http://www.fnac.pt/', 'https://arquivo.pt/wayback/20070607054401/http://www.fnac.pt/']\n",
      "Ano: 2008, Link: ['https://arquivo.pt/wayback/20081027081756/http://www.fnac.pt/', 'https://arquivo.pt/wayback/20081021193426/http://www.fnac.pt/']\n",
      "Ano: 2009, Link: ['https://arquivo.pt/wayback/20091218064527/http://www.fnac.pt/', 'https://arquivo.pt/wayback/20090925194633/http://www.fnac.pt/']\n",
      "Ano: 2010, Link: ['https://arquivo.pt/wayback/20100804062306/http://www.fnac.pt/', 'https://arquivo.pt/wayback/20100605082703/http://www.fnac.pt/']\n",
      "Ano: 2011, Link: ['https://arquivo.pt/wayback/20110702090458/http://www.fnac.pt/', 'https://arquivo.pt/wayback/20110519163144/http://www.fnac.pt/']\n",
      "Ano: 2012, Link: ['https://arquivo.pt/wayback/20120122102914/http://www.fnac.pt/']\n",
      "Ano: 2013, Link: ['https://arquivo.pt/wayback/20131106231750/http://www.fnac.pt/']\n",
      "Ano: 2014, Link: ['https://arquivo.pt/wayback/20141127075233/http://www.fnac.pt/', 'https://arquivo.pt/wayback/20141024205302/http://www.fnac.pt/']\n",
      "Ano: 2015, Link: ['https://arquivo.pt/wayback/20151124075844/http://www.fnac.pt/', 'https://arquivo.pt/wayback/20150915080347/http://www.fnac.pt/']\n",
      "Ano: 2016, Link: ['https://arquivo.pt/wayback/20161106090812/http://www.fnac.pt/', 'https://arquivo.pt/wayback/20160817095231/http://www.fnac.pt/']\n",
      "Ano: 2017, Link: None\n",
      "Ano: 2018, Link: ['https://arquivo.pt/wayback/20181219181539/http://www.fnac.pt/', 'https://arquivo.pt/wayback/20181031205505/http://www.fnac.pt/']\n",
      "Ano: 2019, Link: None\n",
      "Ano: 2020, Link: ['https://arquivo.pt/wayback/20201231205450/http://www.fnac.pt/', 'https://arquivo.pt/wayback/20201230201729/http://www.fnac.pt/']\n",
      "Ano: 2021, Link: ['https://arquivo.pt/wayback/20211124235054/http://www.fnac.pt/', 'https://arquivo.pt/wayback/20210910014508/http://www.fnac.pt/']\n",
      "Ano: 2022, Link: ['https://arquivo.pt/wayback/20221229233410/http://www.fnac.pt/', 'https://arquivo.pt/wayback/20221229005536/http://www.fnac.pt/']\n",
      "Ano: 2023, Link: ['https://arquivo.pt/wayback/20230622161513/http://www.fnac.pt/', 'https://arquivo.pt/wayback/20230123105414/http://www.fnac.pt/']\n",
      "Site: www.worten.pt\n",
      "Ano: 2005, Link: None\n",
      "Ano: 2006, Link: None\n",
      "Ano: 2007, Link: ['https://arquivo.pt/wayback/20070611190104/http://www.worten.pt/']\n",
      "Ano: 2008, Link: ['https://arquivo.pt/wayback/20081022044251/http://www.worten.pt/', 'https://arquivo.pt/wayback/20080314172158/http://www.worten.pt/']\n",
      "Ano: 2009, Link: ['https://arquivo.pt/wayback/20091218174523/http://www.worten.pt/', 'https://arquivo.pt/wayback/20090926163228/http://www.worten.pt/']\n",
      "Ano: 2010, Link: ['https://arquivo.pt/wayback/20100803143044/http://www.worten.pt/', 'https://arquivo.pt/wayback/20100609121356/http://www.worten.pt/']\n",
      "Ano: 2011, Link: ['https://arquivo.pt/wayback/20110703082018/http://www.worten.pt/', 'https://arquivo.pt/wayback/20110519201015/http://www.worten.pt/']\n",
      "Ano: 2012, Link: ['https://arquivo.pt/wayback/20120123100556/http://www.worten.pt/']\n",
      "Ano: 2013, Link: ['https://arquivo.pt/wayback/20131107114716/http://www.worten.pt/']\n",
      "Ano: 2014, Link: ['https://arquivo.pt/wayback/20140930233937/http://www.worten.pt/']\n",
      "Ano: 2015, Link: ['https://arquivo.pt/wayback/20151125065825/http://www.worten.pt/', 'https://arquivo.pt/wayback/20150915064038/http://www.worten.pt/']\n",
      "Ano: 2016, Link: ['https://arquivo.pt/wayback/20161107032031/http://www.worten.pt/', 'https://arquivo.pt/wayback/20160607022657/http://www.worten.pt/']\n",
      "Ano: 2017, Link: None\n",
      "Ano: 2018, Link: ['https://arquivo.pt/wayback/20181219190115/http://www.worten.pt/', 'https://arquivo.pt/wayback/20181212185957/http://www.worten.pt/']\n",
      "Ano: 2019, Link: None\n",
      "Ano: 2020, Link: ['https://arquivo.pt/wayback/20201231184214/http://www.worten.pt/', 'https://arquivo.pt/wayback/20201230183240/http://www.worten.pt/']\n",
      "Ano: 2021, Link: None\n",
      "Ano: 2022, Link: ['https://arquivo.pt/wayback/20220802112455/http://www.worten.pt/', 'https://arquivo.pt/wayback/20220422230337/http://www.worten.pt/']\n",
      "Ano: 2023, Link: ['https://arquivo.pt/wayback/20230123170609/http://www.worten.pt/']\n",
      "Site: www.elcorteingles.pt\n",
      "Ano: 2005, Link: ['https://arquivo.pt/wayback/20050725031922/http://www.elcorteingles.pt/', 'https://arquivo.pt/wayback/20050615164601/http://www.elcorteingles.pt/']\n",
      "Ano: 2006, Link: ['https://arquivo.pt/wayback/20060216170739/http://www.elcorteingles.pt/']\n",
      "Ano: 2007, Link: ['https://arquivo.pt/wayback/20070929080902/http://www.elcorteingles.pt/', 'https://arquivo.pt/wayback/20070609091458/http://www.elcorteingles.pt/']\n",
      "Ano: 2008, Link: ['https://arquivo.pt/wayback/20081021184312/http://www.elcorteingles.pt/', 'https://arquivo.pt/wayback/20080312052244/http://www.elcorteingles.pt/']\n",
      "Ano: 2009, Link: ['https://arquivo.pt/wayback/20091218054927/http://www.elcorteingles.pt/', 'https://arquivo.pt/wayback/20090925180506/http://www.elcorteingles.pt/']\n",
      "Ano: 2010, Link: ['https://arquivo.pt/wayback/20100804081831/http://www.elcorteingles.pt/', 'https://arquivo.pt/wayback/20100604195522/http://www.elcorteingles.pt/']\n",
      "Ano: 2011, Link: ['https://arquivo.pt/wayback/20110702070508/http://www.elcorteingles.pt/', 'https://arquivo.pt/wayback/20110519163140/http://www.elcorteingles.pt/']\n",
      "Ano: 2012, Link: ['https://arquivo.pt/wayback/20120122091210/http://www.elcorteingles.pt/']\n",
      "Ano: 2013, Link: ['https://arquivo.pt/wayback/20131106212209/http://www.elcorteingles.pt/']\n",
      "Ano: 2014, Link: ['https://arquivo.pt/wayback/20140930070204/http://www.elcorteingles.pt/']\n",
      "Ano: 2015, Link: ['https://arquivo.pt/wayback/20151124053702/http://www.elcorteingles.pt/', 'https://arquivo.pt/wayback/20150915064743/http://www.elcorteingles.pt/']\n",
      "Ano: 2016, Link: ['https://arquivo.pt/wayback/20161106073144/http://www.elcorteingles.pt/', 'https://arquivo.pt/wayback/20160606073308/http://www.elcorteingles.pt/']\n",
      "Ano: 2017, Link: ['https://arquivo.pt/wayback/20171213035602/http://www.elcorteingles.pt/', 'https://arquivo.pt/wayback/20170806170405/http://www.elcorteingles.pt/']\n",
      "Ano: 2018, Link: None\n",
      "Ano: 2019, Link: None\n",
      "Ano: 2020, Link: ['https://arquivo.pt/wayback/20201231193929/http://www.elcorteingles.pt/', 'https://arquivo.pt/wayback/20201230193147/http://www.elcorteingles.pt/']\n",
      "Ano: 2021, Link: None\n",
      "Ano: 2022, Link: ['https://arquivo.pt/wayback/20221214020227/http://www.elcorteingles.pt/', 'https://arquivo.pt/wayback/20221213012550/http://www.elcorteingles.pt/']\n",
      "Ano: 2023, Link: ['https://arquivo.pt/wayback/20230302004226/http://www.elcorteingles.pt/', 'https://arquivo.pt/wayback/20230225022917/http://www.elcorteingles.pt/']\n",
      "Site: www.radiopopular.pt\n",
      "Ano: 2005, Link: ['https://arquivo.pt/wayback/20050722223614/http://www.radiopopular.pt/', 'https://arquivo.pt/wayback/20050618054927/http://www.radiopopular.pt/']\n",
      "Ano: 2006, Link: None\n",
      "Ano: 2007, Link: ['https://arquivo.pt/wayback/20070929122436/http://www.radiopopular.pt/']\n",
      "Ano: 2008, Link: ['https://arquivo.pt/wayback/20081022013802/http://www.radiopopular.pt/', 'https://arquivo.pt/wayback/20080314152745/http://www.radiopopular.pt/']\n",
      "Ano: 2009, Link: ['https://arquivo.pt/wayback/20091218134419/http://www.radiopopular.pt/', 'https://arquivo.pt/wayback/20090926094345/http://www.radiopopular.pt/']\n",
      "Ano: 2010, Link: ['https://arquivo.pt/wayback/20100803165209/http://www.radiopopular.pt/', 'https://arquivo.pt/wayback/20100608033255/http://www.radiopopular.pt/']\n",
      "Ano: 2011, Link: ['https://arquivo.pt/wayback/20110703001054/http://www.radiopopular.pt/', 'https://arquivo.pt/wayback/20110519195928/http://www.radiopopular.pt/']\n",
      "Ano: 2012, Link: ['https://arquivo.pt/wayback/20120123020522/http://www.radiopopular.pt/']\n",
      "Ano: 2013, Link: ['https://arquivo.pt/wayback/20131107082040/http://www.radiopopular.pt/']\n",
      "Ano: 2014, Link: ['https://arquivo.pt/wayback/20140930183354/http://www.radiopopular.pt/']\n",
      "Ano: 2015, Link: ['https://arquivo.pt/wayback/20151124215123/http://www.radiopopular.pt/', 'https://arquivo.pt/wayback/20150915063250/http://www.radiopopular.pt/']\n",
      "Ano: 2016, Link: ['https://arquivo.pt/wayback/20161106193800/http://www.radiopopular.pt/', 'https://arquivo.pt/wayback/20160606184740/http://www.radiopopular.pt/']\n",
      "Ano: 2017, Link: ['https://arquivo.pt/wayback/20170222115920/http://www.radiopopular.pt/']\n",
      "Ano: 2018, Link: ['https://arquivo.pt/wayback/20181015061743/http://www.radiopopular.pt/']\n",
      "Ano: 2019, Link: ['https://arquivo.pt/wayback/20191119234250/http://www.radiopopular.pt/']\n",
      "Ano: 2020, Link: ['https://arquivo.pt/wayback/20201014213146/http://www.radiopopular.pt/']\n",
      "Ano: 2021, Link: None\n",
      "Ano: 2022, Link: ['https://arquivo.pt/wayback/20220802044650/http://www.radiopopular.pt/', 'https://arquivo.pt/wayback/20220422135647/http://www.radiopopular.pt/']\n",
      "Ano: 2023, Link: ['https://arquivo.pt/wayback/20230123105349/http://www.radiopopular.pt/']\n",
      "Site: www.staples.pt\n",
      "Ano: 2005, Link: ['https://arquivo.pt/wayback/20050722174753/http://www.staples.pt/', 'https://arquivo.pt/wayback/20050415035119/http://www.staples.pt/']\n",
      "Ano: 2006, Link: None\n",
      "Ano: 2007, Link: ['https://arquivo.pt/wayback/20070610185333/http://www.staples.pt/']\n",
      "Ano: 2008, Link: ['https://arquivo.pt/wayback/20081022031557/http://www.staples.pt/', 'https://arquivo.pt/wayback/20080314162259/http://www.staples.pt/']\n",
      "Ano: 2009, Link: ['https://arquivo.pt/wayback/20091218154357/http://www.staples.pt/', 'https://arquivo.pt/wayback/20090926132041/http://www.staples.pt/']\n",
      "Ano: 2010, Link: ['https://arquivo.pt/wayback/20100608193358/http://www.staples.pt/']\n",
      "Ano: 2011, Link: ['https://arquivo.pt/wayback/20110703041004/http://www.staples.pt/', 'https://arquivo.pt/wayback/20110519201006/http://www.staples.pt/']\n",
      "Ano: 2012, Link: ['https://arquivo.pt/wayback/20120123054704/http://www.staples.pt/']\n",
      "Ano: 2013, Link: ['https://arquivo.pt/wayback/20131107101945/http://www.staples.pt/']\n",
      "Ano: 2014, Link: ['https://arquivo.pt/wayback/20140930210106/http://www.staples.pt/']\n",
      "Ano: 2015, Link: ['https://arquivo.pt/wayback/20151125004810/http://www.staples.pt/', 'https://arquivo.pt/wayback/20150915063424/http://www.staples.pt/']\n",
      "Ano: 2016, Link: ['https://arquivo.pt/wayback/20161106221541/http://www.staples.pt/', 'https://arquivo.pt/wayback/20160606211901/http://www.staples.pt/']\n",
      "Ano: 2017, Link: ['https://arquivo.pt/wayback/20170807081228/http://www.staples.pt/', 'https://arquivo.pt/wayback/20170613144518/http://www.staples.pt/']\n",
      "Ano: 2018, Link: ['https://arquivo.pt/wayback/20181101070404/http://www.staples.pt/', 'https://arquivo.pt/wayback/20181014075341/http://www.staples.pt/']\n",
      "Ano: 2019, Link: ['https://arquivo.pt/wayback/20191218131438/http://www.staples.pt/', 'https://arquivo.pt/wayback/20191208234103/http://www.staples.pt/']\n",
      "Ano: 2020, Link: ['https://arquivo.pt/wayback/20201231192426/http://www.staples.pt/', 'https://arquivo.pt/wayback/20201230192936/http://www.staples.pt/']\n",
      "Ano: 2021, Link: ['https://arquivo.pt/wayback/20211001222752/http://www.staples.pt/', 'https://arquivo.pt/wayback/20210831190104/http://www.staples.pt/']\n",
      "Ano: 2022, Link: ['https://arquivo.pt/wayback/20221014062758/http://www.staples.pt/', 'https://arquivo.pt/wayback/20221001165900/http://www.staples.pt/']\n",
      "Ano: 2023, Link: ['https://arquivo.pt/wayback/20230125024755/http://www.staples.pt/', 'https://arquivo.pt/wayback/20230101180802/http://www.staples.pt/']\n",
      "Site: www.pcdiga.com\n",
      "Ano: 2005, Link: ['https://arquivo.pt/wayback/20050719124815/http://www.pcdiga.com/', 'https://arquivo.pt/wayback/20050616040115/http://www.pcdiga.com/']\n",
      "Ano: 2006, Link: None\n",
      "Ano: 2007, Link: None\n",
      "Ano: 2008, Link: ['https://arquivo.pt/wayback/20081022130111/http://www.pcdiga.com/', 'https://arquivo.pt/wayback/20080314232456/http://www.pcdiga.com/']\n",
      "Ano: 2009, Link: ['https://arquivo.pt/wayback/20091219171727/http://www.pcdiga.com/', 'https://arquivo.pt/wayback/20090930103235/http://www.pcdiga.com/']\n",
      "Ano: 2010, Link: ['https://arquivo.pt/wayback/20100804133208/http://www.pcdiga.com/', 'https://arquivo.pt/wayback/20100529074750/http://www.pcdiga.com/']\n",
      "Ano: 2011, Link: ['https://arquivo.pt/wayback/20110122010135/http://www.pcdiga.com/']\n",
      "Ano: 2012, Link: None\n",
      "Ano: 2013, Link: ['https://arquivo.pt/wayback/20131105233225/http://www.pcdiga.com/']\n",
      "Ano: 2014, Link: ['https://arquivo.pt/wayback/20140905212632/http://www.pcdiga.com/']\n",
      "Ano: 2015, Link: ['https://arquivo.pt/wayback/20151112163720/http://www.pcdiga.com/', 'https://arquivo.pt/wayback/20150813175306/http://www.pcdiga.com/']\n",
      "Ano: 2016, Link: ['https://arquivo.pt/wayback/20160204172024/http://www.pcdiga.com/']\n",
      "Ano: 2017, Link: ['https://arquivo.pt/wayback/20170209162925/http://www.pcdiga.com/']\n",
      "Ano: 2018, Link: ['https://arquivo.pt/wayback/20181101232309/http://www.pcdiga.com/', 'https://arquivo.pt/wayback/20181015002820/http://www.pcdiga.com/']\n",
      "Ano: 2019, Link: ['https://arquivo.pt/wayback/20191221210603/http://www.pcdiga.com/', 'https://arquivo.pt/wayback/20191209155816/http://www.pcdiga.com/']\n",
      "Ano: 2020, Link: ['https://arquivo.pt/wayback/20200607061806/http://www.pcdiga.com/', 'https://arquivo.pt/wayback/20200601133906/http://www.pcdiga.com/']\n",
      "Ano: 2021, Link: ['https://arquivo.pt/wayback/20210821121647/http://www.pcdiga.com/', 'https://arquivo.pt/wayback/20210303222035/http://www.pcdiga.com/']\n",
      "Ano: 2022, Link: ['https://arquivo.pt/wayback/20220423225206/http://www.pcdiga.com/', 'https://arquivo.pt/wayback/20220422075305/http://www.pcdiga.com/']\n",
      "Ano: 2023, Link: ['https://arquivo.pt/wayback/20230126013756/http://www.pcdiga.com/']\n"
     ]
    }
   ],
   "source": [
    "for site, links_by_year in dados_sites.items():\n",
    "    print(f\"Site: {site}\")\n",
    "    for year, link in links_by_year.items():\n",
    "        print(f\"Ano: {year}, Link: {link}\")"
   ]
  },
  {
   "cell_type": "code",
   "execution_count": 122,
   "metadata": {},
   "outputs": [],
   "source": [
    "# guardar os dados num ficheiro csv\n",
    "df = pd.DataFrame(dados_sites)\n",
    "df.to_csv(\"sites_links.csv\")\n"
   ]
  },
  {
   "cell_type": "markdown",
   "metadata": {},
   "source": [
    "# Data collection\n",
    "A primeira analise que vamos fazer é coletar o numero de Categorias, e quais categorias estao presentes em cada um dos sites de x em x anos."
   ]
  },
  {
   "cell_type": "code",
   "execution_count": null,
   "metadata": {},
   "outputs": [],
   "source": []
  }
 ],
 "metadata": {
  "kernelspec": {
   "display_name": "base",
   "language": "python",
   "name": "python3"
  },
  "language_info": {
   "codemirror_mode": {
    "name": "ipython",
    "version": 3
   },
   "file_extension": ".py",
   "mimetype": "text/x-python",
   "name": "python",
   "nbconvert_exporter": "python",
   "pygments_lexer": "ipython3",
   "version": "3.12.4"
  }
 },
 "nbformat": 4,
 "nbformat_minor": 2
}
