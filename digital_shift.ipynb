{
 "cells": [
  {
   "cell_type": "markdown",
   "metadata": {},
   "source": [
    "# Digital Shift: The Evolution of Products and Platforms in Portuguese E-commerce"
   ]
  },
  {
   "cell_type": "markdown",
   "metadata": {},
   "source": [
    "## Introduction:\n",
    "\n",
    "E-commerce has become a major player in the retail landscape, especially in sectors like electronics, where online shopping has seen significant growth.\n",
    "\n",
    "In recent years, the competition among retailers in Portugal as Worten, Fnac, Rádio Popular, El Corte Inglés, Pc Diga and Staples has intensified. This competition has driven changes in both the types of products offered and the functionalities of their respective platforms, shaping the way consumers interact with online shopping.\n",
    "\n",
    "By analyzing historical data from Arquivo.pt, it is possible to explore the evolution of these e-commerce platforms, providing insights into how product offerings and platform features have developed over time."
   ]
  },
  {
   "cell_type": "markdown",
   "metadata": {},
   "source": [
    "## Context\n",
    "\n",
    "The Arquivo.pt platform stores archived web pages dating back to 1996, making it an invaluable resource for examining the historical trajectory of e-commerce in Portugal.\n",
    "\n",
    "For this project, Arquivo.pt will be the primary data source, allowing us to analyze past versions of e-commerce websites for major electronics retailers such as Worten, Fnac, Rádio Popular, El Corte Inglés, Pc Diga and Staples.\n",
    "\n",
    "By examining archived versions of these websites, we aim to track the changes in product offerings (with a focus on electronic devices like smartphones, laptops) and investigate how the functionalities of these platforms have evolved to improve the customer experience.\n"
   ]
  },
  {
   "cell_type": "markdown",
   "metadata": {},
   "source": [
    "## Goals\n",
    "\n",
    "The main objectives of this project are:\n",
    "\n",
    "- **Analyze the evolution of electronic product offerings over the years**, identifying key trends in product categories, and examining which products gained popularity or disappeared from the market, as well as how prices have changed.\n",
    "\n",
    "- **Examine price trends and promotional strategies** used by different retailers during key sales periods, such as Black Friday or Christmas, to identify which platforms offer the best deals.\n",
    "\n",
    "- **Evaluate the evolution of e-commerce platform functionalities**, particularly search mechanisms, filters, and personalization tools, to understand how they improved the user experience. (This part is optional and may be omitted if there isn't enough time to complete it.)\n"
   ]
  },
  {
   "cell_type": "markdown",
   "metadata": {},
   "source": [
    "#### Analyze the evolution of electronic product offerings over the years\n",
    "- **Product category trends:** Examine the number of categories and which categories each website features over time.\n",
    "- **Price changes:** Track the evolution of prices for selected products on different websites, observing how pricing strategies reflect market trends.\n",
    "\n",
    "\n",
    "#### Examine price trends and promotional strategies\n",
    "\n",
    "- **Price Evolution Over Time:** This segment will explore how product prices have fluctuated across different retailers over time, focusing on key moments such as new product launches, Black Friday, and holiday seasons.\n",
    "- **Promotion Strategies:** We will examine which retailers tend to offer the most competitive promotions during major sales events (e.g., Black Friday, Cyber Monday) and whether certain stores exhibit patterns of discounting specific product categories more aggressively than others.\n",
    "\n",
    "\n",
    "#### Evaluate the evolution of e-commerce platform functionalities\n",
    "\n",
    "- **Search and Filter Enhancements:** We will track how the search capabilities and filtering options available on these platforms have improved, especially in terms of customization (e.g., price, brand, specifications). This analysis will highlight how these improvements have helped users find products more efficiently.\n",
    "\n",
    "\n",
    "\n"
   ]
  },
  {
   "cell_type": "markdown",
   "metadata": {},
   "source": [
    "\n",
    "\n",
    "## Similar Works \n",
    "\n",
    "Several projects have explored the use of web archives to analyze the evolution of online content, providing a foundation for examining e-commerce platforms and trends. These projects serve as valuable references for understanding the methodologies and insights that can be achieved through archived web data. One notable example is:\n",
    "\n",
    "> **Primeiras páginas de jornais online portugueses\" (3rd place winner of the Arquivo.pt Prize 2021)**\n",
    "\n",
    "The \"Primeiras páginas de jornais online portugueses\" project used Arquivo.pt as a primary data source to study the historical evolution of the front pages of Portuguese online newspapers. It focused on how the visual layout, headlines, and content changed over time, highlighting shifts in news presentation and journalism trends. The project examined archived web pages to compare different periods and identify significant changes in the way news was presented, influenced by technological advancements and shifts in editorial practices.\n",
    "Relevance to the Current Project\n",
    "\n",
    "The \"Primeiras páginas de jornais online portugueses\" project shares several similarities with this e-commerce study:\n",
    "\n",
    "1. Webscrapping Arquivo.pt:\n",
    "    - Both projects leverage Arquivo.pt as a crucial resource for accessing historical web data. In the context of this e-commerce study, Arquivo.pt serves as the primary source for archived versions of e-commerce websites. This enables a longitudinal analysis of how product offerings and platform functionalities have evolved over time.\n",
    "\n",
    "2. Evolution Over Time:\n",
    "    - The newspaper project examined changes in front-page layouts and headlines over the years, while the current project focuses on changes in product categories, promotions, and website functionalities for major electronics retailers.\n",
    "    Both studies seek to understand how digital content has adapted to new trends, user preferences, and technological advancements, although in different fields (news media vs. e-commerce).\n",
    "\n",
    "3. Methodological Insights:\n",
    "    - By analyzing different time periods and identifying key moments of change, the newspaper project serves as a methodological reference for structuring this e-commerce study. It emphasizes the importance of comparing specific snapshots in time to detect meaningful changes.\n",
    "    The approach of categorizing content and examining trends in visual presentation and content types can inspire the categorization of product offerings, promotional strategies, and e-commerce features in this study."
   ]
  },
  {
   "cell_type": "markdown",
   "metadata": {},
   "source": [
    "## References\n",
    "\n",
    "1. [Arquivo.pt](https://arquivo.pt/)\n",
    "2. [Primeiras páginas de jornais online portugueses](https://hdl.handle.net/10316/92149)\n",
    "3. [Arquivo.pt API](https://github.com/arquivo/pwa-technologies/wiki/Arquivo.pt-API)\n",
    "4. [Arquivo.pt 2021 Award Winners](https://sobre.arquivo.pt/pt/conheca-os-vencedores-do-premio-arquivo-pt-2021/)\n",
    "5. [Web Scraping with Python and BeautifulSoup](https://www.datacamp.com/community/tutorials/tutorial-python-beautifulsoup-datacamp-tutorials)"
   ]
  }
 ],
 "metadata": {
  "kernelspec": {
   "display_name": "base",
   "language": "python",
   "name": "python3"
  },
  "language_info": {
   "name": "python",
   "version": "3.12.4"
  }
 },
 "nbformat": 4,
 "nbformat_minor": 2
}
